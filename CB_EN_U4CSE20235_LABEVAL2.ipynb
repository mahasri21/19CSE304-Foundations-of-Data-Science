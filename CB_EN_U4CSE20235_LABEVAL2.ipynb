{
  "nbformat": 4,
  "nbformat_minor": 0,
  "metadata": {
    "colab": {
      "provenance": []
    },
    "kernelspec": {
      "name": "python3",
      "display_name": "Python 3"
    },
    "language_info": {
      "name": "python"
    }
  },
  "cells": [
    {
      "cell_type": "markdown",
      "source": [
        "PART B"
      ],
      "metadata": {
        "id": "BncGniVTJZg5"
      }
    },
    {
      "cell_type": "markdown",
      "source": [
        "NULL HYPOTHESIS:\n",
        "\tMean is equal to 60\n",
        "\n",
        "ALTERNATE HYPOTHESIS:\n",
        "\tMean is not equal to 60\n",
        "\n",
        "\n",
        "\n",
        "\n"
      ],
      "metadata": {
        "id": "YBniY-TMK3be"
      }
    },
    {
      "cell_type": "code",
      "source": [
        "import numpy as np\n",
        "import numpy.random as npr\n",
        "import scipy.stats as st"
      ],
      "metadata": {
        "id": "KAAQNxZRJjy0"
      },
      "execution_count": 2,
      "outputs": []
    },
    {
      "cell_type": "code",
      "source": [
        "n=30\n",
        "xbar=65.10\n",
        "mu=60\n",
        "sigma=13.46\n",
        "alpha=0.05"
      ],
      "metadata": {
        "id": "XFlHtxC_JbSE"
      },
      "execution_count": 4,
      "outputs": []
    },
    {
      "cell_type": "code",
      "source": [
        "z_critical = st.norm.ppf(alpha/2)\n",
        "z_critical"
      ],
      "metadata": {
        "colab": {
          "base_uri": "https://localhost:8080/"
        },
        "id": "eUvZ4biqJpwz",
        "outputId": "062f53c6-8d1a-4cd1-ae48-4df3771ac221"
      },
      "execution_count": 5,
      "outputs": [
        {
          "output_type": "execute_result",
          "data": {
            "text/plain": [
              "-1.9599639845400545"
            ]
          },
          "metadata": {},
          "execution_count": 5
        }
      ]
    },
    {
      "cell_type": "code",
      "source": [
        "z=(xbar-mu)/(sigma/np.sqrt(n))\n",
        "z"
      ],
      "metadata": {
        "colab": {
          "base_uri": "https://localhost:8080/"
        },
        "id": "xSJ5AcdEJ08V",
        "outputId": "b6d07d38-104b-4ba5-ce4c-09faade988c7"
      },
      "execution_count": 6,
      "outputs": [
        {
          "output_type": "execute_result",
          "data": {
            "text/plain": [
              "2.075323211943792"
            ]
          },
          "metadata": {},
          "execution_count": 6
        }
      ]
    },
    {
      "cell_type": "code",
      "source": [
        "if ( z > z_critical and z <abs(z_critical)):\n",
        "    print(\"Null hypothesis cannot be rejected\")\n",
        "else:\n",
        "    print(\"Reject null hypothesis\")"
      ],
      "metadata": {
        "colab": {
          "base_uri": "https://localhost:8080/"
        },
        "id": "KROH9dpvKInV",
        "outputId": "c81e232e-189b-41d0-b292-781c67bd77fe"
      },
      "execution_count": 7,
      "outputs": [
        {
          "output_type": "stream",
          "name": "stdout",
          "text": [
            "Reject null hypothesis\n"
          ]
        }
      ]
    },
    {
      "cell_type": "markdown",
      "source": [
        "PART A"
      ],
      "metadata": {
        "id": "6qbV_jUfKsV9"
      }
    },
    {
      "cell_type": "markdown",
      "source": [
        "NULL HYPOTHESIS:purple flowering plants are close to 75%\n",
        "\n",
        "ALTERNATE HYPOTHESIS: purple flowering plants are not close to 75%"
      ],
      "metadata": {
        "id": "xniS5-hvLkKO"
      }
    },
    {
      "cell_type": "markdown",
      "source": [
        "TEST STATISTIC: WE SHOULD FIND THE DIFFERENCE BETWEEN THE NUMBER OF PURPLE FLOWERS IN SAMPLE AND THE 75% OF PURPLE FLOWERS\n",
        "z test since size is greater than 30"
      ],
      "metadata": {
        "id": "-zRDHfaEUt9d"
      }
    },
    {
      "cell_type": "markdown",
      "source": [
        "observed distance is 0.04655543595263724.\n"
      ],
      "metadata": {
        "id": "GjEwCsj4V41H"
      }
    },
    {
      "cell_type": "code",
      "source": [
        "import pandas as pd\n",
        "import numpy as np\n",
        "from scipy import stats\n",
        "import seaborn as sns\n",
        "import matplotlib.pyplot as plt"
      ],
      "metadata": {
        "id": "XFXa-QwST-kh"
      },
      "execution_count": 14,
      "outputs": []
    },
    {
      "cell_type": "code",
      "source": [
        "flowers = [\"PURPLE\",\"PURPLE\",\"PURPLE\",\"WHITE\"]"
      ],
      "metadata": {
        "id": "sEYtvjSiUBRK"
      },
      "execution_count": 15,
      "outputs": []
    },
    {
      "cell_type": "code",
      "source": [
        "NUM_PURPLE = 705 + 35\n",
        "NUM_TOTAL = 929\n",
        "NUM_WHITE = NUM_TOTAL - NUM_PURPLE\n",
        "NUM_ITERS = 2000 - 235"
      ],
      "metadata": {
        "id": "2R0cEHyBWvj_"
      },
      "execution_count": 27,
      "outputs": []
    },
    {
      "cell_type": "code",
      "source": [
        "df = pd.DataFrame({\"Color\":[\"White\",\"Purple\"],\"Hypothesis\":[0.25,0.75],\"Sample\":[NUM_WHITE/NUM_TOTAL, NUM_PURPLE/NUM_TOTAL]})"
      ],
      "metadata": {
        "id": "mygEubZxW0CS"
      },
      "execution_count": 25,
      "outputs": []
    },
    {
      "cell_type": "code",
      "source": [
        "df"
      ],
      "metadata": {
        "colab": {
          "base_uri": "https://localhost:8080/",
          "height": 112
        },
        "id": "I40sI9NzUrWy",
        "outputId": "74758284-95aa-4743-d72e-a2d31cb34137"
      },
      "execution_count": 26,
      "outputs": [
        {
          "output_type": "execute_result",
          "data": {
            "text/plain": [
              "    Color  Hypothesis    Sample\n",
              "0   White        0.25  0.227126\n",
              "1  Purple        0.75  0.772874"
            ],
            "text/html": [
              "\n",
              "  <div id=\"df-15811d73-3963-441f-aab6-f5b79116681a\">\n",
              "    <div class=\"colab-df-container\">\n",
              "      <div>\n",
              "<style scoped>\n",
              "    .dataframe tbody tr th:only-of-type {\n",
              "        vertical-align: middle;\n",
              "    }\n",
              "\n",
              "    .dataframe tbody tr th {\n",
              "        vertical-align: top;\n",
              "    }\n",
              "\n",
              "    .dataframe thead th {\n",
              "        text-align: right;\n",
              "    }\n",
              "</style>\n",
              "<table border=\"1\" class=\"dataframe\">\n",
              "  <thead>\n",
              "    <tr style=\"text-align: right;\">\n",
              "      <th></th>\n",
              "      <th>Color</th>\n",
              "      <th>Hypothesis</th>\n",
              "      <th>Sample</th>\n",
              "    </tr>\n",
              "  </thead>\n",
              "  <tbody>\n",
              "    <tr>\n",
              "      <th>0</th>\n",
              "      <td>White</td>\n",
              "      <td>0.25</td>\n",
              "      <td>0.227126</td>\n",
              "    </tr>\n",
              "    <tr>\n",
              "      <th>1</th>\n",
              "      <td>Purple</td>\n",
              "      <td>0.75</td>\n",
              "      <td>0.772874</td>\n",
              "    </tr>\n",
              "  </tbody>\n",
              "</table>\n",
              "</div>\n",
              "      <button class=\"colab-df-convert\" onclick=\"convertToInteractive('df-15811d73-3963-441f-aab6-f5b79116681a')\"\n",
              "              title=\"Convert this dataframe to an interactive table.\"\n",
              "              style=\"display:none;\">\n",
              "        \n",
              "  <svg xmlns=\"http://www.w3.org/2000/svg\" height=\"24px\"viewBox=\"0 0 24 24\"\n",
              "       width=\"24px\">\n",
              "    <path d=\"M0 0h24v24H0V0z\" fill=\"none\"/>\n",
              "    <path d=\"M18.56 5.44l.94 2.06.94-2.06 2.06-.94-2.06-.94-.94-2.06-.94 2.06-2.06.94zm-11 1L8.5 8.5l.94-2.06 2.06-.94-2.06-.94L8.5 2.5l-.94 2.06-2.06.94zm10 10l.94 2.06.94-2.06 2.06-.94-2.06-.94-.94-2.06-.94 2.06-2.06.94z\"/><path d=\"M17.41 7.96l-1.37-1.37c-.4-.4-.92-.59-1.43-.59-.52 0-1.04.2-1.43.59L10.3 9.45l-7.72 7.72c-.78.78-.78 2.05 0 2.83L4 21.41c.39.39.9.59 1.41.59.51 0 1.02-.2 1.41-.59l7.78-7.78 2.81-2.81c.8-.78.8-2.07 0-2.86zM5.41 20L4 18.59l7.72-7.72 1.47 1.35L5.41 20z\"/>\n",
              "  </svg>\n",
              "      </button>\n",
              "      \n",
              "  <style>\n",
              "    .colab-df-container {\n",
              "      display:flex;\n",
              "      flex-wrap:wrap;\n",
              "      gap: 12px;\n",
              "    }\n",
              "\n",
              "    .colab-df-convert {\n",
              "      background-color: #E8F0FE;\n",
              "      border: none;\n",
              "      border-radius: 50%;\n",
              "      cursor: pointer;\n",
              "      display: none;\n",
              "      fill: #1967D2;\n",
              "      height: 32px;\n",
              "      padding: 0 0 0 0;\n",
              "      width: 32px;\n",
              "    }\n",
              "\n",
              "    .colab-df-convert:hover {\n",
              "      background-color: #E2EBFA;\n",
              "      box-shadow: 0px 1px 2px rgba(60, 64, 67, 0.3), 0px 1px 3px 1px rgba(60, 64, 67, 0.15);\n",
              "      fill: #174EA6;\n",
              "    }\n",
              "\n",
              "    [theme=dark] .colab-df-convert {\n",
              "      background-color: #3B4455;\n",
              "      fill: #D2E3FC;\n",
              "    }\n",
              "\n",
              "    [theme=dark] .colab-df-convert:hover {\n",
              "      background-color: #434B5C;\n",
              "      box-shadow: 0px 1px 3px 1px rgba(0, 0, 0, 0.15);\n",
              "      filter: drop-shadow(0px 1px 2px rgba(0, 0, 0, 0.3));\n",
              "      fill: #FFFFFF;\n",
              "    }\n",
              "  </style>\n",
              "\n",
              "      <script>\n",
              "        const buttonEl =\n",
              "          document.querySelector('#df-15811d73-3963-441f-aab6-f5b79116681a button.colab-df-convert');\n",
              "        buttonEl.style.display =\n",
              "          google.colab.kernel.accessAllowed ? 'block' : 'none';\n",
              "\n",
              "        async function convertToInteractive(key) {\n",
              "          const element = document.querySelector('#df-15811d73-3963-441f-aab6-f5b79116681a');\n",
              "          const dataTable =\n",
              "            await google.colab.kernel.invokeFunction('convertToInteractive',\n",
              "                                                     [key], {});\n",
              "          if (!dataTable) return;\n",
              "\n",
              "          const docLinkHtml = 'Like what you see? Visit the ' +\n",
              "            '<a target=\"_blank\" href=https://colab.research.google.com/notebooks/data_table.ipynb>data table notebook</a>'\n",
              "            + ' to learn more about interactive tables.';\n",
              "          element.innerHTML = '';\n",
              "          dataTable['output_type'] = 'display_data';\n",
              "          await google.colab.output.renderOutput(dataTable, element);\n",
              "          const docLink = document.createElement('div');\n",
              "          docLink.innerHTML = docLinkHtml;\n",
              "          element.appendChild(docLink);\n",
              "        }\n",
              "      </script>\n",
              "    </div>\n",
              "  </div>\n",
              "  "
            ]
          },
          "metadata": {},
          "execution_count": 26
        }
      ]
    },
    {
      "cell_type": "code",
      "source": [
        "def tvd(dist1, dist2):\n",
        "    return abs(np.subtract(dist1, dist2)).sum() / 2"
      ],
      "metadata": {
        "id": "2yaFJHZyW9Kr"
      },
      "execution_count": 28,
      "outputs": []
    },
    {
      "cell_type": "code",
      "source": [
        "given_tvd = tvd(df[\"Hypothesis\"],df[\"Sample\"])\n",
        "print(given_tvd)"
      ],
      "metadata": {
        "colab": {
          "base_uri": "https://localhost:8080/"
        },
        "id": "f8f_0hCMW_5-",
        "outputId": "3c7de477-ed27-4cc4-e859-9c80aa37d224"
      },
      "execution_count": 29,
      "outputs": [
        {
          "output_type": "stream",
          "name": "stdout",
          "text": [
            "0.022874058127018274\n"
          ]
        }
      ]
    },
    {
      "cell_type": "code",
      "source": [
        "def sample_proportions(sample_size, probabilities):\n",
        "    return np.random.multinomial(sample_size, probabilities)/ sample_size"
      ],
      "metadata": {
        "id": "c338Z2f5XCm9"
      },
      "execution_count": 30,
      "outputs": []
    },
    {
      "cell_type": "code",
      "source": [
        "sampling_tvd = []\n",
        "for _ in range(NUM_ITERS):\n",
        "    tmp = sample_proportions(NUM_TOTAL, df[\"Hypothesis\"])\n",
        "    sampling_tvd.append(tvd(tmp, df[\"Hypothesis\"]))"
      ],
      "metadata": {
        "id": "gucqOtXZXP5d"
      },
      "execution_count": 33,
      "outputs": []
    },
    {
      "cell_type": "code",
      "source": [
        "np.count_nonzero(sampling_tvd >= given_tvd) / len(sampling_tvd)"
      ],
      "metadata": {
        "colab": {
          "base_uri": "https://localhost:8080/"
        },
        "id": "2JrA7UfCYEsX",
        "outputId": "510a29c2-20ef-4d78-caa0-cc58a7d71605"
      },
      "execution_count": 36,
      "outputs": [
        {
          "output_type": "execute_result",
          "data": {
            "text/plain": [
              "0.11274787535410764"
            ]
          },
          "metadata": {},
          "execution_count": 36
        }
      ]
    },
    {
      "cell_type": "code",
      "source": [
        "stats.norm.ppf(0.11)"
      ],
      "metadata": {
        "colab": {
          "base_uri": "https://localhost:8080/"
        },
        "id": "J0QAKX9CYFsH",
        "outputId": "9d37880e-6136-4714-bfc6-76aff195b7d8"
      },
      "execution_count": 37,
      "outputs": [
        {
          "output_type": "execute_result",
          "data": {
            "text/plain": [
              "-1.2265281200366098"
            ]
          },
          "metadata": {},
          "execution_count": 37
        }
      ]
    },
    {
      "cell_type": "code",
      "source": [
        "fig, ax = plt.subplots()\n",
        "sns.histplot(ax=ax, x=sampling_tvd)\n",
        "plt.scatter(given_tvd, 1, marker=\"o\", s=100, color=\"r\")\n",
        "plt.show()"
      ],
      "metadata": {
        "colab": {
          "base_uri": "https://localhost:8080/",
          "height": 265
        },
        "id": "1Ro2pbHQXkph",
        "outputId": "b2bdfe0d-8a4a-4675-e26d-e9a43869350d"
      },
      "execution_count": 35,
      "outputs": [
        {
          "output_type": "display_data",
          "data": {
            "text/plain": [
              "<Figure size 432x288 with 1 Axes>"
            ],
            "image/png": "[encoded data removed]"
          },
          "metadata": {
            "needs_background": "light"
          }
        }
      ]
    },
    {
      "cell_type": "markdown",
      "source": [
        "RESULT: THE OBSERVED PROBABILITY IS 11% WHICH IS GREATER THAN 5% SO WE CAN'T REJECT THE NULL HYPOTHESIS AND CONCLUDE THAT PURPLE PLANTS CONTRIBUTE 75%"
      ],
      "metadata": {
        "id": "b5CUGrePYPPJ"
      }
    },
    {
      "cell_type": "code",
      "source": [],
      "metadata": {
        "id": "7sE3Wwl6YlBi"
      },
      "execution_count": null,
      "outputs": []
    }
  ]
}