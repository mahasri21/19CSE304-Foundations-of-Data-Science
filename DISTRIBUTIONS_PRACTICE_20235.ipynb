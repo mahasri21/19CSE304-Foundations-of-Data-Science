{
  "cells": [
    {
      "cell_type": "code",
      "execution_count": null,
      "metadata": {
        "id": "QIFD1rPeV5qf"
      },
      "outputs": [],
      "source": [
        "#DISTRIBUTIONS"
      ]
    },
    {
      "cell_type": "code",
      "execution_count": null,
      "metadata": {
        "id": "sytD1P_7V5qk"
      },
      "outputs": [],
      "source": [
        "import numpy as np"
      ]
    },
    {
      "cell_type": "code",
      "execution_count": null,
      "metadata": {
        "colab": {
          "base_uri": "https://localhost:8080/"
        },
        "id": "DuzfhQzNV5q2",
        "outputId": "7ac0f4da-fd5a-4f48-9e9a-bab5de791ed0"
      },
      "outputs": [
        {
          "output_type": "execute_result",
          "data": {
            "text/plain": [
              "0.13515"
            ]
          },
          "metadata": {},
          "execution_count": 3
        }
      ],
      "source": [
        "sum(np.random.binomial(12, 0.2, 20000) == 4)/20000. # Exactly four answers correct"
      ]
    },
    {
      "cell_type": "code",
      "execution_count": null,
      "metadata": {
        "colab": {
          "base_uri": "https://localhost:8080/"
        },
        "id": "o47JlbnSV5q6",
        "outputId": "888caddb-2bcb-432a-aee6-2aa893255d2b"
      },
      "outputs": [
        {
          "output_type": "execute_result",
          "data": {
            "text/plain": [
              "0.9266"
            ]
          },
          "metadata": {},
          "execution_count": 4
        }
      ],
      "source": [
        "sum(np.random.binomial(12, 0.2, 20000) <= 4)/20000. # four or less correct"
      ]
    },
    {
      "cell_type": "code",
      "execution_count": null,
      "metadata": {
        "colab": {
          "base_uri": "https://localhost:8080/"
        },
        "id": "olukd1BEV5rG",
        "outputId": "86f26466-62b6-424f-8cc6-93e0ea4ceaf8"
      },
      "outputs": [
        {
          "output_type": "execute_result",
          "data": {
            "text/plain": [
              "0.3883"
            ]
          },
          "metadata": {},
          "execution_count": 5
        }
      ],
      "source": [
        "sum(np.random.binomial(9, 0.1, 20000) == 0)/20000."
      ]
    },
    {
      "cell_type": "code",
      "execution_count": null,
      "metadata": {
        "colab": {
          "base_uri": "https://localhost:8080/"
        },
        "id": "x3z4u8R8V5rI",
        "outputId": "48b4a4d8-401d-48ca-ffb7-2f1ac3d304f1"
      },
      "outputs": [
        {
          "output_type": "execute_result",
          "data": {
            "text/plain": [
              "0.1095"
            ]
          },
          "metadata": {},
          "execution_count": 6
        }
      ],
      "source": [
        "sum(np.random.poisson(12, 10000) >=17)/10000\n"
      ]
    },
    {
      "cell_type": "code",
      "execution_count": null,
      "metadata": {
        "id": "oSQCGtfuV5rJ"
      },
      "outputs": [],
      "source": [
        "#Uniform Distribution"
      ]
    },
    {
      "cell_type": "code",
      "execution_count": null,
      "metadata": {
        "colab": {
          "base_uri": "https://localhost:8080/"
        },
        "id": "FsyLpuOiV5rK",
        "outputId": "a9d45dee-c8ec-4349-8103-bbb324a2ea6c"
      },
      "outputs": [
        {
          "output_type": "execute_result",
          "data": {
            "text/plain": [
              "0.779"
            ]
          },
          "metadata": {},
          "execution_count": 8
        }
      ],
      "source": [
        "sum(np.random.uniform(0,20,1000) >5)/1000"
      ]
    },
    {
      "cell_type": "code",
      "execution_count": null,
      "metadata": {
        "colab": {
          "base_uri": "https://localhost:8080/"
        },
        "id": "lcFijIAsV5rL",
        "outputId": "618926fc-6a91-4424-8048-e0ee85a1894f"
      },
      "outputs": [
        {
          "output_type": "execute_result",
          "data": {
            "text/plain": [
              "0.483"
            ]
          },
          "metadata": {},
          "execution_count": 9
        }
      ],
      "source": [
        "sum(np.random.uniform(0,20,1000) <10)/1000"
      ]
    },
    {
      "cell_type": "code",
      "execution_count": null,
      "metadata": {
        "colab": {
          "base_uri": "https://localhost:8080/"
        },
        "id": "ctousiWmV5rM",
        "outputId": "9e4e2277-7b3f-4055-cac2-e68e0a86f6ce"
      },
      "outputs": [
        {
          "output_type": "execute_result",
          "data": {
            "text/plain": [
              "0.271"
            ]
          },
          "metadata": {},
          "execution_count": 10
        }
      ],
      "source": [
        "(sum(np.random.uniform(0,20,1000) >5)/1000) - (sum(np.random.uniform(0,20,1000) <10)/1000)"
      ]
    },
    {
      "cell_type": "code",
      "execution_count": null,
      "metadata": {
        "id": "KA_dNPbNV5rN"
      },
      "outputs": [],
      "source": [
        "s = np.random.uniform(-1,0,1000)\n",
        "#s"
      ]
    },
    {
      "cell_type": "code",
      "execution_count": null,
      "metadata": {
        "colab": {
          "base_uri": "https://localhost:8080/"
        },
        "id": "U4AUBJ3fV5rO",
        "outputId": "ca22a747-570e-4f4b-aa05-753501c7d718"
      },
      "outputs": [
        {
          "output_type": "execute_result",
          "data": {
            "text/plain": [
              "False"
            ]
          },
          "metadata": {},
          "execution_count": 12
        }
      ],
      "source": [
        "np.all(s >= 0)"
      ]
    },
    {
      "cell_type": "code",
      "execution_count": null,
      "metadata": {
        "colab": {
          "base_uri": "https://localhost:8080/"
        },
        "id": "VaXSkhHLV5rO",
        "outputId": "cfb821be-02a7-4cb7-b7d6-43cb749ace79"
      },
      "outputs": [
        {
          "output_type": "execute_result",
          "data": {
            "text/plain": [
              "True"
            ]
          },
          "metadata": {},
          "execution_count": 13
        }
      ],
      "source": [
        "np.all(s < 20)"
      ]
    },
    {
      "cell_type": "code",
      "execution_count": null,
      "metadata": {
        "id": "h2DcC6DHV5rP"
      },
      "outputs": [],
      "source": [
        "# Normal Distribution"
      ]
    },
    {
      "cell_type": "code",
      "execution_count": null,
      "metadata": {
        "colab": {
          "base_uri": "https://localhost:8080/"
        },
        "id": "NKDcsQKwV5rP",
        "outputId": "98d76b6b-ca3d-4716-beb5-a6d97b063777"
      },
      "outputs": [
        {
          "output_type": "execute_result",
          "data": {
            "text/plain": [
              "0.064"
            ]
          },
          "metadata": {},
          "execution_count": 15
        }
      ],
      "source": [
        "mu, sigma = 10, 2 # mean and standard deviation\n",
        "sum(np.random.normal(mu, sigma, 1000) >13)/1000"
      ]
    },
    {
      "cell_type": "code",
      "execution_count": null,
      "metadata": {
        "id": "19UjWgczV5rQ"
      },
      "outputs": [],
      "source": [
        " s = np.random.normal(mu, sigma, 1000)"
      ]
    },
    {
      "cell_type": "code",
      "execution_count": null,
      "metadata": {
        "colab": {
          "base_uri": "https://localhost:8080/",
          "height": 282
        },
        "id": "vvTQpuGKV5rR",
        "outputId": "5bf9412c-e9a9-46dd-926d-0e18659dccc0"
      },
      "outputs": [
        {
          "output_type": "display_data",
          "data": {
            "text/plain": [
              "<Figure size 432x288 with 1 Axes>"
            ],
            "image/png": "[encoded data removed]"
          },
          "metadata": {}
        }
      ],
      "source": [
        "import matplotlib.pyplot as plt\n",
        "%matplotlib inline\n",
        "plt.style.use('fivethirtyeight')\n",
        "count, bins, ignored = plt.hist(s, 30, density=True)\n",
        "plt.plot(bins, 1/(sigma * np.sqrt(2 * np.pi)) *\n",
        "np.exp( - (bins - mu)**2 / (2 * sigma**2) ),\n",
        "linewidth=2, color='r')\n",
        "plt.show()"
      ]
    },
    {
      "cell_type": "code",
      "execution_count": null,
      "metadata": {
        "id": "Fxzb0p18V5rS"
      },
      "outputs": [],
      "source": [
        "#Exponential"
      ]
    },
    {
      "cell_type": "code",
      "execution_count": null,
      "metadata": {
        "id": "dOZqCIXlV5rS"
      },
      "outputs": [],
      "source": []
    },
    {
      "cell_type": "code",
      "execution_count": null,
      "metadata": {
        "colab": {
          "base_uri": "https://localhost:8080/"
        },
        "id": "ddfK9-J1V5rT",
        "outputId": "6e0d69b2-45c6-4148-8a86-51f6fff4d6b1"
      },
      "outputs": [
        {
          "output_type": "execute_result",
          "data": {
            "text/plain": [
              "0.868"
            ]
          },
          "metadata": {},
          "execution_count": 21
        }
      ],
      "source": [
        "sum(np.random.exponential(scale=1/4,size=1000) < 0.5)/1000\n"
      ]
    },
    {
      "cell_type": "code",
      "execution_count": null,
      "metadata": {
        "id": "XGfJ7UxCV5rU"
      },
      "outputs": [],
      "source": [
        "1/1.4"
      ]
    },
    {
      "cell_type": "code",
      "execution_count": null,
      "metadata": {
        "id": "zeoqaA1nV5rU"
      },
      "outputs": [],
      "source": [
        "#np.random.exponential(scale=1.4, size=1000)"
      ]
    },
    {
      "cell_type": "code",
      "execution_count": null,
      "metadata": {
        "colab": {
          "base_uri": "https://localhost:8080/"
        },
        "id": "UZiXzzqbV5rV",
        "outputId": "e75321ff-ab84-465e-b4cd-aa39fd848ff8"
      },
      "outputs": [
        {
          "output_type": "execute_result",
          "data": {
            "text/plain": [
              "0.2969"
            ]
          },
          "metadata": {},
          "execution_count": 24
        }
      ],
      "source": [
        "sum(np.random.exponential(scale=1.4, size=10000) <0.5)/10000"
      ]
    },
    {
      "cell_type": "code",
      "execution_count": null,
      "metadata": {
        "colab": {
          "base_uri": "https://localhost:8080/"
        },
        "id": "X6CIc4MwV5rV",
        "outputId": "476ac732-971d-417f-deed-54b26423bf07"
      },
      "outputs": [
        {
          "output_type": "execute_result",
          "data": {
            "text/plain": [
              "0.30032746262486965"
            ]
          },
          "metadata": {},
          "execution_count": 25
        }
      ],
      "source": [
        "import math\n",
        "x = -(0.5/1.4)\n",
        "1-math.exp( x )"
      ]
    },
    {
      "cell_type": "code",
      "execution_count": null,
      "metadata": {
        "colab": {
          "base_uri": "https://localhost:8080/"
        },
        "id": "bR96xCUTV5rW",
        "outputId": "e804b207-4a1d-4f0e-f425-2b8a539d80ad"
      },
      "outputs": [
        {
          "output_type": "execute_result",
          "data": {
            "text/plain": [
              "0.4916"
            ]
          },
          "metadata": {},
          "execution_count": 26
        }
      ],
      "source": [
        "sum(np.random.exponential(scale=12, size=10000) <8)/10000"
      ]
    },
    {
      "cell_type": "code",
      "execution_count": null,
      "metadata": {
        "colab": {
          "base_uri": "https://localhost:8080/"
        },
        "id": "hyf3ZdARV5rW",
        "outputId": "952c044c-1a07-4060-be93-fba379163ac7"
      },
      "outputs": [
        {
          "output_type": "execute_result",
          "data": {
            "text/plain": [
              "0.486582880967408"
            ]
          },
          "metadata": {},
          "execution_count": 27
        }
      ],
      "source": [
        "import math\n",
        "x = -(8/12)\n",
        "1-math.exp( x )"
      ]
    },
    {
      "cell_type": "code",
      "execution_count": null,
      "metadata": {
        "id": "oY__sa7RV5rX"
      },
      "outputs": [],
      "source": []
    }
  ],
  "metadata": {
    "kernelspec": {
      "display_name": "Python 3",
      "language": "python",
      "name": "python3"
    },
    "language_info": {
      "codemirror_mode": {
        "name": "ipython",
        "version": 3
      },
      "file_extension": ".py",
      "mimetype": "text/x-python",
      "name": "python",
      "nbconvert_exporter": "python",
      "pygments_lexer": "ipython3",
      "version": "3.7.6"
    },
    "colab": {
      "provenance": []
    }
  },
  "nbformat": 4,
  "nbformat_minor": 0
}