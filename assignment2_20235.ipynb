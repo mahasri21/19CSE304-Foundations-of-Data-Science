{
  "nbformat": 4,
  "nbformat_minor": 0,
  "metadata": {
    "colab": {
      "provenance": [],
      "collapsed_sections": []
    },
    "kernelspec": {
      "name": "python3",
      "display_name": "Python 3"
    },
    "language_info": {
      "name": "python"
    }
  },
  "cells": [
    {
      "cell_type": "code",
      "execution_count": null,
      "metadata": {
        "id": "TmHdBZy_3y4S"
      },
      "outputs": [],
      "source": [
        "import pandas as pd\n",
        "import numpy as np"
      ]
    },
    {
      "cell_type": "code",
      "source": [
        "data=pd.read_csv(\"/content/nc-est2015-agesex-res.csv\")\n",
        "print(data)"
      ],
      "metadata": {
        "colab": {
          "base_uri": "https://localhost:8080/"
        },
        "id": "1LKl_Vcu4I6_",
        "outputId": "7d83e535-a295-44aa-ac2a-34f3382db444"
      },
      "execution_count": null,
      "outputs": [
        {
          "output_type": "stream",
          "name": "stdout",
          "text": [
            "     SEX  AGE  CENSUS2010POP  ESTIMATESBASE2010  POPESTIMATE2010  \\\n",
            "0      0    0        3944153            3944160          3951330   \n",
            "1      0    1        3978070            3978090          3957888   \n",
            "2      0    2        4096929            4096939          4090862   \n",
            "3      0    3        4119040            4119051          4111920   \n",
            "4      0    4        4063170            4063186          4077551   \n",
            "..   ...  ...            ...                ...              ...   \n",
            "301    2   97          53582              53605            54118   \n",
            "302    2   98          36641              36675            37532   \n",
            "303    2   99          26193              26214            26074   \n",
            "304    2  100          44202              44246            45058   \n",
            "305    2  999      156964212          156969328        157258820   \n",
            "\n",
            "     POPESTIMATE2011  POPESTIMATE2012  POPESTIMATE2013  POPESTIMATE2014  \\\n",
            "0            3963087          3926540          3931141          3949775   \n",
            "1            3966551          3977939          3942872          3949776   \n",
            "2            3971565          3980095          3992720          3959664   \n",
            "3            4102470          3983157          3992734          4007079   \n",
            "4            4122294          4112849          3994449          4005716   \n",
            "..               ...              ...              ...              ...   \n",
            "301            57159            59533            61255            62779   \n",
            "302            40116            42857            44359            46208   \n",
            "303            27030            29320            31112            32517   \n",
            "304            47556            50661            53902            58008   \n",
            "305        158427085        159581546        160720625        161952064   \n",
            "\n",
            "     POPESTIMATE2015  \n",
            "0            3978038  \n",
            "1            3968564  \n",
            "2            3966583  \n",
            "3            3974061  \n",
            "4            4020035  \n",
            "..               ...  \n",
            "301            69285  \n",
            "302            47272  \n",
            "303            34064  \n",
            "304            61886  \n",
            "305        163189523  \n",
            "\n",
            "[306 rows x 10 columns]\n"
          ]
        }
      ]
    },
    {
      "cell_type": "code",
      "source": [
        "print(data.size)"
      ],
      "metadata": {
        "colab": {
          "base_uri": "https://localhost:8080/"
        },
        "id": "z3Awr1Gs41at",
        "outputId": "c29054e3-12e3-4c53-d334-a5c95a2be745"
      },
      "execution_count": null,
      "outputs": [
        {
          "output_type": "stream",
          "name": "stdout",
          "text": [
            "3060\n"
          ]
        }
      ]
    },
    {
      "cell_type": "code",
      "source": [
        "print(data.describe())"
      ],
      "metadata": {
        "colab": {
          "base_uri": "https://localhost:8080/"
        },
        "id": "1HzZ2Jsa5BuQ",
        "outputId": "a8d6ebef-3e6e-4c67-a617-ec9614e569e7"
      },
      "execution_count": null,
      "outputs": [
        {
          "output_type": "stream",
          "name": "stdout",
          "text": [
            "              SEX         AGE  CENSUS2010POP  ESTIMATESBASE2010  \\\n",
            "count  306.000000  306.000000   3.060000e+02       3.060000e+02   \n",
            "mean     1.000000   59.303922   4.035889e+06       4.036054e+06   \n",
            "std      0.817834   98.060950   2.140881e+07       2.140968e+07   \n",
            "min      0.000000    0.000000   6.073000e+03       6.075000e+03   \n",
            "25%      0.000000   25.000000   9.987065e+05       9.987415e+05   \n",
            "50%      1.000000   50.500000   2.045286e+06       2.045342e+06   \n",
            "75%      2.000000   76.000000   2.304370e+06       2.304525e+06   \n",
            "max      2.000000  999.000000   3.087455e+08       3.087581e+08   \n",
            "\n",
            "       POPESTIMATE2010  POPESTIMATE2011  POPESTIMATE2012  POPESTIMATE2013  \\\n",
            "count     3.060000e+02     3.060000e+02     3.060000e+02     3.060000e+02   \n",
            "mean      4.043750e+06     4.074756e+06     4.105917e+06     4.136306e+06   \n",
            "std       2.145038e+07     2.161430e+07     2.177900e+07     2.193965e+07   \n",
            "min       6.104000e+03     6.606000e+03     7.459000e+03     8.159000e+03   \n",
            "25%       1.010409e+06     1.045244e+06     1.073482e+06     1.121864e+06   \n",
            "50%       2.047912e+06     2.051284e+06     2.054609e+06     2.050533e+06   \n",
            "75%       2.304142e+06     2.321829e+06     2.335085e+06     2.349450e+06   \n",
            "max       3.093469e+08     3.117189e+08     3.141026e+08     3.164274e+08   \n",
            "\n",
            "       POPESTIMATE2014  POPESTIMATE2015  \n",
            "count     3.060000e+02     3.060000e+02  \n",
            "mean      4.168724e+06     4.201553e+06  \n",
            "std       2.211105e+07     2.228462e+07  \n",
            "min       8.951000e+03     9.577000e+03  \n",
            "25%       1.156036e+06     1.162476e+06  \n",
            "50%       2.060284e+06     2.062285e+06  \n",
            "75%       2.387392e+06     2.415332e+06  \n",
            "max       3.189074e+08     3.214188e+08  \n"
          ]
        }
      ]
    },
    {
      "cell_type": "code",
      "source": [
        "data.rename(columns={'POPESTIMATE2010':'2010','POPESTIMATE2014':'2014'}, inplace = True)\n",
        "print(data.columns)"
      ],
      "metadata": {
        "colab": {
          "base_uri": "https://localhost:8080/"
        },
        "id": "haiBoB_25kpz",
        "outputId": "1982371f-df20-4dec-c418-532bc86a0e0a"
      },
      "execution_count": null,
      "outputs": [
        {
          "output_type": "stream",
          "name": "stdout",
          "text": [
            "Index(['SEX', 'AGE', 'CENSUS2010POP', 'ESTIMATESBASE2010', '2010',\n",
            "       'POPESTIMATE2011', 'POPESTIMATE2012', 'POPESTIMATE2013', '2014',\n",
            "       'POPESTIMATE2015'],\n",
            "      dtype='object')\n"
          ]
        }
      ]
    },
    {
      "cell_type": "code",
      "source": [
        "print(data.head(10))"
      ],
      "metadata": {
        "colab": {
          "base_uri": "https://localhost:8080/"
        },
        "id": "ZB0qUPgR7RQI",
        "outputId": "2e2cba36-8e54-4eff-8b70-ab665c4d939d"
      },
      "execution_count": null,
      "outputs": [
        {
          "output_type": "stream",
          "name": "stdout",
          "text": [
            "   SEX  AGE  CENSUS2010POP  ESTIMATESBASE2010     2010  POPESTIMATE2011  \\\n",
            "0    0    0        3944153            3944160  3951330          3963087   \n",
            "1    0    1        3978070            3978090  3957888          3966551   \n",
            "2    0    2        4096929            4096939  4090862          3971565   \n",
            "3    0    3        4119040            4119051  4111920          4102470   \n",
            "4    0    4        4063170            4063186  4077551          4122294   \n",
            "5    0    5        4056858            4056872  4064653          4087709   \n",
            "6    0    6        4066381            4066412  4073013          4074993   \n",
            "7    0    7        4030579            4030594  4043046          4083225   \n",
            "8    0    8        4046486            4046497  4025604          4053203   \n",
            "9    0    9        4148353            4148369  4125415          4035710   \n",
            "\n",
            "   POPESTIMATE2012  POPESTIMATE2013     2014  POPESTIMATE2015  \n",
            "0          3926540          3931141  3949775          3978038  \n",
            "1          3977939          3942872  3949776          3968564  \n",
            "2          3980095          3992720  3959664          3966583  \n",
            "3          3983157          3992734  4007079          3974061  \n",
            "4          4112849          3994449  4005716          4020035  \n",
            "5          4132242          4123626  4006900          4018158  \n",
            "6          4097605          4142916  4135930          4019207  \n",
            "7          4084913          4108349  4155326          4148360  \n",
            "8          4093177          4095711  4120903          4167887  \n",
            "9          4063152          4104072  4108349          4133564  \n"
          ]
        }
      ]
    },
    {
      "cell_type": "code",
      "source": [
        "print(data.iloc[15])\n",
        "print(data.iloc[22])"
      ],
      "metadata": {
        "colab": {
          "base_uri": "https://localhost:8080/"
        },
        "id": "IYLvtesR7a2g",
        "outputId": "276b455d-033d-4273-ee8e-f4dd13f543ac"
      },
      "execution_count": null,
      "outputs": [
        {
          "output_type": "stream",
          "name": "stdout",
          "text": [
            "SEX                        0\n",
            "AGE                       15\n",
            "CENSUS2010POP        4242820\n",
            "ESTIMATESBASE2010    4242946\n",
            "2010                 4231002\n",
            "POPESTIMATE2011      4158941\n",
            "POPESTIMATE2012      4144019\n",
            "POPESTIMATE2013      4149121\n",
            "2014                 4164796\n",
            "POPESTIMATE2015      4249742\n",
            "Name: 15, dtype: int64\n",
            "SEX                        0\n",
            "AGE                       22\n",
            "CENSUS2010POP        4264642\n",
            "ESTIMATESBASE2010    4264946\n",
            "2010                 4287005\n",
            "POPESTIMATE2011      4415300\n",
            "POPESTIMATE2012      4628459\n",
            "POPESTIMATE2013      4665965\n",
            "2014                 4615729\n",
            "POPESTIMATE2015      4529472\n",
            "Name: 22, dtype: int64\n"
          ]
        }
      ]
    },
    {
      "cell_type": "code",
      "source": [
        "data['change','percentage change']=0\n",
        "print(data.columns)"
      ],
      "metadata": {
        "colab": {
          "base_uri": "https://localhost:8080/"
        },
        "id": "4xbK32UT8N-X",
        "outputId": "50d0cdbb-b433-41f4-8576-b0f51a24d829"
      },
      "execution_count": null,
      "outputs": [
        {
          "output_type": "stream",
          "name": "stdout",
          "text": [
            "Index([                          'SEX',                           'AGE',\n",
            "                       'CENSUS2010POP',             'ESTIMATESBASE2010',\n",
            "                                '2010',               'POPESTIMATE2011',\n",
            "                     'POPESTIMATE2012',               'POPESTIMATE2013',\n",
            "                                '2014',               'POPESTIMATE2015',\n",
            "       ('change', 'percentage change')],\n",
            "      dtype='object')\n"
          ]
        }
      ]
    },
    {
      "cell_type": "code",
      "source": [
        "print(data.loc[(data['AGE']>=67) & (data['AGE']<=71)])"
      ],
      "metadata": {
        "id": "uzoBR9df-Ffs",
        "colab": {
          "base_uri": "https://localhost:8080/"
        },
        "outputId": "1994f645-f1ff-4d93-f23e-dcb11869fcef"
      },
      "execution_count": null,
      "outputs": [
        {
          "output_type": "stream",
          "name": "stdout",
          "text": [
            "     SEX  AGE  CENSUS2010POP  ESTIMATESBASE2010  POPESTIMATE2010  \\\n",
            "67     0   67        2649365            2649426          2693707   \n",
            "68     0   68        2323672            2323736          2359816   \n",
            "69     0   69        2142324            2142381          2167830   \n",
            "70     0   70        2043121            2043178          2062577   \n",
            "71     0   71        1949323            1949391          1953607   \n",
            "169    1   67        1248906            1248938          1270145   \n",
            "170    1   68        1087296            1087339          1105699   \n",
            "171    1   69         994759             994797          1006782   \n",
            "172    1   70         945611             945642           954073   \n",
            "173    1   71         900148             900187           903258   \n",
            "271    2   67        1400459            1400488          1423562   \n",
            "272    2   68        1236376            1236397          1254117   \n",
            "273    2   69        1147565            1147584          1161048   \n",
            "274    2   70        1097510            1097536          1108504   \n",
            "275    2   71        1049175            1049204          1050349   \n",
            "\n",
            "     POPESTIMATE2011  POPESTIMATE2012  POPESTIMATE2013  POPESTIMATE2014  \\\n",
            "67           2586302          2612002          2609390          3485241   \n",
            "68           2654106          2548669          2574501          2572359   \n",
            "69           2321925          2612071          2507744          2534295   \n",
            "70           2129707          2282127          2566440          2465438   \n",
            "71           2022972          2090119          2238833          2519705   \n",
            "169          1218999          1232697          1233432          1652998   \n",
            "170          1246765          1196783          1210461          1211278   \n",
            "171          1083646          1222242          1173071          1186872   \n",
            "172           984933          1060828          1195964          1148508   \n",
            "173           931570           962386          1036100          1169115   \n",
            "271          1367303          1379305          1375958          1832243   \n",
            "272          1407341          1351886          1364040          1361081   \n",
            "273          1238279          1389829          1334673          1347423   \n",
            "274          1144774          1221299          1370476          1316930   \n",
            "275          1091402          1127733          1202733          1350590   \n",
            "\n",
            "     POPESTIMATE2015  \n",
            "67           3304187  \n",
            "68           3436357  \n",
            "69           2532747  \n",
            "70           2492490  \n",
            "71           2421191  \n",
            "169          1562960  \n",
            "170          1623929  \n",
            "171          1188026  \n",
            "172          1162672  \n",
            "173          1123102  \n",
            "271          1741227  \n",
            "272          1812428  \n",
            "273          1344721  \n",
            "274          1329818  \n",
            "275          1298089  \n"
          ]
        }
      ]
    },
    {
      "cell_type": "code",
      "source": [
        "girl=data.query(\"AGE==0 & SEX==0\").shape[0]\n",
        "boy=data.query(\"AGE==0 & SEX==1\").shape[0]\n",
        "print(\"Ratio of boys and girls among infants : \",boy/girl)"
      ],
      "metadata": {
        "colab": {
          "base_uri": "https://localhost:8080/"
        },
        "id": "XjEFY1I8H1IU",
        "outputId": "6016eca6-5a95-4cb8-ca9f-807ee82d8e7b"
      },
      "execution_count": null,
      "outputs": [
        {
          "output_type": "stream",
          "name": "stdout",
          "text": [
            "Ratio of boys and girls among infants :  1.0\n"
          ]
        }
      ]
    },
    {
      "cell_type": "code",
      "source": [
        "import matplotlib.pyplot as plt\n",
        "data.plot(x='SEX',y='AGE')\n",
        "plt.show()"
      ],
      "metadata": {
        "colab": {
          "base_uri": "https://localhost:8080/",
          "height": 279
        },
        "id": "Sag2XcnDIbH2",
        "outputId": "5989407d-3274-4129-f4ac-5336c155519d"
      },
      "execution_count": null,
      "outputs": [
        {
          "output_type": "display_data",
          "data": {
            "text/plain": [
              "<Figure size 432x288 with 1 Axes>"
            ],
            "image/png": "[encoded data removed]"
          },
          "metadata": {
            "needs_background": "light"
          }
        }
      ]
    },
    {
      "cell_type": "markdown",
      "source": [
        "2nd question"
      ],
      "metadata": {
        "id": "vQm_N6ZI8YmO"
      }
    },
    {
      "cell_type": "code",
      "source": [
        "data2=pd.read_csv(\"/content/NBA.CSV\")\n",
        "print(data2)"
      ],
      "metadata": {
        "colab": {
          "base_uri": "https://localhost:8080/"
        },
        "id": "bGrxC_heE_4s",
        "outputId": "757c8873-f57c-434c-b967-e98cad113d9a"
      },
      "execution_count": null,
      "outputs": [
        {
          "output_type": "stream",
          "name": "stdout",
          "text": [
            "     RANK                  PLAYER POSITION                 TEAM  SALARY ($M)\n",
            "0       1             Kobe Bryant       SF   Los Angeles Lakers    25.000000\n",
            "1       2             Joe Johnson       SF        Brooklyn Nets    24.894863\n",
            "2       3            LeBron James       SF  Cleveland Cavaliers    22.970500\n",
            "3       4         Carmelo Anthony       SF      New York Knicks    22.875000\n",
            "4       5           Dwight Howard        C      Houston Rockets    22.359364\n",
            "..    ...                     ...      ...                  ...          ...\n",
            "412   413         Elliot Williams       SG    Memphis Grizzlies     0.055722\n",
            "413   414            Phil Pressey       PG         Phoenix Suns     0.055722\n",
            "414   415            Jordan McRae       SG         Phoenix Suns     0.049709\n",
            "415   416          Cory Jefferson       PF         Phoenix Suns     0.049709\n",
            "416   417  Thanasis Antetokounmpo       SF      New York Knicks     0.030888\n",
            "\n",
            "[417 rows x 5 columns]\n"
          ]
        }
      ]
    },
    {
      "cell_type": "code",
      "source": [
        "print(data2.size)"
      ],
      "metadata": {
        "colab": {
          "base_uri": "https://localhost:8080/"
        },
        "id": "SMKgbUQdGe2g",
        "outputId": "8e4f15ee-f887-4441-e5bd-db7e860acf84"
      },
      "execution_count": null,
      "outputs": [
        {
          "output_type": "stream",
          "name": "stdout",
          "text": [
            "2085\n"
          ]
        }
      ]
    },
    {
      "cell_type": "code",
      "source": [
        "data2.sort_values(\"PLAYER\")\n",
        "print(data2)"
      ],
      "metadata": {
        "colab": {
          "base_uri": "https://localhost:8080/"
        },
        "id": "m16u_rISGo0g",
        "outputId": "fb8a2be1-8075-4ba5-f035-455c91ef6757"
      },
      "execution_count": null,
      "outputs": [
        {
          "output_type": "stream",
          "name": "stdout",
          "text": [
            "     RANK                  PLAYER POSITION                 TEAM  SALARY ($M)\n",
            "0       1             Kobe Bryant       SF   Los Angeles Lakers    25.000000\n",
            "1       2             Joe Johnson       SF        Brooklyn Nets    24.894863\n",
            "2       3            LeBron James       SF  Cleveland Cavaliers    22.970500\n",
            "3       4         Carmelo Anthony       SF      New York Knicks    22.875000\n",
            "4       5           Dwight Howard        C      Houston Rockets    22.359364\n",
            "..    ...                     ...      ...                  ...          ...\n",
            "412   413         Elliot Williams       SG    Memphis Grizzlies     0.055722\n",
            "413   414            Phil Pressey       PG         Phoenix Suns     0.055722\n",
            "414   415            Jordan McRae       SG         Phoenix Suns     0.049709\n",
            "415   416          Cory Jefferson       PF         Phoenix Suns     0.049709\n",
            "416   417  Thanasis Antetokounmpo       SF      New York Knicks     0.030888\n",
            "\n",
            "[417 rows x 5 columns]\n"
          ]
        }
      ]
    },
    {
      "cell_type": "code",
      "source": [
        "print(data2.sort_values(\"SALARY ($M)\"))\n"
      ],
      "metadata": {
        "colab": {
          "base_uri": "https://localhost:8080/"
        },
        "id": "gvcfsnqDIRSM",
        "outputId": "216b2d07-7ec3-4100-d234-87cbae4017cd"
      },
      "execution_count": null,
      "outputs": [
        {
          "output_type": "stream",
          "name": "stdout",
          "text": [
            "     RANK                  PLAYER POSITION                 TEAM  SALARY ($M)\n",
            "416   417  Thanasis Antetokounmpo       SF      New York Knicks     0.030888\n",
            "415   416          Cory Jefferson       PF         Phoenix Suns     0.049709\n",
            "414   415            Jordan McRae       SG         Phoenix Suns     0.049709\n",
            "411   412         Orlando Johnson       SG         Phoenix Suns     0.055722\n",
            "413   414            Phil Pressey       PG         Phoenix Suns     0.055722\n",
            "..    ...                     ...      ...                  ...          ...\n",
            "4       5           Dwight Howard        C      Houston Rockets    22.359364\n",
            "3       4         Carmelo Anthony       SF      New York Knicks    22.875000\n",
            "2       3            LeBron James       SF  Cleveland Cavaliers    22.970500\n",
            "1       2             Joe Johnson       SF        Brooklyn Nets    24.894863\n",
            "0       1             Kobe Bryant       SF   Los Angeles Lakers    25.000000\n",
            "\n",
            "[417 rows x 5 columns]\n"
          ]
        }
      ]
    },
    {
      "cell_type": "code",
      "source": [
        "print(data2.sort_values(\"SALARY ($M)\",ascending=False))\n"
      ],
      "metadata": {
        "colab": {
          "base_uri": "https://localhost:8080/"
        },
        "id": "PfZ1-EEMJzuu",
        "outputId": "c2d405d6-b734-41ee-b9ef-8ecddb9a6b9d"
      },
      "execution_count": null,
      "outputs": [
        {
          "output_type": "stream",
          "name": "stdout",
          "text": [
            "     RANK                  PLAYER POSITION                 TEAM  SALARY ($M)\n",
            "0       1             Kobe Bryant       SF   Los Angeles Lakers    25.000000\n",
            "1       2             Joe Johnson       SF        Brooklyn Nets    24.894863\n",
            "2       3            LeBron James       SF  Cleveland Cavaliers    22.970500\n",
            "3       4         Carmelo Anthony       SF      New York Knicks    22.875000\n",
            "4       5           Dwight Howard        C      Houston Rockets    22.359364\n",
            "..    ...                     ...      ...                  ...          ...\n",
            "412   413         Elliot Williams       SG    Memphis Grizzlies     0.055722\n",
            "413   414            Phil Pressey       PG         Phoenix Suns     0.055722\n",
            "414   415            Jordan McRae       SG         Phoenix Suns     0.049709\n",
            "415   416          Cory Jefferson       PF         Phoenix Suns     0.049709\n",
            "416   417  Thanasis Antetokounmpo       SF      New York Knicks     0.030888\n",
            "\n",
            "[417 rows x 5 columns]\n"
          ]
        }
      ]
    },
    {
      "cell_type": "code",
      "source": [
        "data2.rename(columns={'SALARY ($M)':'SALARY'},inplace = True)\n",
        "print(data2.columns)"
      ],
      "metadata": {
        "colab": {
          "base_uri": "https://localhost:8080/"
        },
        "id": "bQ6WmnGfLExH",
        "outputId": "6c112841-c05d-4cbf-f6ee-af376f1a5e18"
      },
      "execution_count": null,
      "outputs": [
        {
          "output_type": "stream",
          "name": "stdout",
          "text": [
            "Index(['RANK', 'PLAYER', 'POSITION', 'TEAM', 'SALARY'], dtype='object')\n"
          ]
        }
      ]
    },
    {
      "cell_type": "code",
      "source": [
        "print(data2.head())"
      ],
      "metadata": {
        "colab": {
          "base_uri": "https://localhost:8080/"
        },
        "id": "z9wd-aZAL3Zl",
        "outputId": "d21d1f29-3eed-4bda-c8e4-2bf1d7eb074a"
      },
      "execution_count": null,
      "outputs": [
        {
          "output_type": "stream",
          "name": "stdout",
          "text": [
            "   RANK           PLAYER POSITION                 TEAM     SALARY\n",
            "0     1      Kobe Bryant       SF   Los Angeles Lakers  25.000000\n",
            "1     2      Joe Johnson       SF        Brooklyn Nets  24.894863\n",
            "2     3     LeBron James       SF  Cleveland Cavaliers  22.970500\n",
            "3     4  Carmelo Anthony       SF      New York Knicks  22.875000\n",
            "4     5    Dwight Howard        C      Houston Rockets  22.359364\n"
          ]
        }
      ]
    },
    {
      "cell_type": "code",
      "source": [
        "print(data2.iloc[3])\n",
        "print(data2.iloc[10])\n",
        "print(data2.iloc[22])"
      ],
      "metadata": {
        "colab": {
          "base_uri": "https://localhost:8080/"
        },
        "id": "jj7aX77FMO5v",
        "outputId": "2d18bc17-a37a-4add-85ee-2b1683a39485"
      },
      "execution_count": null,
      "outputs": [
        {
          "output_type": "stream",
          "name": "stdout",
          "text": [
            "RANK                      4\n",
            "PLAYER      Carmelo Anthony\n",
            "POSITION                 SF\n",
            "TEAM        New York Knicks\n",
            "SALARY               22.875\n",
            "Name: 3, dtype: object\n",
            "RANK                       11\n",
            "PLAYER      LaMarcus Aldridge\n",
            "POSITION                   PF\n",
            "TEAM        San Antonio Spurs\n",
            "SALARY                 19.689\n",
            "Name: 10, dtype: object\n",
            "RANK                        23\n",
            "PLAYER               John Wall\n",
            "POSITION                    PG\n",
            "TEAM        Washington Wizards\n",
            "SALARY                15.85195\n",
            "Name: 22, dtype: object\n"
          ]
        }
      ]
    },
    {
      "cell_type": "code",
      "source": [
        "print(data2.sort_values(\"SALARY\",ascending=False).head())"
      ],
      "metadata": {
        "colab": {
          "base_uri": "https://localhost:8080/"
        },
        "id": "doSIOzd7MwGG",
        "outputId": "9bc34417-2631-4528-9f7e-eb70cc09c619"
      },
      "execution_count": null,
      "outputs": [
        {
          "output_type": "stream",
          "name": "stdout",
          "text": [
            "   RANK           PLAYER POSITION                 TEAM     SALARY\n",
            "0     1      Kobe Bryant       SF   Los Angeles Lakers  25.000000\n",
            "1     2      Joe Johnson       SF        Brooklyn Nets  24.894863\n",
            "2     3     LeBron James       SF  Cleveland Cavaliers  22.970500\n",
            "3     4  Carmelo Anthony       SF      New York Knicks  22.875000\n",
            "4     5    Dwight Howard        C      Houston Rockets  22.359364\n"
          ]
        }
      ]
    },
    {
      "cell_type": "code",
      "source": [
        "print(data2[data2.SALARY>=10])"
      ],
      "metadata": {
        "colab": {
          "base_uri": "https://localhost:8080/"
        },
        "id": "72kVMUmCN1lM",
        "outputId": "b63042fa-3bfb-444b-fc74-62cfd0b3f804"
      },
      "execution_count": null,
      "outputs": [
        {
          "output_type": "stream",
          "name": "stdout",
          "text": [
            "    RANK           PLAYER POSITION                 TEAM     SALARY\n",
            "0      1      Kobe Bryant       SF   Los Angeles Lakers  25.000000\n",
            "1      2      Joe Johnson       SF        Brooklyn Nets  24.894863\n",
            "2      3     LeBron James       SF  Cleveland Cavaliers  22.970500\n",
            "3      4  Carmelo Anthony       SF      New York Knicks  22.875000\n",
            "4      5    Dwight Howard        C      Houston Rockets  22.359364\n",
            "..   ...              ...      ...                  ...        ...\n",
            "65    66      Monta Ellis       SG       Indiana Pacers  10.300000\n",
            "66    67        Luol Deng       SF           Miami Heat  10.151612\n",
            "67    68   Gerald Wallace       SF   Philadelphia 76ers  10.105855\n",
            "68    69    DeMar DeRozan       SG      Toronto Raptors  10.050000\n",
            "69    70      Danny Green       SG    San Antonio Spurs  10.000000\n",
            "\n",
            "[70 rows x 5 columns]\n"
          ]
        }
      ]
    },
    {
      "cell_type": "code",
      "source": [
        "print(data2[\"SALARY\"][data2.PLAYER=='Stephen Curry'])"
      ],
      "metadata": {
        "colab": {
          "base_uri": "https://localhost:8080/"
        },
        "id": "Dw4FtYu5O5G3",
        "outputId": "1cbac9e1-e705-4d77-a6a1-f1d6bd95084e"
      },
      "execution_count": null,
      "outputs": [
        {
          "output_type": "stream",
          "name": "stdout",
          "text": [
            "56    11.370786\n",
            "Name: SALARY, dtype: float64\n"
          ]
        }
      ]
    },
    {
      "cell_type": "code",
      "source": [
        "print(data2.query('POSITION==\"PG\" & SALARY>=15'))"
      ],
      "metadata": {
        "colab": {
          "base_uri": "https://localhost:8080/"
        },
        "id": "Uk88ua07PqnJ",
        "outputId": "5c0cb053-3bdc-4faa-e64f-c790a6953183"
      },
      "execution_count": null,
      "outputs": [
        {
          "output_type": "stream",
          "name": "stdout",
          "text": [
            "    RANK             PLAYER POSITION                   TEAM     SALARY\n",
            "6      7         Chris Paul       PG   Los Angeles Clippers  21.468695\n",
            "8      9       Derrick Rose       PG          Chicago Bulls  20.093064\n",
            "16    17  Russell Westbrook       PG  Oklahoma City Thunder  16.744218\n",
            "17    18       Kyrie Irving       PG    Cleveland Cavaliers  16.407501\n",
            "22    23          John Wall       PG     Washington Wizards  15.851950\n"
          ]
        }
      ]
    },
    {
      "cell_type": "code",
      "source": [
        "print(data2[\"PLAYER\"][data2.TEAM==\"Golden State Warriors\"])"
      ],
      "metadata": {
        "colab": {
          "base_uri": "https://localhost:8080/"
        },
        "id": "LVbhiyllXTA0",
        "outputId": "ad1e0268-5a9f-43f9-a3f7-fecc8003b39a"
      },
      "execution_count": null,
      "outputs": [
        {
          "output_type": "stream",
          "name": "stdout",
          "text": [
            "27         Klay Thompson\n",
            "33        Draymond Green\n",
            "37          Andrew Bogut\n",
            "55        Andre Iguodala\n",
            "56         Stephen Curry\n",
            "100       Jason Thompson\n",
            "127     Shaun Livingston\n",
            "177      Harrison Barnes\n",
            "178    Marreese Speights\n",
            "236      Leandro Barbosa\n",
            "267         Festus Ezeli\n",
            "312         Brandon Rush\n",
            "335         Kevon Looney\n",
            "402     Anderson Varejao\n",
            "Name: PLAYER, dtype: object\n"
          ]
        }
      ]
    },
    {
      "cell_type": "code",
      "source": [
        "data2.groupby(data2['TEAM']).sum('SALARY')"
      ],
      "metadata": {
        "colab": {
          "base_uri": "https://localhost:8080/",
          "height": 1000
        },
        "id": "7afrgCFNZrtH",
        "outputId": "f11b7701-2de5-4aa5-9f0b-e3ead306b235"
      },
      "execution_count": null,
      "outputs": [
        {
          "output_type": "execute_result",
          "data": {
            "text/plain": [
              "                        RANK      SALARY\n",
              "TEAM                                    \n",
              "Atlanta Hawks           3103   69.573103\n",
              "Boston Celtics          3313   50.285499\n",
              "Brooklyn Nets           3234   57.306976\n",
              "Charlotte Hornets       3832   84.102397\n",
              "Chicago Bulls           2107   78.820890\n",
              "Cleveland Cavaliers     1265  102.312412\n",
              "Dallas Mavericks        1893   65.762559\n",
              "Denver Nuggets          3013   62.429404\n",
              "Detroit Pistons         2094   42.211760\n",
              "Golden State Warriors   2356   94.085137\n",
              "Houston Rockets         1998   85.285837\n",
              "Indiana Pacers          2594   62.695023\n",
              "Los Angeles Clippers    3108   66.074113\n",
              "Los Angeles Lakers      2170   68.607944\n",
              "Memphis Grizzlies       4851   93.796439\n",
              "Miami Heat              2583   81.528667\n",
              "Milwaukee Bucks         2829   52.258355\n",
              "Minnesota Timberwolves  2424   65.847421\n",
              "New Orleans Pelicans    3335   80.514606\n",
              "New York Knicks         2787   69.404994\n",
              "Oklahoma City Thunder   3048   96.832165\n",
              "Orlando Magic           2435   77.623940\n",
              "Philadelphia 76ers      3095   42.481345\n",
              "Phoenix Suns            4901   50.520815\n",
              "Portland Trail Blazers  3352   45.446878\n",
              "Sacramento Kings        1767   68.384890\n",
              "San Antonio Spurs       2416   84.652074\n",
              "Toronto Raptors         3649   74.672620\n",
              "Utah Jazz               4523   52.631878\n",
              "Washington Wizards      3078   90.047498"
            ],
            "text/html": [
              "\n",
              "  <div id=\"df-4e8e3081-9b7e-4a1e-9610-f340b74bb1ee\">\n",
              "    <div class=\"colab-df-container\">\n",
              "      <div>\n",
              "<style scoped>\n",
              "    .dataframe tbody tr th:only-of-type {\n",
              "        vertical-align: middle;\n",
              "    }\n",
              "\n",
              "    .dataframe tbody tr th {\n",
              "        vertical-align: top;\n",
              "    }\n",
              "\n",
              "    .dataframe thead th {\n",
              "        text-align: right;\n",
              "    }\n",
              "</style>\n",
              "<table border=\"1\" class=\"dataframe\">\n",
              "  <thead>\n",
              "    <tr style=\"text-align: right;\">\n",
              "      <th></th>\n",
              "      <th>RANK</th>\n",
              "      <th>SALARY</th>\n",
              "    </tr>\n",
              "    <tr>\n",
              "      <th>TEAM</th>\n",
              "      <th></th>\n",
              "      <th></th>\n",
              "    </tr>\n",
              "  </thead>\n",
              "  <tbody>\n",
              "    <tr>\n",
              "      <th>Atlanta Hawks</th>\n",
              "      <td>3103</td>\n",
              "      <td>69.573103</td>\n",
              "    </tr>\n",
              "    <tr>\n",
              "      <th>Boston Celtics</th>\n",
              "      <td>3313</td>\n",
              "      <td>50.285499</td>\n",
              "    </tr>\n",
              "    <tr>\n",
              "      <th>Brooklyn Nets</th>\n",
              "      <td>3234</td>\n",
              "      <td>57.306976</td>\n",
              "    </tr>\n",
              "    <tr>\n",
              "      <th>Charlotte Hornets</th>\n",
              "      <td>3832</td>\n",
              "      <td>84.102397</td>\n",
              "    </tr>\n",
              "    <tr>\n",
              "      <th>Chicago Bulls</th>\n",
              "      <td>2107</td>\n",
              "      <td>78.820890</td>\n",
              "    </tr>\n",
              "    <tr>\n",
              "      <th>Cleveland Cavaliers</th>\n",
              "      <td>1265</td>\n",
              "      <td>102.312412</td>\n",
              "    </tr>\n",
              "    <tr>\n",
              "      <th>Dallas Mavericks</th>\n",
              "      <td>1893</td>\n",
              "      <td>65.762559</td>\n",
              "    </tr>\n",
              "    <tr>\n",
              "      <th>Denver Nuggets</th>\n",
              "      <td>3013</td>\n",
              "      <td>62.429404</td>\n",
              "    </tr>\n",
              "    <tr>\n",
              "      <th>Detroit Pistons</th>\n",
              "      <td>2094</td>\n",
              "      <td>42.211760</td>\n",
              "    </tr>\n",
              "    <tr>\n",
              "      <th>Golden State Warriors</th>\n",
              "      <td>2356</td>\n",
              "      <td>94.085137</td>\n",
              "    </tr>\n",
              "    <tr>\n",
              "      <th>Houston Rockets</th>\n",
              "      <td>1998</td>\n",
              "      <td>85.285837</td>\n",
              "    </tr>\n",
              "    <tr>\n",
              "      <th>Indiana Pacers</th>\n",
              "      <td>2594</td>\n",
              "      <td>62.695023</td>\n",
              "    </tr>\n",
              "    <tr>\n",
              "      <th>Los Angeles Clippers</th>\n",
              "      <td>3108</td>\n",
              "      <td>66.074113</td>\n",
              "    </tr>\n",
              "    <tr>\n",
              "      <th>Los Angeles Lakers</th>\n",
              "      <td>2170</td>\n",
              "      <td>68.607944</td>\n",
              "    </tr>\n",
              "    <tr>\n",
              "      <th>Memphis Grizzlies</th>\n",
              "      <td>4851</td>\n",
              "      <td>93.796439</td>\n",
              "    </tr>\n",
              "    <tr>\n",
              "      <th>Miami Heat</th>\n",
              "      <td>2583</td>\n",
              "      <td>81.528667</td>\n",
              "    </tr>\n",
              "    <tr>\n",
              "      <th>Milwaukee Bucks</th>\n",
              "      <td>2829</td>\n",
              "      <td>52.258355</td>\n",
              "    </tr>\n",
              "    <tr>\n",
              "      <th>Minnesota Timberwolves</th>\n",
              "      <td>2424</td>\n",
              "      <td>65.847421</td>\n",
              "    </tr>\n",
              "    <tr>\n",
              "      <th>New Orleans Pelicans</th>\n",
              "      <td>3335</td>\n",
              "      <td>80.514606</td>\n",
              "    </tr>\n",
              "    <tr>\n",
              "      <th>New York Knicks</th>\n",
              "      <td>2787</td>\n",
              "      <td>69.404994</td>\n",
              "    </tr>\n",
              "    <tr>\n",
              "      <th>Oklahoma City Thunder</th>\n",
              "      <td>3048</td>\n",
              "      <td>96.832165</td>\n",
              "    </tr>\n",
              "    <tr>\n",
              "      <th>Orlando Magic</th>\n",
              "      <td>2435</td>\n",
              "      <td>77.623940</td>\n",
              "    </tr>\n",
              "    <tr>\n",
              "      <th>Philadelphia 76ers</th>\n",
              "      <td>3095</td>\n",
              "      <td>42.481345</td>\n",
              "    </tr>\n",
              "    <tr>\n",
              "      <th>Phoenix Suns</th>\n",
              "      <td>4901</td>\n",
              "      <td>50.520815</td>\n",
              "    </tr>\n",
              "    <tr>\n",
              "      <th>Portland Trail Blazers</th>\n",
              "      <td>3352</td>\n",
              "      <td>45.446878</td>\n",
              "    </tr>\n",
              "    <tr>\n",
              "      <th>Sacramento Kings</th>\n",
              "      <td>1767</td>\n",
              "      <td>68.384890</td>\n",
              "    </tr>\n",
              "    <tr>\n",
              "      <th>San Antonio Spurs</th>\n",
              "      <td>2416</td>\n",
              "      <td>84.652074</td>\n",
              "    </tr>\n",
              "    <tr>\n",
              "      <th>Toronto Raptors</th>\n",
              "      <td>3649</td>\n",
              "      <td>74.672620</td>\n",
              "    </tr>\n",
              "    <tr>\n",
              "      <th>Utah Jazz</th>\n",
              "      <td>4523</td>\n",
              "      <td>52.631878</td>\n",
              "    </tr>\n",
              "    <tr>\n",
              "      <th>Washington Wizards</th>\n",
              "      <td>3078</td>\n",
              "      <td>90.047498</td>\n",
              "    </tr>\n",
              "  </tbody>\n",
              "</table>\n",
              "</div>\n",
              "      <button class=\"colab-df-convert\" onclick=\"convertToInteractive('df-4e8e3081-9b7e-4a1e-9610-f340b74bb1ee')\"\n",
              "              title=\"Convert this dataframe to an interactive table.\"\n",
              "              style=\"display:none;\">\n",
              "        \n",
              "  <svg xmlns=\"http://www.w3.org/2000/svg\" height=\"24px\"viewBox=\"0 0 24 24\"\n",
              "       width=\"24px\">\n",
              "    <path d=\"M0 0h24v24H0V0z\" fill=\"none\"/>\n",
              "    <path d=\"M18.56 5.44l.94 2.06.94-2.06 2.06-.94-2.06-.94-.94-2.06-.94 2.06-2.06.94zm-11 1L8.5 8.5l.94-2.06 2.06-.94-2.06-.94L8.5 2.5l-.94 2.06-2.06.94zm10 10l.94 2.06.94-2.06 2.06-.94-2.06-.94-.94-2.06-.94 2.06-2.06.94z\"/><path d=\"M17.41 7.96l-1.37-1.37c-.4-.4-.92-.59-1.43-.59-.52 0-1.04.2-1.43.59L10.3 9.45l-7.72 7.72c-.78.78-.78 2.05 0 2.83L4 21.41c.39.39.9.59 1.41.59.51 0 1.02-.2 1.41-.59l7.78-7.78 2.81-2.81c.8-.78.8-2.07 0-2.86zM5.41 20L4 18.59l7.72-7.72 1.47 1.35L5.41 20z\"/>\n",
              "  </svg>\n",
              "      </button>\n",
              "      \n",
              "  <style>\n",
              "    .colab-df-container {\n",
              "      display:flex;\n",
              "      flex-wrap:wrap;\n",
              "      gap: 12px;\n",
              "    }\n",
              "\n",
              "    .colab-df-convert {\n",
              "      background-color: #E8F0FE;\n",
              "      border: none;\n",
              "      border-radius: 50%;\n",
              "      cursor: pointer;\n",
              "      display: none;\n",
              "      fill: #1967D2;\n",
              "      height: 32px;\n",
              "      padding: 0 0 0 0;\n",
              "      width: 32px;\n",
              "    }\n",
              "\n",
              "    .colab-df-convert:hover {\n",
              "      background-color: #E2EBFA;\n",
              "      box-shadow: 0px 1px 2px rgba(60, 64, 67, 0.3), 0px 1px 3px 1px rgba(60, 64, 67, 0.15);\n",
              "      fill: #174EA6;\n",
              "    }\n",
              "\n",
              "    [theme=dark] .colab-df-convert {\n",
              "      background-color: #3B4455;\n",
              "      fill: #D2E3FC;\n",
              "    }\n",
              "\n",
              "    [theme=dark] .colab-df-convert:hover {\n",
              "      background-color: #434B5C;\n",
              "      box-shadow: 0px 1px 3px 1px rgba(0, 0, 0, 0.15);\n",
              "      filter: drop-shadow(0px 1px 2px rgba(0, 0, 0, 0.3));\n",
              "      fill: #FFFFFF;\n",
              "    }\n",
              "  </style>\n",
              "\n",
              "      <script>\n",
              "        const buttonEl =\n",
              "          document.querySelector('#df-4e8e3081-9b7e-4a1e-9610-f340b74bb1ee button.colab-df-convert');\n",
              "        buttonEl.style.display =\n",
              "          google.colab.kernel.accessAllowed ? 'block' : 'none';\n",
              "\n",
              "        async function convertToInteractive(key) {\n",
              "          const element = document.querySelector('#df-4e8e3081-9b7e-4a1e-9610-f340b74bb1ee');\n",
              "          const dataTable =\n",
              "            await google.colab.kernel.invokeFunction('convertToInteractive',\n",
              "                                                     [key], {});\n",
              "          if (!dataTable) return;\n",
              "\n",
              "          const docLinkHtml = 'Like what you see? Visit the ' +\n",
              "            '<a target=\"_blank\" href=https://colab.research.google.com/notebooks/data_table.ipynb>data table notebook</a>'\n",
              "            + ' to learn more about interactive tables.';\n",
              "          element.innerHTML = '';\n",
              "          dataTable['output_type'] = 'display_data';\n",
              "          await google.colab.output.renderOutput(dataTable, element);\n",
              "          const docLink = document.createElement('div');\n",
              "          docLink.innerHTML = docLinkHtml;\n",
              "          element.appendChild(docLink);\n",
              "        }\n",
              "      </script>\n",
              "    </div>\n",
              "  </div>\n",
              "  "
            ]
          },
          "metadata": {},
          "execution_count": 30
        }
      ]
    },
    {
      "cell_type": "code",
      "source": [
        "print(data2.groupby(data2['POSITION']).count())"
      ],
      "metadata": {
        "colab": {
          "base_uri": "https://localhost:8080/",
          "height": 359
        },
        "id": "FDsoxxWya0gw",
        "outputId": "cb067730-b61b-41f9-9575-727ac1edd97e"
      },
      "execution_count": null,
      "outputs": [
        {
          "output_type": "execute_result",
          "data": {
            "text/plain": [
              "          RANK  PLAYER  TEAM  SALARY\n",
              "POSITION                            \n",
              "C           69      69    69      69\n",
              "PF          85      85    85      85\n",
              "PG          85      85    85      85\n",
              "SF          82      82    82      82\n",
              "SG          96      96    96      96"
            ],
            "text/html": [
              "\n",
              "  <div id=\"df-ad55239e-9d4a-4afc-a843-57707480b615\">\n",
              "    <div class=\"colab-df-container\">\n",
              "      <div>\n",
              "<style scoped>\n",
              "    .dataframe tbody tr th:only-of-type {\n",
              "        vertical-align: middle;\n",
              "    }\n",
              "\n",
              "    .dataframe tbody tr th {\n",
              "        vertical-align: top;\n",
              "    }\n",
              "\n",
              "    .dataframe thead th {\n",
              "        text-align: right;\n",
              "    }\n",
              "</style>\n",
              "<table border=\"1\" class=\"dataframe\">\n",
              "  <thead>\n",
              "    <tr style=\"text-align: right;\">\n",
              "      <th></th>\n",
              "      <th>RANK</th>\n",
              "      <th>PLAYER</th>\n",
              "      <th>TEAM</th>\n",
              "      <th>SALARY</th>\n",
              "    </tr>\n",
              "    <tr>\n",
              "      <th>POSITION</th>\n",
              "      <th></th>\n",
              "      <th></th>\n",
              "      <th></th>\n",
              "      <th></th>\n",
              "    </tr>\n",
              "  </thead>\n",
              "  <tbody>\n",
              "    <tr>\n",
              "      <th>C</th>\n",
              "      <td>69</td>\n",
              "      <td>69</td>\n",
              "      <td>69</td>\n",
              "      <td>69</td>\n",
              "    </tr>\n",
              "    <tr>\n",
              "      <th>PF</th>\n",
              "      <td>85</td>\n",
              "      <td>85</td>\n",
              "      <td>85</td>\n",
              "      <td>85</td>\n",
              "    </tr>\n",
              "    <tr>\n",
              "      <th>PG</th>\n",
              "      <td>85</td>\n",
              "      <td>85</td>\n",
              "      <td>85</td>\n",
              "      <td>85</td>\n",
              "    </tr>\n",
              "    <tr>\n",
              "      <th>SF</th>\n",
              "      <td>82</td>\n",
              "      <td>82</td>\n",
              "      <td>82</td>\n",
              "      <td>82</td>\n",
              "    </tr>\n",
              "    <tr>\n",
              "      <th>SG</th>\n",
              "      <td>96</td>\n",
              "      <td>96</td>\n",
              "      <td>96</td>\n",
              "      <td>96</td>\n",
              "    </tr>\n",
              "  </tbody>\n",
              "</table>\n",
              "</div>\n",
              "      <button class=\"colab-df-convert\" onclick=\"convertToInteractive('df-ad55239e-9d4a-4afc-a843-57707480b615')\"\n",
              "              title=\"Convert this dataframe to an interactive table.\"\n",
              "              style=\"display:none;\">\n",
              "        \n",
              "  <svg xmlns=\"http://www.w3.org/2000/svg\" height=\"24px\"viewBox=\"0 0 24 24\"\n",
              "       width=\"24px\">\n",
              "    <path d=\"M0 0h24v24H0V0z\" fill=\"none\"/>\n",
              "    <path d=\"M18.56 5.44l.94 2.06.94-2.06 2.06-.94-2.06-.94-.94-2.06-.94 2.06-2.06.94zm-11 1L8.5 8.5l.94-2.06 2.06-.94-2.06-.94L8.5 2.5l-.94 2.06-2.06.94zm10 10l.94 2.06.94-2.06 2.06-.94-2.06-.94-.94-2.06-.94 2.06-2.06.94z\"/><path d=\"M17.41 7.96l-1.37-1.37c-.4-.4-.92-.59-1.43-.59-.52 0-1.04.2-1.43.59L10.3 9.45l-7.72 7.72c-.78.78-.78 2.05 0 2.83L4 21.41c.39.39.9.59 1.41.59.51 0 1.02-.2 1.41-.59l7.78-7.78 2.81-2.81c.8-.78.8-2.07 0-2.86zM5.41 20L4 18.59l7.72-7.72 1.47 1.35L5.41 20z\"/>\n",
              "  </svg>\n",
              "      </button>\n",
              "      \n",
              "  <style>\n",
              "    .colab-df-container {\n",
              "      display:flex;\n",
              "      flex-wrap:wrap;\n",
              "      gap: 12px;\n",
              "    }\n",
              "\n",
              "    .colab-df-convert {\n",
              "      background-color: #E8F0FE;\n",
              "      border: none;\n",
              "      border-radius: 50%;\n",
              "      cursor: pointer;\n",
              "      display: none;\n",
              "      fill: #1967D2;\n",
              "      height: 32px;\n",
              "      padding: 0 0 0 0;\n",
              "      width: 32px;\n",
              "    }\n",
              "\n",
              "    .colab-df-convert:hover {\n",
              "      background-color: #E2EBFA;\n",
              "      box-shadow: 0px 1px 2px rgba(60, 64, 67, 0.3), 0px 1px 3px 1px rgba(60, 64, 67, 0.15);\n",
              "      fill: #174EA6;\n",
              "    }\n",
              "\n",
              "    [theme=dark] .colab-df-convert {\n",
              "      background-color: #3B4455;\n",
              "      fill: #D2E3FC;\n",
              "    }\n",
              "\n",
              "    [theme=dark] .colab-df-convert:hover {\n",
              "      background-color: #434B5C;\n",
              "      box-shadow: 0px 1px 3px 1px rgba(0, 0, 0, 0.15);\n",
              "      filter: drop-shadow(0px 1px 2px rgba(0, 0, 0, 0.3));\n",
              "      fill: #FFFFFF;\n",
              "    }\n",
              "  </style>\n",
              "\n",
              "      <script>\n",
              "        const buttonEl =\n",
              "          document.querySelector('#df-ad55239e-9d4a-4afc-a843-57707480b615 button.colab-df-convert');\n",
              "        buttonEl.style.display =\n",
              "          google.colab.kernel.accessAllowed ? 'block' : 'none';\n",
              "\n",
              "        async function convertToInteractive(key) {\n",
              "          const element = document.querySelector('#df-ad55239e-9d4a-4afc-a843-57707480b615');\n",
              "          const dataTable =\n",
              "            await google.colab.kernel.invokeFunction('convertToInteractive',\n",
              "                                                     [key], {});\n",
              "          if (!dataTable) return;\n",
              "\n",
              "          const docLinkHtml = 'Like what you see? Visit the ' +\n",
              "            '<a target=\"_blank\" href=https://colab.research.google.com/notebooks/data_table.ipynb>data table notebook</a>'\n",
              "            + ' to learn more about interactive tables.';\n",
              "          element.innerHTML = '';\n",
              "          dataTable['output_type'] = 'display_data';\n",
              "          await google.colab.output.renderOutput(dataTable, element);\n",
              "          const docLink = document.createElement('div');\n",
              "          docLink.innerHTML = docLinkHtml;\n",
              "          element.appendChild(docLink);\n",
              "        }\n",
              "      </script>\n",
              "    </div>\n",
              "  </div>\n",
              "  "
            ]
          },
          "metadata": {},
          "execution_count": 31
        },
        {
          "output_type": "stream",
          "name": "stdout",
          "text": [
            "          RANK  PLAYER  TEAM  SALARY\n",
            "POSITION                            \n",
            "C           69      69    69      69\n",
            "PF          85      85    85      85\n",
            "PG          85      85    85      85\n",
            "SF          82      82    82      82\n",
            "SG          96      96    96      96\n"
          ]
        }
      ]
    },
    {
      "cell_type": "code",
      "source": [
        "print(data2.groupby(data2['POSITION']).mean())"
      ],
      "metadata": {
        "colab": {
          "base_uri": "https://localhost:8080/"
        },
        "id": "ho9iPiQwbjrV",
        "outputId": "231bf61f-f600-4850-cdeb-56006018e46e"
      },
      "execution_count": null,
      "outputs": [
        {
          "output_type": "stream",
          "name": "stdout",
          "text": [
            "                RANK    SALARY\n",
            "POSITION                      \n",
            "C         176.521739  6.082913\n",
            "PF        204.270588  4.951344\n",
            "PG        203.505882  5.165487\n",
            "SF        211.280488  5.532675\n",
            "SG        239.447917  3.988195\n"
          ]
        }
      ]
    },
    {
      "cell_type": "markdown",
      "source": [
        "3RD QUESTION"
      ],
      "metadata": {
        "id": "hGhPKQOiYZsh"
      }
    },
    {
      "cell_type": "code",
      "source": [
        "data3=pd.read_csv(\"/content/Education.csv\")\n",
        "print(data3)"
      ],
      "metadata": {
        "colab": {
          "base_uri": "https://localhost:8080/"
        },
        "id": "Y0wG7Sj0YbxJ",
        "outputId": "d147f344-bba1-422e-cd7f-471d43864466"
      },
      "execution_count": null,
      "outputs": [
        {
          "output_type": "stream",
          "name": "stdout",
          "text": [
            "                  Year        Age  Gender                     Educational  \\\n",
            "0     01-01-2008 00:00   00 to 17    Male  College, less than 4-yr degree   \n",
            "1     01-01-2008 00:00   00 to 17  Female  College, less than 4-yr degree   \n",
            "2     01-01-2008 00:00  65 to 80+    Male  College, less than 4-yr degree   \n",
            "3     01-01-2008 00:00  65 to 80+  Female          No high school diploma   \n",
            "4     01-01-2008 00:00   00 to 17  Female          No high school diploma   \n",
            "...                ...        ...     ...                             ...   \n",
            "1021  01-01-2014 00:00   18 to 64  Female       High school or equivalent   \n",
            "1022  01-01-2014 00:00   18 to 64    Male     Bachelor's degree or higher   \n",
            "1023  01-01-2014 00:00   18 to 64  Female          No high school diploma   \n",
            "1024  01-01-2014 00:00   18 to 64  Female     Bachelor's degree or higher   \n",
            "1025  01-01-2014 00:00   18 to 64    Male     Bachelor's degree or higher   \n",
            "\n",
            "          Personal Income  Population Count  \n",
            "0     C: 10,000 to 14,999              1304  \n",
            "1       B: 5,000 to 9,999              1565  \n",
            "2           A: 0 to 4,999              1923  \n",
            "3      H: 75,000 and over              1981  \n",
            "4     D: 15,000 to 24,999              2009  \n",
            "...                   ...               ...  \n",
            "1021        A: 0 to 4,999            670294  \n",
            "1022  G: 50,000 to 74,999            682425  \n",
            "1023        A: 0 to 4,999            723208  \n",
            "1024   H: 75,000 and over            953282  \n",
            "1025   H: 75,000 and over           1628605  \n",
            "\n",
            "[1026 rows x 6 columns]\n"
          ]
        }
      ]
    },
    {
      "cell_type": "code",
      "source": [
        "res=data3.loc[data3['Year']=='01-01-2014 00:00']\n",
        "res[['Year','Population Count']]"
      ],
      "metadata": {
        "colab": {
          "base_uri": "https://localhost:8080/",
          "height": 424
        },
        "id": "GpnypJVKcvzU",
        "outputId": "e6d6b234-e5c2-4497-f8aa-2e9b72502f2e"
      },
      "execution_count": null,
      "outputs": [
        {
          "output_type": "execute_result",
          "data": {
            "text/plain": [
              "                  Year  Population Count\n",
              "881   01-01-2014 00:00              1356\n",
              "882   01-01-2014 00:00              1583\n",
              "883   01-01-2014 00:00              1664\n",
              "884   01-01-2014 00:00              2048\n",
              "885   01-01-2014 00:00              2058\n",
              "...                ...               ...\n",
              "1021  01-01-2014 00:00            670294\n",
              "1022  01-01-2014 00:00            682425\n",
              "1023  01-01-2014 00:00            723208\n",
              "1024  01-01-2014 00:00            953282\n",
              "1025  01-01-2014 00:00           1628605\n",
              "\n",
              "[145 rows x 2 columns]"
            ],
            "text/html": [
              "\n",
              "  <div id=\"df-14156aa0-453a-4398-a182-b472684ce34b\">\n",
              "    <div class=\"colab-df-container\">\n",
              "      <div>\n",
              "<style scoped>\n",
              "    .dataframe tbody tr th:only-of-type {\n",
              "        vertical-align: middle;\n",
              "    }\n",
              "\n",
              "    .dataframe tbody tr th {\n",
              "        vertical-align: top;\n",
              "    }\n",
              "\n",
              "    .dataframe thead th {\n",
              "        text-align: right;\n",
              "    }\n",
              "</style>\n",
              "<table border=\"1\" class=\"dataframe\">\n",
              "  <thead>\n",
              "    <tr style=\"text-align: right;\">\n",
              "      <th></th>\n",
              "      <th>Year</th>\n",
              "      <th>Population Count</th>\n",
              "    </tr>\n",
              "  </thead>\n",
              "  <tbody>\n",
              "    <tr>\n",
              "      <th>881</th>\n",
              "      <td>01-01-2014 00:00</td>\n",
              "      <td>1356</td>\n",
              "    </tr>\n",
              "    <tr>\n",
              "      <th>882</th>\n",
              "      <td>01-01-2014 00:00</td>\n",
              "      <td>1583</td>\n",
              "    </tr>\n",
              "    <tr>\n",
              "      <th>883</th>\n",
              "      <td>01-01-2014 00:00</td>\n",
              "      <td>1664</td>\n",
              "    </tr>\n",
              "    <tr>\n",
              "      <th>884</th>\n",
              "      <td>01-01-2014 00:00</td>\n",
              "      <td>2048</td>\n",
              "    </tr>\n",
              "    <tr>\n",
              "      <th>885</th>\n",
              "      <td>01-01-2014 00:00</td>\n",
              "      <td>2058</td>\n",
              "    </tr>\n",
              "    <tr>\n",
              "      <th>...</th>\n",
              "      <td>...</td>\n",
              "      <td>...</td>\n",
              "    </tr>\n",
              "    <tr>\n",
              "      <th>1021</th>\n",
              "      <td>01-01-2014 00:00</td>\n",
              "      <td>670294</td>\n",
              "    </tr>\n",
              "    <tr>\n",
              "      <th>1022</th>\n",
              "      <td>01-01-2014 00:00</td>\n",
              "      <td>682425</td>\n",
              "    </tr>\n",
              "    <tr>\n",
              "      <th>1023</th>\n",
              "      <td>01-01-2014 00:00</td>\n",
              "      <td>723208</td>\n",
              "    </tr>\n",
              "    <tr>\n",
              "      <th>1024</th>\n",
              "      <td>01-01-2014 00:00</td>\n",
              "      <td>953282</td>\n",
              "    </tr>\n",
              "    <tr>\n",
              "      <th>1025</th>\n",
              "      <td>01-01-2014 00:00</td>\n",
              "      <td>1628605</td>\n",
              "    </tr>\n",
              "  </tbody>\n",
              "</table>\n",
              "<p>145 rows × 2 columns</p>\n",
              "</div>\n",
              "      <button class=\"colab-df-convert\" onclick=\"convertToInteractive('df-14156aa0-453a-4398-a182-b472684ce34b')\"\n",
              "              title=\"Convert this dataframe to an interactive table.\"\n",
              "              style=\"display:none;\">\n",
              "        \n",
              "  <svg xmlns=\"http://www.w3.org/2000/svg\" height=\"24px\"viewBox=\"0 0 24 24\"\n",
              "       width=\"24px\">\n",
              "    <path d=\"M0 0h24v24H0V0z\" fill=\"none\"/>\n",
              "    <path d=\"M18.56 5.44l.94 2.06.94-2.06 2.06-.94-2.06-.94-.94-2.06-.94 2.06-2.06.94zm-11 1L8.5 8.5l.94-2.06 2.06-.94-2.06-.94L8.5 2.5l-.94 2.06-2.06.94zm10 10l.94 2.06.94-2.06 2.06-.94-2.06-.94-.94-2.06-.94 2.06-2.06.94z\"/><path d=\"M17.41 7.96l-1.37-1.37c-.4-.4-.92-.59-1.43-.59-.52 0-1.04.2-1.43.59L10.3 9.45l-7.72 7.72c-.78.78-.78 2.05 0 2.83L4 21.41c.39.39.9.59 1.41.59.51 0 1.02-.2 1.41-.59l7.78-7.78 2.81-2.81c.8-.78.8-2.07 0-2.86zM5.41 20L4 18.59l7.72-7.72 1.47 1.35L5.41 20z\"/>\n",
              "  </svg>\n",
              "      </button>\n",
              "      \n",
              "  <style>\n",
              "    .colab-df-container {\n",
              "      display:flex;\n",
              "      flex-wrap:wrap;\n",
              "      gap: 12px;\n",
              "    }\n",
              "\n",
              "    .colab-df-convert {\n",
              "      background-color: #E8F0FE;\n",
              "      border: none;\n",
              "      border-radius: 50%;\n",
              "      cursor: pointer;\n",
              "      display: none;\n",
              "      fill: #1967D2;\n",
              "      height: 32px;\n",
              "      padding: 0 0 0 0;\n",
              "      width: 32px;\n",
              "    }\n",
              "\n",
              "    .colab-df-convert:hover {\n",
              "      background-color: #E2EBFA;\n",
              "      box-shadow: 0px 1px 2px rgba(60, 64, 67, 0.3), 0px 1px 3px 1px rgba(60, 64, 67, 0.15);\n",
              "      fill: #174EA6;\n",
              "    }\n",
              "\n",
              "    [theme=dark] .colab-df-convert {\n",
              "      background-color: #3B4455;\n",
              "      fill: #D2E3FC;\n",
              "    }\n",
              "\n",
              "    [theme=dark] .colab-df-convert:hover {\n",
              "      background-color: #434B5C;\n",
              "      box-shadow: 0px 1px 3px 1px rgba(0, 0, 0, 0.15);\n",
              "      filter: drop-shadow(0px 1px 2px rgba(0, 0, 0, 0.3));\n",
              "      fill: #FFFFFF;\n",
              "    }\n",
              "  </style>\n",
              "\n",
              "      <script>\n",
              "        const buttonEl =\n",
              "          document.querySelector('#df-14156aa0-453a-4398-a182-b472684ce34b button.colab-df-convert');\n",
              "        buttonEl.style.display =\n",
              "          google.colab.kernel.accessAllowed ? 'block' : 'none';\n",
              "\n",
              "        async function convertToInteractive(key) {\n",
              "          const element = document.querySelector('#df-14156aa0-453a-4398-a182-b472684ce34b');\n",
              "          const dataTable =\n",
              "            await google.colab.kernel.invokeFunction('convertToInteractive',\n",
              "                                                     [key], {});\n",
              "          if (!dataTable) return;\n",
              "\n",
              "          const docLinkHtml = 'Like what you see? Visit the ' +\n",
              "            '<a target=\"_blank\" href=https://colab.research.google.com/notebooks/data_table.ipynb>data table notebook</a>'\n",
              "            + ' to learn more about interactive tables.';\n",
              "          element.innerHTML = '';\n",
              "          dataTable['output_type'] = 'display_data';\n",
              "          await google.colab.output.renderOutput(dataTable, element);\n",
              "          const docLink = document.createElement('div');\n",
              "          docLink.innerHTML = docLinkHtml;\n",
              "          element.appendChild(docLink);\n",
              "        }\n",
              "      </script>\n",
              "    </div>\n",
              "  </div>\n",
              "  "
            ]
          },
          "metadata": {},
          "execution_count": 18
        }
      ]
    },
    {
      "cell_type": "code",
      "source": [
        "data3.loc[data3['Age']!='00 to 17'].sort_values(by='Age')"
      ],
      "metadata": {
        "colab": {
          "base_uri": "https://localhost:8080/",
          "height": 424
        },
        "id": "eExtjjOzOWrv",
        "outputId": "ca548225-e785-4a9f-a641-3594a2814875"
      },
      "execution_count": null,
      "outputs": [
        {
          "output_type": "execute_result",
          "data": {
            "text/plain": [
              "                  Year        Age  Gender                     Educational  \\\n",
              "1025  01-01-2014 00:00   18 to 64    Male     Bachelor's degree or higher   \n",
              "414   01-01-2010 00:00   18 to 64  Female       High school or equivalent   \n",
              "413   01-01-2010 00:00   18 to 64    Male  College, less than 4-yr degree   \n",
              "412   01-01-2010 00:00   18 to 64    Male       High school or equivalent   \n",
              "411   01-01-2010 00:00   18 to 64    Male       High school or equivalent   \n",
              "...                ...        ...     ...                             ...   \n",
              "481   01-01-2011 00:00  65 to 80+    Male          No high school diploma   \n",
              "482   01-01-2011 00:00  65 to 80+    Male     Bachelor's degree or higher   \n",
              "483   01-01-2011 00:00  65 to 80+  Female  College, less than 4-yr degree   \n",
              "474   01-01-2011 00:00  65 to 80+    Male     Bachelor's degree or higher   \n",
              "523   01-01-2011 00:00  65 to 80+  Female  College, less than 4-yr degree   \n",
              "\n",
              "          Personal Income  Population Count  \n",
              "1025   H: 75,000 and over           1628605  \n",
              "414   E: 25,000 to 34,999            363540  \n",
              "413   D: 15,000 to 24,999            356706  \n",
              "412         A: 0 to 4,999            345253  \n",
              "411   G: 50,000 to 74,999            339017  \n",
              "...                   ...               ...  \n",
              "481         A: 0 to 4,999             27629  \n",
              "482     B: 5,000 to 9,999             28190  \n",
              "483         A: 0 to 4,999             29080  \n",
              "474         A: 0 to 4,999             21851  \n",
              "523     B: 5,000 to 9,999            107745  \n",
              "\n",
              "[892 rows x 6 columns]"
            ],
            "text/html": [
              "\n",
              "  <div id=\"df-fe381b83-b499-4bb6-a8d7-29ec13c841c1\">\n",
              "    <div class=\"colab-df-container\">\n",
              "      <div>\n",
              "<style scoped>\n",
              "    .dataframe tbody tr th:only-of-type {\n",
              "        vertical-align: middle;\n",
              "    }\n",
              "\n",
              "    .dataframe tbody tr th {\n",
              "        vertical-align: top;\n",
              "    }\n",
              "\n",
              "    .dataframe thead th {\n",
              "        text-align: right;\n",
              "    }\n",
              "</style>\n",
              "<table border=\"1\" class=\"dataframe\">\n",
              "  <thead>\n",
              "    <tr style=\"text-align: right;\">\n",
              "      <th></th>\n",
              "      <th>Year</th>\n",
              "      <th>Age</th>\n",
              "      <th>Gender</th>\n",
              "      <th>Educational</th>\n",
              "      <th>Personal Income</th>\n",
              "      <th>Population Count</th>\n",
              "    </tr>\n",
              "  </thead>\n",
              "  <tbody>\n",
              "    <tr>\n",
              "      <th>1025</th>\n",
              "      <td>01-01-2014 00:00</td>\n",
              "      <td>18 to 64</td>\n",
              "      <td>Male</td>\n",
              "      <td>Bachelor's degree or higher</td>\n",
              "      <td>H: 75,000 and over</td>\n",
              "      <td>1628605</td>\n",
              "    </tr>\n",
              "    <tr>\n",
              "      <th>414</th>\n",
              "      <td>01-01-2010 00:00</td>\n",
              "      <td>18 to 64</td>\n",
              "      <td>Female</td>\n",
              "      <td>High school or equivalent</td>\n",
              "      <td>E: 25,000 to 34,999</td>\n",
              "      <td>363540</td>\n",
              "    </tr>\n",
              "    <tr>\n",
              "      <th>413</th>\n",
              "      <td>01-01-2010 00:00</td>\n",
              "      <td>18 to 64</td>\n",
              "      <td>Male</td>\n",
              "      <td>College, less than 4-yr degree</td>\n",
              "      <td>D: 15,000 to 24,999</td>\n",
              "      <td>356706</td>\n",
              "    </tr>\n",
              "    <tr>\n",
              "      <th>412</th>\n",
              "      <td>01-01-2010 00:00</td>\n",
              "      <td>18 to 64</td>\n",
              "      <td>Male</td>\n",
              "      <td>High school or equivalent</td>\n",
              "      <td>A: 0 to 4,999</td>\n",
              "      <td>345253</td>\n",
              "    </tr>\n",
              "    <tr>\n",
              "      <th>411</th>\n",
              "      <td>01-01-2010 00:00</td>\n",
              "      <td>18 to 64</td>\n",
              "      <td>Male</td>\n",
              "      <td>High school or equivalent</td>\n",
              "      <td>G: 50,000 to 74,999</td>\n",
              "      <td>339017</td>\n",
              "    </tr>\n",
              "    <tr>\n",
              "      <th>...</th>\n",
              "      <td>...</td>\n",
              "      <td>...</td>\n",
              "      <td>...</td>\n",
              "      <td>...</td>\n",
              "      <td>...</td>\n",
              "      <td>...</td>\n",
              "    </tr>\n",
              "    <tr>\n",
              "      <th>481</th>\n",
              "      <td>01-01-2011 00:00</td>\n",
              "      <td>65 to 80+</td>\n",
              "      <td>Male</td>\n",
              "      <td>No high school diploma</td>\n",
              "      <td>A: 0 to 4,999</td>\n",
              "      <td>27629</td>\n",
              "    </tr>\n",
              "    <tr>\n",
              "      <th>482</th>\n",
              "      <td>01-01-2011 00:00</td>\n",
              "      <td>65 to 80+</td>\n",
              "      <td>Male</td>\n",
              "      <td>Bachelor's degree or higher</td>\n",
              "      <td>B: 5,000 to 9,999</td>\n",
              "      <td>28190</td>\n",
              "    </tr>\n",
              "    <tr>\n",
              "      <th>483</th>\n",
              "      <td>01-01-2011 00:00</td>\n",
              "      <td>65 to 80+</td>\n",
              "      <td>Female</td>\n",
              "      <td>College, less than 4-yr degree</td>\n",
              "      <td>A: 0 to 4,999</td>\n",
              "      <td>29080</td>\n",
              "    </tr>\n",
              "    <tr>\n",
              "      <th>474</th>\n",
              "      <td>01-01-2011 00:00</td>\n",
              "      <td>65 to 80+</td>\n",
              "      <td>Male</td>\n",
              "      <td>Bachelor's degree or higher</td>\n",
              "      <td>A: 0 to 4,999</td>\n",
              "      <td>21851</td>\n",
              "    </tr>\n",
              "    <tr>\n",
              "      <th>523</th>\n",
              "      <td>01-01-2011 00:00</td>\n",
              "      <td>65 to 80+</td>\n",
              "      <td>Female</td>\n",
              "      <td>College, less than 4-yr degree</td>\n",
              "      <td>B: 5,000 to 9,999</td>\n",
              "      <td>107745</td>\n",
              "    </tr>\n",
              "  </tbody>\n",
              "</table>\n",
              "<p>892 rows × 6 columns</p>\n",
              "</div>\n",
              "      <button class=\"colab-df-convert\" onclick=\"convertToInteractive('df-fe381b83-b499-4bb6-a8d7-29ec13c841c1')\"\n",
              "              title=\"Convert this dataframe to an interactive table.\"\n",
              "              style=\"display:none;\">\n",
              "        \n",
              "  <svg xmlns=\"http://www.w3.org/2000/svg\" height=\"24px\"viewBox=\"0 0 24 24\"\n",
              "       width=\"24px\">\n",
              "    <path d=\"M0 0h24v24H0V0z\" fill=\"none\"/>\n",
              "    <path d=\"M18.56 5.44l.94 2.06.94-2.06 2.06-.94-2.06-.94-.94-2.06-.94 2.06-2.06.94zm-11 1L8.5 8.5l.94-2.06 2.06-.94-2.06-.94L8.5 2.5l-.94 2.06-2.06.94zm10 10l.94 2.06.94-2.06 2.06-.94-2.06-.94-.94-2.06-.94 2.06-2.06.94z\"/><path d=\"M17.41 7.96l-1.37-1.37c-.4-.4-.92-.59-1.43-.59-.52 0-1.04.2-1.43.59L10.3 9.45l-7.72 7.72c-.78.78-.78 2.05 0 2.83L4 21.41c.39.39.9.59 1.41.59.51 0 1.02-.2 1.41-.59l7.78-7.78 2.81-2.81c.8-.78.8-2.07 0-2.86zM5.41 20L4 18.59l7.72-7.72 1.47 1.35L5.41 20z\"/>\n",
              "  </svg>\n",
              "      </button>\n",
              "      \n",
              "  <style>\n",
              "    .colab-df-container {\n",
              "      display:flex;\n",
              "      flex-wrap:wrap;\n",
              "      gap: 12px;\n",
              "    }\n",
              "\n",
              "    .colab-df-convert {\n",
              "      background-color: #E8F0FE;\n",
              "      border: none;\n",
              "      border-radius: 50%;\n",
              "      cursor: pointer;\n",
              "      display: none;\n",
              "      fill: #1967D2;\n",
              "      height: 32px;\n",
              "      padding: 0 0 0 0;\n",
              "      width: 32px;\n",
              "    }\n",
              "\n",
              "    .colab-df-convert:hover {\n",
              "      background-color: #E2EBFA;\n",
              "      box-shadow: 0px 1px 2px rgba(60, 64, 67, 0.3), 0px 1px 3px 1px rgba(60, 64, 67, 0.15);\n",
              "      fill: #174EA6;\n",
              "    }\n",
              "\n",
              "    [theme=dark] .colab-df-convert {\n",
              "      background-color: #3B4455;\n",
              "      fill: #D2E3FC;\n",
              "    }\n",
              "\n",
              "    [theme=dark] .colab-df-convert:hover {\n",
              "      background-color: #434B5C;\n",
              "      box-shadow: 0px 1px 3px 1px rgba(0, 0, 0, 0.15);\n",
              "      filter: drop-shadow(0px 1px 2px rgba(0, 0, 0, 0.3));\n",
              "      fill: #FFFFFF;\n",
              "    }\n",
              "  </style>\n",
              "\n",
              "      <script>\n",
              "        const buttonEl =\n",
              "          document.querySelector('#df-fe381b83-b499-4bb6-a8d7-29ec13c841c1 button.colab-df-convert');\n",
              "        buttonEl.style.display =\n",
              "          google.colab.kernel.accessAllowed ? 'block' : 'none';\n",
              "\n",
              "        async function convertToInteractive(key) {\n",
              "          const element = document.querySelector('#df-fe381b83-b499-4bb6-a8d7-29ec13c841c1');\n",
              "          const dataTable =\n",
              "            await google.colab.kernel.invokeFunction('convertToInteractive',\n",
              "                                                     [key], {});\n",
              "          if (!dataTable) return;\n",
              "\n",
              "          const docLinkHtml = 'Like what you see? Visit the ' +\n",
              "            '<a target=\"_blank\" href=https://colab.research.google.com/notebooks/data_table.ipynb>data table notebook</a>'\n",
              "            + ' to learn more about interactive tables.';\n",
              "          element.innerHTML = '';\n",
              "          dataTable['output_type'] = 'display_data';\n",
              "          await google.colab.output.renderOutput(dataTable, element);\n",
              "          const docLink = document.createElement('div');\n",
              "          docLink.innerHTML = docLinkHtml;\n",
              "          element.appendChild(docLink);\n",
              "        }\n",
              "      </script>\n",
              "    </div>\n",
              "  </div>\n",
              "  "
            ]
          },
          "metadata": {},
          "execution_count": 20
        }
      ]
    },
    {
      "cell_type": "code",
      "source": [
        "data3.groupby('Educational').sum('Population Count')"
      ],
      "metadata": {
        "colab": {
          "base_uri": "https://localhost:8080/",
          "height": 206
        },
        "id": "ls8jZMrJPQ3j",
        "outputId": "8ea6b445-a940-48e3-dc75-707ae57febc7"
      },
      "execution_count": null,
      "outputs": [
        {
          "output_type": "execute_result",
          "data": {
            "text/plain": [
              "                                Population Count\n",
              "Educational                                     \n",
              "Bachelor's degree or higher             54617676\n",
              "College, less than 4-yr degree          52137494\n",
              "High school or equivalent               42942926\n",
              "No high school diploma                  40668871"
            ],
            "text/html": [
              "\n",
              "  <div id=\"df-015634cc-9476-404d-bd9d-80e78defa172\">\n",
              "    <div class=\"colab-df-container\">\n",
              "      <div>\n",
              "<style scoped>\n",
              "    .dataframe tbody tr th:only-of-type {\n",
              "        vertical-align: middle;\n",
              "    }\n",
              "\n",
              "    .dataframe tbody tr th {\n",
              "        vertical-align: top;\n",
              "    }\n",
              "\n",
              "    .dataframe thead th {\n",
              "        text-align: right;\n",
              "    }\n",
              "</style>\n",
              "<table border=\"1\" class=\"dataframe\">\n",
              "  <thead>\n",
              "    <tr style=\"text-align: right;\">\n",
              "      <th></th>\n",
              "      <th>Population Count</th>\n",
              "    </tr>\n",
              "    <tr>\n",
              "      <th>Educational</th>\n",
              "      <th></th>\n",
              "    </tr>\n",
              "  </thead>\n",
              "  <tbody>\n",
              "    <tr>\n",
              "      <th>Bachelor's degree or higher</th>\n",
              "      <td>54617676</td>\n",
              "    </tr>\n",
              "    <tr>\n",
              "      <th>College, less than 4-yr degree</th>\n",
              "      <td>52137494</td>\n",
              "    </tr>\n",
              "    <tr>\n",
              "      <th>High school or equivalent</th>\n",
              "      <td>42942926</td>\n",
              "    </tr>\n",
              "    <tr>\n",
              "      <th>No high school diploma</th>\n",
              "      <td>40668871</td>\n",
              "    </tr>\n",
              "  </tbody>\n",
              "</table>\n",
              "</div>\n",
              "      <button class=\"colab-df-convert\" onclick=\"convertToInteractive('df-015634cc-9476-404d-bd9d-80e78defa172')\"\n",
              "              title=\"Convert this dataframe to an interactive table.\"\n",
              "              style=\"display:none;\">\n",
              "        \n",
              "  <svg xmlns=\"http://www.w3.org/2000/svg\" height=\"24px\"viewBox=\"0 0 24 24\"\n",
              "       width=\"24px\">\n",
              "    <path d=\"M0 0h24v24H0V0z\" fill=\"none\"/>\n",
              "    <path d=\"M18.56 5.44l.94 2.06.94-2.06 2.06-.94-2.06-.94-.94-2.06-.94 2.06-2.06.94zm-11 1L8.5 8.5l.94-2.06 2.06-.94-2.06-.94L8.5 2.5l-.94 2.06-2.06.94zm10 10l.94 2.06.94-2.06 2.06-.94-2.06-.94-.94-2.06-.94 2.06-2.06.94z\"/><path d=\"M17.41 7.96l-1.37-1.37c-.4-.4-.92-.59-1.43-.59-.52 0-1.04.2-1.43.59L10.3 9.45l-7.72 7.72c-.78.78-.78 2.05 0 2.83L4 21.41c.39.39.9.59 1.41.59.51 0 1.02-.2 1.41-.59l7.78-7.78 2.81-2.81c.8-.78.8-2.07 0-2.86zM5.41 20L4 18.59l7.72-7.72 1.47 1.35L5.41 20z\"/>\n",
              "  </svg>\n",
              "      </button>\n",
              "      \n",
              "  <style>\n",
              "    .colab-df-container {\n",
              "      display:flex;\n",
              "      flex-wrap:wrap;\n",
              "      gap: 12px;\n",
              "    }\n",
              "\n",
              "    .colab-df-convert {\n",
              "      background-color: #E8F0FE;\n",
              "      border: none;\n",
              "      border-radius: 50%;\n",
              "      cursor: pointer;\n",
              "      display: none;\n",
              "      fill: #1967D2;\n",
              "      height: 32px;\n",
              "      padding: 0 0 0 0;\n",
              "      width: 32px;\n",
              "    }\n",
              "\n",
              "    .colab-df-convert:hover {\n",
              "      background-color: #E2EBFA;\n",
              "      box-shadow: 0px 1px 2px rgba(60, 64, 67, 0.3), 0px 1px 3px 1px rgba(60, 64, 67, 0.15);\n",
              "      fill: #174EA6;\n",
              "    }\n",
              "\n",
              "    [theme=dark] .colab-df-convert {\n",
              "      background-color: #3B4455;\n",
              "      fill: #D2E3FC;\n",
              "    }\n",
              "\n",
              "    [theme=dark] .colab-df-convert:hover {\n",
              "      background-color: #434B5C;\n",
              "      box-shadow: 0px 1px 3px 1px rgba(0, 0, 0, 0.15);\n",
              "      filter: drop-shadow(0px 1px 2px rgba(0, 0, 0, 0.3));\n",
              "      fill: #FFFFFF;\n",
              "    }\n",
              "  </style>\n",
              "\n",
              "      <script>\n",
              "        const buttonEl =\n",
              "          document.querySelector('#df-015634cc-9476-404d-bd9d-80e78defa172 button.colab-df-convert');\n",
              "        buttonEl.style.display =\n",
              "          google.colab.kernel.accessAllowed ? 'block' : 'none';\n",
              "\n",
              "        async function convertToInteractive(key) {\n",
              "          const element = document.querySelector('#df-015634cc-9476-404d-bd9d-80e78defa172');\n",
              "          const dataTable =\n",
              "            await google.colab.kernel.invokeFunction('convertToInteractive',\n",
              "                                                     [key], {});\n",
              "          if (!dataTable) return;\n",
              "\n",
              "          const docLinkHtml = 'Like what you see? Visit the ' +\n",
              "            '<a target=\"_blank\" href=https://colab.research.google.com/notebooks/data_table.ipynb>data table notebook</a>'\n",
              "            + ' to learn more about interactive tables.';\n",
              "          element.innerHTML = '';\n",
              "          dataTable['output_type'] = 'display_data';\n",
              "          await google.colab.output.renderOutput(dataTable, element);\n",
              "          const docLink = document.createElement('div');\n",
              "          docLink.innerHTML = docLinkHtml;\n",
              "          element.appendChild(docLink);\n",
              "        }\n",
              "      </script>\n",
              "    </div>\n",
              "  </div>\n",
              "  "
            ]
          },
          "metadata": {},
          "execution_count": 21
        }
      ]
    },
    {
      "cell_type": "code",
      "source": [
        "total=data3['Population Count'].sum()\n",
        "data3.loc[data3['Age']!='00 to 17'].groupby('Educational').sum('Population Count')*100/total"
      ],
      "metadata": {
        "colab": {
          "base_uri": "https://localhost:8080/",
          "height": 206
        },
        "id": "Yf8U-yKsQNMP",
        "outputId": "f823f6ed-7f8c-40a4-ff62-bba8669cc442"
      },
      "execution_count": null,
      "outputs": [
        {
          "output_type": "execute_result",
          "data": {
            "text/plain": [
              "                                Population Count\n",
              "Educational                                     \n",
              "Bachelor's degree or higher            28.683024\n",
              "College, less than 4-yr degree         27.339802\n",
              "High school or equivalent              22.497624\n",
              "No high school diploma                 16.338101"
            ],
            "text/html": [
              "\n",
              "  <div id=\"df-043f1a59-ddaf-4114-bf41-48c7ba0fe863\">\n",
              "    <div class=\"colab-df-container\">\n",
              "      <div>\n",
              "<style scoped>\n",
              "    .dataframe tbody tr th:only-of-type {\n",
              "        vertical-align: middle;\n",
              "    }\n",
              "\n",
              "    .dataframe tbody tr th {\n",
              "        vertical-align: top;\n",
              "    }\n",
              "\n",
              "    .dataframe thead th {\n",
              "        text-align: right;\n",
              "    }\n",
              "</style>\n",
              "<table border=\"1\" class=\"dataframe\">\n",
              "  <thead>\n",
              "    <tr style=\"text-align: right;\">\n",
              "      <th></th>\n",
              "      <th>Population Count</th>\n",
              "    </tr>\n",
              "    <tr>\n",
              "      <th>Educational</th>\n",
              "      <th></th>\n",
              "    </tr>\n",
              "  </thead>\n",
              "  <tbody>\n",
              "    <tr>\n",
              "      <th>Bachelor's degree or higher</th>\n",
              "      <td>28.683024</td>\n",
              "    </tr>\n",
              "    <tr>\n",
              "      <th>College, less than 4-yr degree</th>\n",
              "      <td>27.339802</td>\n",
              "    </tr>\n",
              "    <tr>\n",
              "      <th>High school or equivalent</th>\n",
              "      <td>22.497624</td>\n",
              "    </tr>\n",
              "    <tr>\n",
              "      <th>No high school diploma</th>\n",
              "      <td>16.338101</td>\n",
              "    </tr>\n",
              "  </tbody>\n",
              "</table>\n",
              "</div>\n",
              "      <button class=\"colab-df-convert\" onclick=\"convertToInteractive('df-043f1a59-ddaf-4114-bf41-48c7ba0fe863')\"\n",
              "              title=\"Convert this dataframe to an interactive table.\"\n",
              "              style=\"display:none;\">\n",
              "        \n",
              "  <svg xmlns=\"http://www.w3.org/2000/svg\" height=\"24px\"viewBox=\"0 0 24 24\"\n",
              "       width=\"24px\">\n",
              "    <path d=\"M0 0h24v24H0V0z\" fill=\"none\"/>\n",
              "    <path d=\"M18.56 5.44l.94 2.06.94-2.06 2.06-.94-2.06-.94-.94-2.06-.94 2.06-2.06.94zm-11 1L8.5 8.5l.94-2.06 2.06-.94-2.06-.94L8.5 2.5l-.94 2.06-2.06.94zm10 10l.94 2.06.94-2.06 2.06-.94-2.06-.94-.94-2.06-.94 2.06-2.06.94z\"/><path d=\"M17.41 7.96l-1.37-1.37c-.4-.4-.92-.59-1.43-.59-.52 0-1.04.2-1.43.59L10.3 9.45l-7.72 7.72c-.78.78-.78 2.05 0 2.83L4 21.41c.39.39.9.59 1.41.59.51 0 1.02-.2 1.41-.59l7.78-7.78 2.81-2.81c.8-.78.8-2.07 0-2.86zM5.41 20L4 18.59l7.72-7.72 1.47 1.35L5.41 20z\"/>\n",
              "  </svg>\n",
              "      </button>\n",
              "      \n",
              "  <style>\n",
              "    .colab-df-container {\n",
              "      display:flex;\n",
              "      flex-wrap:wrap;\n",
              "      gap: 12px;\n",
              "    }\n",
              "\n",
              "    .colab-df-convert {\n",
              "      background-color: #E8F0FE;\n",
              "      border: none;\n",
              "      border-radius: 50%;\n",
              "      cursor: pointer;\n",
              "      display: none;\n",
              "      fill: #1967D2;\n",
              "      height: 32px;\n",
              "      padding: 0 0 0 0;\n",
              "      width: 32px;\n",
              "    }\n",
              "\n",
              "    .colab-df-convert:hover {\n",
              "      background-color: #E2EBFA;\n",
              "      box-shadow: 0px 1px 2px rgba(60, 64, 67, 0.3), 0px 1px 3px 1px rgba(60, 64, 67, 0.15);\n",
              "      fill: #174EA6;\n",
              "    }\n",
              "\n",
              "    [theme=dark] .colab-df-convert {\n",
              "      background-color: #3B4455;\n",
              "      fill: #D2E3FC;\n",
              "    }\n",
              "\n",
              "    [theme=dark] .colab-df-convert:hover {\n",
              "      background-color: #434B5C;\n",
              "      box-shadow: 0px 1px 3px 1px rgba(0, 0, 0, 0.15);\n",
              "      filter: drop-shadow(0px 1px 2px rgba(0, 0, 0, 0.3));\n",
              "      fill: #FFFFFF;\n",
              "    }\n",
              "  </style>\n",
              "\n",
              "      <script>\n",
              "        const buttonEl =\n",
              "          document.querySelector('#df-043f1a59-ddaf-4114-bf41-48c7ba0fe863 button.colab-df-convert');\n",
              "        buttonEl.style.display =\n",
              "          google.colab.kernel.accessAllowed ? 'block' : 'none';\n",
              "\n",
              "        async function convertToInteractive(key) {\n",
              "          const element = document.querySelector('#df-043f1a59-ddaf-4114-bf41-48c7ba0fe863');\n",
              "          const dataTable =\n",
              "            await google.colab.kernel.invokeFunction('convertToInteractive',\n",
              "                                                     [key], {});\n",
              "          if (!dataTable) return;\n",
              "\n",
              "          const docLinkHtml = 'Like what you see? Visit the ' +\n",
              "            '<a target=\"_blank\" href=https://colab.research.google.com/notebooks/data_table.ipynb>data table notebook</a>'\n",
              "            + ' to learn more about interactive tables.';\n",
              "          element.innerHTML = '';\n",
              "          dataTable['output_type'] = 'display_data';\n",
              "          await google.colab.output.renderOutput(dataTable, element);\n",
              "          const docLink = document.createElement('div');\n",
              "          docLink.innerHTML = docLinkHtml;\n",
              "          element.appendChild(docLink);\n",
              "        }\n",
              "      </script>\n",
              "    </div>\n",
              "  </div>\n",
              "  "
            ]
          },
          "metadata": {},
          "execution_count": 22
        }
      ]
    },
    {
      "cell_type": "code",
      "source": [],
      "metadata": {
        "id": "-wyVpdlBQZuK"
      },
      "execution_count": null,
      "outputs": []
    }
  ]
}