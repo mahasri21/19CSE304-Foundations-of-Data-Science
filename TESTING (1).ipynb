{
  "nbformat": 4,
  "nbformat_minor": 0,
  "metadata": {
    "colab": {
      "provenance": []
    },
    "kernelspec": {
      "name": "python3",
      "display_name": "Python 3"
    },
    "language_info": {
      "name": "python"
    }
  },
  "cells": [
    {
      "cell_type": "markdown",
      "source": [
        "ROBERT SWAIN'S --CASE STUDY"
      ],
      "metadata": {
        "id": "bpkQlCNB4R-o"
      }
    },
    {
      "cell_type": "code",
      "source": [
        "import numpy as np\n",
        "import numpy.random as npr\n",
        "import scipy.stats as st"
      ],
      "metadata": {
        "id": "RF4e1NG84aSS"
      },
      "execution_count": null,
      "outputs": []
    },
    {
      "cell_type": "code",
      "source": [
        "npr.binomial(100,0.26)"
      ],
      "metadata": {
        "colab": {
          "base_uri": "https://localhost:8080/"
        },
        "id": "1EGiaZfB4_4b",
        "outputId": "3dc3ebc4-d180-4d09-8739-2d5c414612ef"
      },
      "execution_count": null,
      "outputs": [
        {
          "output_type": "execute_result",
          "data": {
            "text/plain": [
              "31"
            ]
          },
          "metadata": {},
          "execution_count": 3
        }
      ]
    },
    {
      "cell_type": "code",
      "source": [
        "simulations=1000\n",
        "for i in np.arange(simulations):\n",
        "    black_pop=npr.binomial(100,0.26,simulations)"
      ],
      "metadata": {
        "id": "DQ6e6RTg6PR6"
      },
      "execution_count": null,
      "outputs": []
    },
    {
      "cell_type": "code",
      "source": [
        "black_pop[1:6]"
      ],
      "metadata": {
        "colab": {
          "base_uri": "https://localhost:8080/"
        },
        "id": "jj8KVX5Q6n4M",
        "outputId": "2ff3c926-b75d-4633-a8ec-d9f45339765b"
      },
      "execution_count": null,
      "outputs": [
        {
          "output_type": "execute_result",
          "data": {
            "text/plain": [
              "array([23, 26, 36, 28, 26])"
            ]
          },
          "metadata": {},
          "execution_count": 5
        }
      ]
    },
    {
      "cell_type": "code",
      "source": [
        "%matplotlib inline"
      ],
      "metadata": {
        "id": "S42KGeMr6xAb"
      },
      "execution_count": null,
      "outputs": []
    },
    {
      "cell_type": "code",
      "source": [
        "import pandas as pd"
      ],
      "metadata": {
        "id": "nT7b8flO63pL"
      },
      "execution_count": null,
      "outputs": []
    },
    {
      "cell_type": "code",
      "source": [
        "panel_df = pd.DataFrame(black_pop)\n",
        "panel_df.head(3)"
      ],
      "metadata": {
        "colab": {
          "base_uri": "https://localhost:8080/",
          "height": 143
        },
        "id": "wg8dhqvW67Rl",
        "outputId": "4dea7eb3-3b40-478d-feda-e1043ab8ed68"
      },
      "execution_count": null,
      "outputs": [
        {
          "output_type": "execute_result",
          "data": {
            "text/plain": [
              "    0\n",
              "0  38\n",
              "1  23\n",
              "2  26"
            ],
            "text/html": [
              "\n",
              "  <div id=\"df-2e08b085-3959-48c3-a94f-6011382c5376\">\n",
              "    <div class=\"colab-df-container\">\n",
              "      <div>\n",
              "<style scoped>\n",
              "    .dataframe tbody tr th:only-of-type {\n",
              "        vertical-align: middle;\n",
              "    }\n",
              "\n",
              "    .dataframe tbody tr th {\n",
              "        vertical-align: top;\n",
              "    }\n",
              "\n",
              "    .dataframe thead th {\n",
              "        text-align: right;\n",
              "    }\n",
              "</style>\n",
              "<table border=\"1\" class=\"dataframe\">\n",
              "  <thead>\n",
              "    <tr style=\"text-align: right;\">\n",
              "      <th></th>\n",
              "      <th>0</th>\n",
              "    </tr>\n",
              "  </thead>\n",
              "  <tbody>\n",
              "    <tr>\n",
              "      <th>0</th>\n",
              "      <td>38</td>\n",
              "    </tr>\n",
              "    <tr>\n",
              "      <th>1</th>\n",
              "      <td>23</td>\n",
              "    </tr>\n",
              "    <tr>\n",
              "      <th>2</th>\n",
              "      <td>26</td>\n",
              "    </tr>\n",
              "  </tbody>\n",
              "</table>\n",
              "</div>\n",
              "      <button class=\"colab-df-convert\" onclick=\"convertToInteractive('df-2e08b085-3959-48c3-a94f-6011382c5376')\"\n",
              "              title=\"Convert this dataframe to an interactive table.\"\n",
              "              style=\"display:none;\">\n",
              "        \n",
              "  <svg xmlns=\"http://www.w3.org/2000/svg\" height=\"24px\"viewBox=\"0 0 24 24\"\n",
              "       width=\"24px\">\n",
              "    <path d=\"M0 0h24v24H0V0z\" fill=\"none\"/>\n",
              "    <path d=\"M18.56 5.44l.94 2.06.94-2.06 2.06-.94-2.06-.94-.94-2.06-.94 2.06-2.06.94zm-11 1L8.5 8.5l.94-2.06 2.06-.94-2.06-.94L8.5 2.5l-.94 2.06-2.06.94zm10 10l.94 2.06.94-2.06 2.06-.94-2.06-.94-.94-2.06-.94 2.06-2.06.94z\"/><path d=\"M17.41 7.96l-1.37-1.37c-.4-.4-.92-.59-1.43-.59-.52 0-1.04.2-1.43.59L10.3 9.45l-7.72 7.72c-.78.78-.78 2.05 0 2.83L4 21.41c.39.39.9.59 1.41.59.51 0 1.02-.2 1.41-.59l7.78-7.78 2.81-2.81c.8-.78.8-2.07 0-2.86zM5.41 20L4 18.59l7.72-7.72 1.47 1.35L5.41 20z\"/>\n",
              "  </svg>\n",
              "      </button>\n",
              "      \n",
              "  <style>\n",
              "    .colab-df-container {\n",
              "      display:flex;\n",
              "      flex-wrap:wrap;\n",
              "      gap: 12px;\n",
              "    }\n",
              "\n",
              "    .colab-df-convert {\n",
              "      background-color: #E8F0FE;\n",
              "      border: none;\n",
              "      border-radius: 50%;\n",
              "      cursor: pointer;\n",
              "      display: none;\n",
              "      fill: #1967D2;\n",
              "      height: 32px;\n",
              "      padding: 0 0 0 0;\n",
              "      width: 32px;\n",
              "    }\n",
              "\n",
              "    .colab-df-convert:hover {\n",
              "      background-color: #E2EBFA;\n",
              "      box-shadow: 0px 1px 2px rgba(60, 64, 67, 0.3), 0px 1px 3px 1px rgba(60, 64, 67, 0.15);\n",
              "      fill: #174EA6;\n",
              "    }\n",
              "\n",
              "    [theme=dark] .colab-df-convert {\n",
              "      background-color: #3B4455;\n",
              "      fill: #D2E3FC;\n",
              "    }\n",
              "\n",
              "    [theme=dark] .colab-df-convert:hover {\n",
              "      background-color: #434B5C;\n",
              "      box-shadow: 0px 1px 3px 1px rgba(0, 0, 0, 0.15);\n",
              "      filter: drop-shadow(0px 1px 2px rgba(0, 0, 0, 0.3));\n",
              "      fill: #FFFFFF;\n",
              "    }\n",
              "  </style>\n",
              "\n",
              "      <script>\n",
              "        const buttonEl =\n",
              "          document.querySelector('#df-2e08b085-3959-48c3-a94f-6011382c5376 button.colab-df-convert');\n",
              "        buttonEl.style.display =\n",
              "          google.colab.kernel.accessAllowed ? 'block' : 'none';\n",
              "\n",
              "        async function convertToInteractive(key) {\n",
              "          const element = document.querySelector('#df-2e08b085-3959-48c3-a94f-6011382c5376');\n",
              "          const dataTable =\n",
              "            await google.colab.kernel.invokeFunction('convertToInteractive',\n",
              "                                                     [key], {});\n",
              "          if (!dataTable) return;\n",
              "\n",
              "          const docLinkHtml = 'Like what you see? Visit the ' +\n",
              "            '<a target=\"_blank\" href=https://colab.research.google.com/notebooks/data_table.ipynb>data table notebook</a>'\n",
              "            + ' to learn more about interactive tables.';\n",
              "          element.innerHTML = '';\n",
              "          dataTable['output_type'] = 'display_data';\n",
              "          await google.colab.output.renderOutput(dataTable, element);\n",
              "          const docLink = document.createElement('div');\n",
              "          docLink.innerHTML = docLinkHtml;\n",
              "          element.appendChild(docLink);\n",
              "        }\n",
              "      </script>\n",
              "    </div>\n",
              "  </div>\n",
              "  "
            ]
          },
          "metadata": {},
          "execution_count": 8
        }
      ]
    },
    {
      "cell_type": "code",
      "source": [
        "panel_df.size"
      ],
      "metadata": {
        "colab": {
          "base_uri": "https://localhost:8080/"
        },
        "id": "DjW06ymD7LZq",
        "outputId": "40607b15-3e5d-4c76-c350-4157c7aeacf7"
      },
      "execution_count": null,
      "outputs": [
        {
          "output_type": "execute_result",
          "data": {
            "text/plain": [
              "1000"
            ]
          },
          "metadata": {},
          "execution_count": 9
        }
      ]
    },
    {
      "cell_type": "code",
      "source": [
        "import matplotlib.pyplot as plt"
      ],
      "metadata": {
        "id": "FnWfsA5L7QC6"
      },
      "execution_count": null,
      "outputs": []
    },
    {
      "cell_type": "code",
      "source": [
        "%matplotlib inline"
      ],
      "metadata": {
        "id": "Cj8gRrdY7Spf"
      },
      "execution_count": null,
      "outputs": []
    },
    {
      "cell_type": "code",
      "source": [
        "panel_df.hist()\n",
        "plt.title('Statistic');\n",
        "plt.xlabel('Count in a Random Sample %',fontsize=15)\n",
        "plt.ylabel('Unit',fontsize=15);\n",
        "plt.scatter(8, 0, color='red', s=30)"
      ],
      "metadata": {
        "colab": {
          "base_uri": "https://localhost:8080/",
          "height": 317
        },
        "id": "OokmSteT7WLz",
        "outputId": "97f55820-2ec3-4dca-9bd5-b144c948cfb8"
      },
      "execution_count": null,
      "outputs": [
        {
          "output_type": "execute_result",
          "data": {
            "text/plain": [
              "<matplotlib.collections.PathCollection at 0x7f21bd3721c0>"
            ]
          },
          "metadata": {},
          "execution_count": 12
        },
        {
          "output_type": "display_data",
          "data": {
            "text/plain": [
              "<Figure size 432x288 with 1 Axes>"
            ],
            "image/png": "[encoded data removed]"
          },
          "metadata": {
            "needs_background": "light"
          }
        }
      ]
    },
    {
      "cell_type": "markdown",
      "source": [
        "APPLICATION---INSTAGRAM"
      ],
      "metadata": {
        "id": "7WGoBCHT7abk"
      }
    },
    {
      "cell_type": "markdown",
      "source": [
        "two tailed z test"
      ],
      "metadata": {
        "id": "JJjuRmbbgq_y"
      }
    },
    {
      "cell_type": "code",
      "source": [
        "#H0= mu=10 ,ha:mu!=10\n",
        "n=20\n",
        "xbar=9\n",
        "mu=10\n",
        "sigma=5.54\n",
        "alpha=0.05"
      ],
      "metadata": {
        "id": "bsKd4XJP9ByD"
      },
      "execution_count": null,
      "outputs": []
    },
    {
      "cell_type": "code",
      "source": [
        "z=(xbar-mu)/(sigma/np.sqrt(n))\n",
        "z"
      ],
      "metadata": {
        "colab": {
          "base_uri": "https://localhost:8080/"
        },
        "id": "XSgEzOhAByRc",
        "outputId": "527f7d5a-f089-425e-e8a6-533a204876e3"
      },
      "execution_count": null,
      "outputs": [
        {
          "output_type": "execute_result",
          "data": {
            "text/plain": [
              "-0.8072447572201407"
            ]
          },
          "metadata": {},
          "execution_count": 15
        }
      ]
    },
    {
      "cell_type": "code",
      "source": [
        "if ( z > z_critical and z <abs(z_critical)):\n",
        "    print(\"Null hypothesis cannot be rejected\")\n",
        "else:\n",
        "    print(\"Reject null hypothesis\")"
      ],
      "metadata": {
        "colab": {
          "base_uri": "https://localhost:8080/"
        },
        "id": "7LcxZiIUB_L9",
        "outputId": "d3e51609-7302-4957-84ca-28dcdcad26eb"
      },
      "execution_count": null,
      "outputs": [
        {
          "output_type": "stream",
          "name": "stdout",
          "text": [
            "Null hypothesis cannot be rejected\n"
          ]
        }
      ]
    },
    {
      "cell_type": "markdown",
      "source": [
        "right tailed z test"
      ],
      "metadata": {
        "id": "-IPaWWabguW3"
      }
    },
    {
      "cell_type": "code",
      "source": [
        "xbar=48.6\n",
        "mu=46\n",
        "sigma=4.2\n",
        "alpha=0.05\n",
        "n=30\n"
      ],
      "metadata": {
        "id": "5OXhEB36gw3M"
      },
      "execution_count": null,
      "outputs": []
    },
    {
      "cell_type": "code",
      "source": [
        "z_critical=abs(st.norm.ppf(alpha))\n",
        "z_critical"
      ],
      "metadata": {
        "colab": {
          "base_uri": "https://localhost:8080/"
        },
        "id": "OtIxuRDXhMu9",
        "outputId": "ab4d278b-997a-4681-ac88-bc09c47833a9"
      },
      "execution_count": null,
      "outputs": [
        {
          "output_type": "execute_result",
          "data": {
            "text/plain": [
              "1.6448536269514729"
            ]
          },
          "metadata": {},
          "execution_count": 24
        }
      ]
    },
    {
      "cell_type": "code",
      "source": [
        "z=(xbar-mu)/(sigma/np.sqrt(n))\n",
        "z"
      ],
      "metadata": {
        "colab": {
          "base_uri": "https://localhost:8080/"
        },
        "id": "r7tLOa7WhYzf",
        "outputId": "aa21b3ca-202c-48ae-d878-a779211f7792"
      },
      "execution_count": null,
      "outputs": [
        {
          "output_type": "execute_result",
          "data": {
            "text/plain": [
              "3.3906634512224585"
            ]
          },
          "metadata": {},
          "execution_count": 26
        }
      ]
    },
    {
      "cell_type": "code",
      "source": [
        "if(z<z_critical):\n",
        "  print(\"NULL HYPOTHESIS CAN'T BE REJECTED\")\n",
        "else:\n",
        "  print(\"REJECT NULL HYPOTHESIS\")"
      ],
      "metadata": {
        "colab": {
          "base_uri": "https://localhost:8080/"
        },
        "id": "U2RilzKBhlFC",
        "outputId": "3c657dff-5fe1-4fba-c5b7-988c55e1a0ae"
      },
      "execution_count": null,
      "outputs": [
        {
          "output_type": "stream",
          "name": "stdout",
          "text": [
            "REJECT NULL HYPOTHESIS\n"
          ]
        }
      ]
    },
    {
      "cell_type": "markdown",
      "source": [
        "left tailed z test"
      ],
      "metadata": {
        "id": "-KszwO6sh74V"
      }
    },
    {
      "cell_type": "code",
      "source": [
        "xbar=9900\n",
        "mu=10000\n",
        "sigma=120\n",
        "alpha=0.05\n",
        "n=30\n"
      ],
      "metadata": {
        "id": "cZBqS0_KiJid"
      },
      "execution_count": null,
      "outputs": []
    },
    {
      "cell_type": "code",
      "source": [
        "z=(xbar-mu)/(sigma/np.sqrt(n))\n",
        "z"
      ],
      "metadata": {
        "colab": {
          "base_uri": "https://localhost:8080/"
        },
        "id": "Kn10omTLivky",
        "outputId": "96a5366c-8e51-4bd8-8b81-f09f79463f4d"
      },
      "execution_count": null,
      "outputs": [
        {
          "output_type": "execute_result",
          "data": {
            "text/plain": [
              "-4.564354645876384"
            ]
          },
          "metadata": {},
          "execution_count": 30
        }
      ]
    },
    {
      "cell_type": "code",
      "source": [
        "z_critical=(st.norm.ppf(alpha))\n",
        "z_critical"
      ],
      "metadata": {
        "colab": {
          "base_uri": "https://localhost:8080/"
        },
        "id": "eTRck_fni2sw",
        "outputId": "97709924-d710-4429-a532-1a722a3af22e"
      },
      "execution_count": null,
      "outputs": [
        {
          "output_type": "execute_result",
          "data": {
            "text/plain": [
              "-1.6448536269514729"
            ]
          },
          "metadata": {},
          "execution_count": 31
        }
      ]
    },
    {
      "cell_type": "code",
      "source": [
        "if(z>z_critical):\n",
        "  print(\"NULL HYPOTHESIS CAN'T BE REJECTED\")\n",
        "else:\n",
        "  print(\"REJECT NULL HYPOTHESIS\")"
      ],
      "metadata": {
        "colab": {
          "base_uri": "https://localhost:8080/"
        },
        "id": "CIRko9Jai6UJ",
        "outputId": "0b74c308-9a0b-4e1d-fdb1-4398b7a35896"
      },
      "execution_count": null,
      "outputs": [
        {
          "output_type": "stream",
          "name": "stdout",
          "text": [
            "REJECT NULL HYPOTHESIS\n"
          ]
        }
      ]
    },
    {
      "cell_type": "markdown",
      "source": [
        "z test using p value(two tailed)"
      ],
      "metadata": {
        "id": "fFQ_-hAsjBLH"
      }
    },
    {
      "cell_type": "code",
      "source": [
        "n = 32\n",
        "xbar = 8.2\n",
        "mu = 8\n",
        "sigma = 0.6\n",
        "alpha = 0.05"
      ],
      "metadata": {
        "id": "Sr4MIrlVjWsf"
      },
      "execution_count": null,
      "outputs": []
    },
    {
      "cell_type": "code",
      "source": [
        "z = (xbar-mu)/(sigma/np.sqrt(n))\n",
        "z"
      ],
      "metadata": {
        "colab": {
          "base_uri": "https://localhost:8080/"
        },
        "id": "F_k-vA52jdPZ",
        "outputId": "79151ecb-dc12-4647-97f5-6ed9d76564c8"
      },
      "execution_count": null,
      "outputs": [
        {
          "output_type": "execute_result",
          "data": {
            "text/plain": [
              "1.8856180831641203"
            ]
          },
          "metadata": {},
          "execution_count": 34
        }
      ]
    },
    {
      "cell_type": "code",
      "source": [
        "p_val = (1 - st.norm.cdf(abs(z))) * 2\n",
        "p_val"
      ],
      "metadata": {
        "colab": {
          "base_uri": "https://localhost:8080/"
        },
        "id": "-GcNbADOjgU3",
        "outputId": "48a0283e-a04f-4576-bcf2-01d189f674f4"
      },
      "execution_count": null,
      "outputs": [
        {
          "output_type": "execute_result",
          "data": {
            "text/plain": [
              "0.0593464387919207"
            ]
          },
          "metadata": {},
          "execution_count": 35
        }
      ]
    },
    {
      "cell_type": "code",
      "source": [
        "if (p_val > alpha):\n",
        "    print(\"Null hypothesis cannot be rejected\")\n",
        "else:\n",
        "    print(\"Reject null hypothesis\")"
      ],
      "metadata": {
        "colab": {
          "base_uri": "https://localhost:8080/"
        },
        "id": "5vy2IPRbjlOf",
        "outputId": "c82f8473-13fd-4d20-a236-a66fa780e060"
      },
      "execution_count": null,
      "outputs": [
        {
          "output_type": "stream",
          "name": "stdout",
          "text": [
            "Null hypothesis cannot be rejected\n"
          ]
        }
      ]
    },
    {
      "cell_type": "markdown",
      "source": [
        "t test using p value(right tailed)"
      ],
      "metadata": {
        "id": "yYvFQjIskAF4"
      }
    },
    {
      "cell_type": "code",
      "source": [
        "n = 15\n",
        "degrees_of_freedom = n-1\n",
        "xbar = 40.6\n",
        "mu = 36.7\n",
        "s = 6\n",
        "alpha = 0.05"
      ],
      "metadata": {
        "id": "4zgcv7zLkKWd"
      },
      "execution_count": null,
      "outputs": []
    },
    {
      "cell_type": "code",
      "source": [
        "t = (xbar - mu)/(s / np.sqrt(n))\n",
        "t"
      ],
      "metadata": {
        "colab": {
          "base_uri": "https://localhost:8080/"
        },
        "id": "y2zFMEK6kOrt",
        "outputId": "802ef0ae-b649-470d-9f87-dc361d632dae"
      },
      "execution_count": null,
      "outputs": [
        {
          "output_type": "execute_result",
          "data": {
            "text/plain": [
              "2.51743917503482"
            ]
          },
          "metadata": {},
          "execution_count": 38
        }
      ]
    },
    {
      "cell_type": "code",
      "source": [
        "p_val = (1 - st.t.cdf(abs(t), degrees_of_freedom))\n",
        "p_val"
      ],
      "metadata": {
        "colab": {
          "base_uri": "https://localhost:8080/"
        },
        "id": "5V06e3ijkUs9",
        "outputId": "a0d28569-5f9c-4f1c-a3f8-549db24efd95"
      },
      "execution_count": null,
      "outputs": [
        {
          "output_type": "execute_result",
          "data": {
            "text/plain": [
              "0.012311189053656801"
            ]
          },
          "metadata": {},
          "execution_count": 40
        }
      ]
    },
    {
      "cell_type": "code",
      "source": [
        "if (p_val > alpha):\n",
        "    print(\"Null hypothesis cannot be rejected\")\n",
        "else:\n",
        "    print(\"Reject null hypothesis\")"
      ],
      "metadata": {
        "colab": {
          "base_uri": "https://localhost:8080/"
        },
        "id": "aUsGYOnKkbVZ",
        "outputId": "a68e07fa-1f9f-49e4-c194-3f2ffc444796"
      },
      "execution_count": null,
      "outputs": [
        {
          "output_type": "stream",
          "name": "stdout",
          "text": [
            "Reject null hypothesis\n"
          ]
        }
      ]
    },
    {
      "cell_type": "markdown",
      "source": [
        "t test (two tailed)"
      ],
      "metadata": {
        "id": "rIpuEIXhk__g"
      }
    },
    {
      "cell_type": "code",
      "source": [
        "n = 10\n",
        "degrees_of_freedom = n-1\n",
        "xbar = 17.7\n",
        "mu = 16.3\n",
        "s = 1.8\n",
        "alpha = 0.05"
      ],
      "metadata": {
        "id": "Ch83VIE7lH96"
      },
      "execution_count": null,
      "outputs": []
    },
    {
      "cell_type": "code",
      "source": [
        "t = (xbar - mu)/(s / np.sqrt(n))\n",
        "t"
      ],
      "metadata": {
        "colab": {
          "base_uri": "https://localhost:8080/"
        },
        "id": "fWvplsQIlK3F",
        "outputId": "03f6d902-84b7-4b53-b6be-42382205ac4d"
      },
      "execution_count": null,
      "outputs": [
        {
          "output_type": "execute_result",
          "data": {
            "text/plain": [
              "2.4595492912420704"
            ]
          },
          "metadata": {},
          "execution_count": 43
        }
      ]
    },
    {
      "cell_type": "code",
      "source": [
        "t_critical = st.t.ppf(alpha/2, degrees_of_freedom)\n",
        "t_critical"
      ],
      "metadata": {
        "colab": {
          "base_uri": "https://localhost:8080/"
        },
        "id": "1BHiFYVMlQFV",
        "outputId": "191e92e8-9e1f-4e9e-f7fa-ef7bc0791f94"
      },
      "execution_count": null,
      "outputs": [
        {
          "output_type": "execute_result",
          "data": {
            "text/plain": [
              "-2.262157162740992"
            ]
          },
          "metadata": {},
          "execution_count": 44
        }
      ]
    },
    {
      "cell_type": "code",
      "source": [
        "if (abs(t) < abs(t_critical)): #Absolute value taken as the it's a two-tailed test and the original t_critical value might be negative\n",
        "    print(\"Null hypothesis cannot be rejected\")\n",
        "else:\n",
        "    print(\"Reject null hypothesis\")"
      ],
      "metadata": {
        "colab": {
          "base_uri": "https://localhost:8080/"
        },
        "id": "yridfIaUldCC",
        "outputId": "1c1bed0e-ec7d-4640-dd09-de8f157b795b"
      },
      "execution_count": null,
      "outputs": [
        {
          "output_type": "stream",
          "name": "stdout",
          "text": [
            "Reject null hypothesis\n"
          ]
        }
      ]
    },
    {
      "cell_type": "markdown",
      "source": [
        "almeda's"
      ],
      "metadata": {
        "id": "8DO9T0cBSzjm"
      }
    },
    {
      "cell_type": "code",
      "source": [
        "import pandas as pd\n",
        "import matplotlib.pyplot as plt\n",
        "%matplotlib inline\n",
        "import numpy as np"
      ],
      "metadata": {
        "id": "iPbIWiYPS5yk"
      },
      "execution_count": null,
      "outputs": []
    },
    {
      "cell_type": "code",
      "source": [
        "jury = {\"Ethnicity\":[\"Asian\",\"Black\",\"Latino\",\"White\",\"Other\"],\"Eligible\":[0.15,0.18,0.12,0.54,0.01],\"Panels\":[0.26,0.08,0.08,0.54,0.04]}\n",
        "jury"
      ],
      "metadata": {
        "colab": {
          "base_uri": "https://localhost:8080/"
        },
        "id": "0VD1oAXWTCT1",
        "outputId": "7d03d8e7-e294-4d82-af4c-3630ff10cf2c"
      },
      "execution_count": null,
      "outputs": [
        {
          "output_type": "execute_result",
          "data": {
            "text/plain": [
              "{'Ethnicity': ['Asian', 'Black', 'Latino', 'White', 'Other'],\n",
              " 'Eligible': [0.15, 0.18, 0.12, 0.54, 0.01],\n",
              " 'Panels': [0.26, 0.08, 0.08, 0.54, 0.04]}"
            ]
          },
          "metadata": {},
          "execution_count": 2
        }
      ]
    },
    {
      "cell_type": "code",
      "source": [
        "Alameda_df = pd.DataFrame(jury)\n",
        "Alameda_df"
      ],
      "metadata": {
        "colab": {
          "base_uri": "https://localhost:8080/",
          "height": 206
        },
        "id": "ARafKxlaTKdg",
        "outputId": "c3d9a481-ebac-40d5-aeb9-1038a6ff7cfc"
      },
      "execution_count": null,
      "outputs": [
        {
          "output_type": "execute_result",
          "data": {
            "text/plain": [
              "  Ethnicity  Eligible  Panels\n",
              "0     Asian      0.15    0.26\n",
              "1     Black      0.18    0.08\n",
              "2    Latino      0.12    0.08\n",
              "3     White      0.54    0.54\n",
              "4     Other      0.01    0.04"
            ],
            "text/html": [
              "\n",
              "  <div id=\"df-1a764dae-0381-4733-9f7a-6d5765bf1c2e\">\n",
              "    <div class=\"colab-df-container\">\n",
              "      <div>\n",
              "<style scoped>\n",
              "    .dataframe tbody tr th:only-of-type {\n",
              "        vertical-align: middle;\n",
              "    }\n",
              "\n",
              "    .dataframe tbody tr th {\n",
              "        vertical-align: top;\n",
              "    }\n",
              "\n",
              "    .dataframe thead th {\n",
              "        text-align: right;\n",
              "    }\n",
              "</style>\n",
              "<table border=\"1\" class=\"dataframe\">\n",
              "  <thead>\n",
              "    <tr style=\"text-align: right;\">\n",
              "      <th></th>\n",
              "      <th>Ethnicity</th>\n",
              "      <th>Eligible</th>\n",
              "      <th>Panels</th>\n",
              "    </tr>\n",
              "  </thead>\n",
              "  <tbody>\n",
              "    <tr>\n",
              "      <th>0</th>\n",
              "      <td>Asian</td>\n",
              "      <td>0.15</td>\n",
              "      <td>0.26</td>\n",
              "    </tr>\n",
              "    <tr>\n",
              "      <th>1</th>\n",
              "      <td>Black</td>\n",
              "      <td>0.18</td>\n",
              "      <td>0.08</td>\n",
              "    </tr>\n",
              "    <tr>\n",
              "      <th>2</th>\n",
              "      <td>Latino</td>\n",
              "      <td>0.12</td>\n",
              "      <td>0.08</td>\n",
              "    </tr>\n",
              "    <tr>\n",
              "      <th>3</th>\n",
              "      <td>White</td>\n",
              "      <td>0.54</td>\n",
              "      <td>0.54</td>\n",
              "    </tr>\n",
              "    <tr>\n",
              "      <th>4</th>\n",
              "      <td>Other</td>\n",
              "      <td>0.01</td>\n",
              "      <td>0.04</td>\n",
              "    </tr>\n",
              "  </tbody>\n",
              "</table>\n",
              "</div>\n",
              "      <button class=\"colab-df-convert\" onclick=\"convertToInteractive('df-1a764dae-0381-4733-9f7a-6d5765bf1c2e')\"\n",
              "              title=\"Convert this dataframe to an interactive table.\"\n",
              "              style=\"display:none;\">\n",
              "        \n",
              "  <svg xmlns=\"http://www.w3.org/2000/svg\" height=\"24px\"viewBox=\"0 0 24 24\"\n",
              "       width=\"24px\">\n",
              "    <path d=\"M0 0h24v24H0V0z\" fill=\"none\"/>\n",
              "    <path d=\"M18.56 5.44l.94 2.06.94-2.06 2.06-.94-2.06-.94-.94-2.06-.94 2.06-2.06.94zm-11 1L8.5 8.5l.94-2.06 2.06-.94-2.06-.94L8.5 2.5l-.94 2.06-2.06.94zm10 10l.94 2.06.94-2.06 2.06-.94-2.06-.94-.94-2.06-.94 2.06-2.06.94z\"/><path d=\"M17.41 7.96l-1.37-1.37c-.4-.4-.92-.59-1.43-.59-.52 0-1.04.2-1.43.59L10.3 9.45l-7.72 7.72c-.78.78-.78 2.05 0 2.83L4 21.41c.39.39.9.59 1.41.59.51 0 1.02-.2 1.41-.59l7.78-7.78 2.81-2.81c.8-.78.8-2.07 0-2.86zM5.41 20L4 18.59l7.72-7.72 1.47 1.35L5.41 20z\"/>\n",
              "  </svg>\n",
              "      </button>\n",
              "      \n",
              "  <style>\n",
              "    .colab-df-container {\n",
              "      display:flex;\n",
              "      flex-wrap:wrap;\n",
              "      gap: 12px;\n",
              "    }\n",
              "\n",
              "    .colab-df-convert {\n",
              "      background-color: #E8F0FE;\n",
              "      border: none;\n",
              "      border-radius: 50%;\n",
              "      cursor: pointer;\n",
              "      display: none;\n",
              "      fill: #1967D2;\n",
              "      height: 32px;\n",
              "      padding: 0 0 0 0;\n",
              "      width: 32px;\n",
              "    }\n",
              "\n",
              "    .colab-df-convert:hover {\n",
              "      background-color: #E2EBFA;\n",
              "      box-shadow: 0px 1px 2px rgba(60, 64, 67, 0.3), 0px 1px 3px 1px rgba(60, 64, 67, 0.15);\n",
              "      fill: #174EA6;\n",
              "    }\n",
              "\n",
              "    [theme=dark] .colab-df-convert {\n",
              "      background-color: #3B4455;\n",
              "      fill: #D2E3FC;\n",
              "    }\n",
              "\n",
              "    [theme=dark] .colab-df-convert:hover {\n",
              "      background-color: #434B5C;\n",
              "      box-shadow: 0px 1px 3px 1px rgba(0, 0, 0, 0.15);\n",
              "      filter: drop-shadow(0px 1px 2px rgba(0, 0, 0, 0.3));\n",
              "      fill: #FFFFFF;\n",
              "    }\n",
              "  </style>\n",
              "\n",
              "      <script>\n",
              "        const buttonEl =\n",
              "          document.querySelector('#df-1a764dae-0381-4733-9f7a-6d5765bf1c2e button.colab-df-convert');\n",
              "        buttonEl.style.display =\n",
              "          google.colab.kernel.accessAllowed ? 'block' : 'none';\n",
              "\n",
              "        async function convertToInteractive(key) {\n",
              "          const element = document.querySelector('#df-1a764dae-0381-4733-9f7a-6d5765bf1c2e');\n",
              "          const dataTable =\n",
              "            await google.colab.kernel.invokeFunction('convertToInteractive',\n",
              "                                                     [key], {});\n",
              "          if (!dataTable) return;\n",
              "\n",
              "          const docLinkHtml = 'Like what you see? Visit the ' +\n",
              "            '<a target=\"_blank\" href=https://colab.research.google.com/notebooks/data_table.ipynb>data table notebook</a>'\n",
              "            + ' to learn more about interactive tables.';\n",
              "          element.innerHTML = '';\n",
              "          dataTable['output_type'] = 'display_data';\n",
              "          await google.colab.output.renderOutput(dataTable, element);\n",
              "          const docLink = document.createElement('div');\n",
              "          docLink.innerHTML = docLinkHtml;\n",
              "          element.appendChild(docLink);\n",
              "        }\n",
              "      </script>\n",
              "    </div>\n",
              "  </div>\n",
              "  "
            ]
          },
          "metadata": {},
          "execution_count": 3
        }
      ]
    },
    {
      "cell_type": "code",
      "source": [
        "Alameda_df_1 = Alameda_df.set_index('Ethnicity')\n",
        "Alameda_df_1"
      ],
      "metadata": {
        "colab": {
          "base_uri": "https://localhost:8080/",
          "height": 237
        },
        "id": "l3yCJEC0TMHc",
        "outputId": "59dd3fe8-1113-4e09-d59a-d7d6e6093f56"
      },
      "execution_count": null,
      "outputs": [
        {
          "output_type": "execute_result",
          "data": {
            "text/plain": [
              "           Eligible  Panels\n",
              "Ethnicity                  \n",
              "Asian          0.15    0.26\n",
              "Black          0.18    0.08\n",
              "Latino         0.12    0.08\n",
              "White          0.54    0.54\n",
              "Other          0.01    0.04"
            ],
            "text/html": [
              "\n",
              "  <div id=\"df-522a2b55-8973-46b1-bd3b-6eeafa0fc1ba\">\n",
              "    <div class=\"colab-df-container\">\n",
              "      <div>\n",
              "<style scoped>\n",
              "    .dataframe tbody tr th:only-of-type {\n",
              "        vertical-align: middle;\n",
              "    }\n",
              "\n",
              "    .dataframe tbody tr th {\n",
              "        vertical-align: top;\n",
              "    }\n",
              "\n",
              "    .dataframe thead th {\n",
              "        text-align: right;\n",
              "    }\n",
              "</style>\n",
              "<table border=\"1\" class=\"dataframe\">\n",
              "  <thead>\n",
              "    <tr style=\"text-align: right;\">\n",
              "      <th></th>\n",
              "      <th>Eligible</th>\n",
              "      <th>Panels</th>\n",
              "    </tr>\n",
              "    <tr>\n",
              "      <th>Ethnicity</th>\n",
              "      <th></th>\n",
              "      <th></th>\n",
              "    </tr>\n",
              "  </thead>\n",
              "  <tbody>\n",
              "    <tr>\n",
              "      <th>Asian</th>\n",
              "      <td>0.15</td>\n",
              "      <td>0.26</td>\n",
              "    </tr>\n",
              "    <tr>\n",
              "      <th>Black</th>\n",
              "      <td>0.18</td>\n",
              "      <td>0.08</td>\n",
              "    </tr>\n",
              "    <tr>\n",
              "      <th>Latino</th>\n",
              "      <td>0.12</td>\n",
              "      <td>0.08</td>\n",
              "    </tr>\n",
              "    <tr>\n",
              "      <th>White</th>\n",
              "      <td>0.54</td>\n",
              "      <td>0.54</td>\n",
              "    </tr>\n",
              "    <tr>\n",
              "      <th>Other</th>\n",
              "      <td>0.01</td>\n",
              "      <td>0.04</td>\n",
              "    </tr>\n",
              "  </tbody>\n",
              "</table>\n",
              "</div>\n",
              "      <button class=\"colab-df-convert\" onclick=\"convertToInteractive('df-522a2b55-8973-46b1-bd3b-6eeafa0fc1ba')\"\n",
              "              title=\"Convert this dataframe to an interactive table.\"\n",
              "              style=\"display:none;\">\n",
              "        \n",
              "  <svg xmlns=\"http://www.w3.org/2000/svg\" height=\"24px\"viewBox=\"0 0 24 24\"\n",
              "       width=\"24px\">\n",
              "    <path d=\"M0 0h24v24H0V0z\" fill=\"none\"/>\n",
              "    <path d=\"M18.56 5.44l.94 2.06.94-2.06 2.06-.94-2.06-.94-.94-2.06-.94 2.06-2.06.94zm-11 1L8.5 8.5l.94-2.06 2.06-.94-2.06-.94L8.5 2.5l-.94 2.06-2.06.94zm10 10l.94 2.06.94-2.06 2.06-.94-2.06-.94-.94-2.06-.94 2.06-2.06.94z\"/><path d=\"M17.41 7.96l-1.37-1.37c-.4-.4-.92-.59-1.43-.59-.52 0-1.04.2-1.43.59L10.3 9.45l-7.72 7.72c-.78.78-.78 2.05 0 2.83L4 21.41c.39.39.9.59 1.41.59.51 0 1.02-.2 1.41-.59l7.78-7.78 2.81-2.81c.8-.78.8-2.07 0-2.86zM5.41 20L4 18.59l7.72-7.72 1.47 1.35L5.41 20z\"/>\n",
              "  </svg>\n",
              "      </button>\n",
              "      \n",
              "  <style>\n",
              "    .colab-df-container {\n",
              "      display:flex;\n",
              "      flex-wrap:wrap;\n",
              "      gap: 12px;\n",
              "    }\n",
              "\n",
              "    .colab-df-convert {\n",
              "      background-color: #E8F0FE;\n",
              "      border: none;\n",
              "      border-radius: 50%;\n",
              "      cursor: pointer;\n",
              "      display: none;\n",
              "      fill: #1967D2;\n",
              "      height: 32px;\n",
              "      padding: 0 0 0 0;\n",
              "      width: 32px;\n",
              "    }\n",
              "\n",
              "    .colab-df-convert:hover {\n",
              "      background-color: #E2EBFA;\n",
              "      box-shadow: 0px 1px 2px rgba(60, 64, 67, 0.3), 0px 1px 3px 1px rgba(60, 64, 67, 0.15);\n",
              "      fill: #174EA6;\n",
              "    }\n",
              "\n",
              "    [theme=dark] .colab-df-convert {\n",
              "      background-color: #3B4455;\n",
              "      fill: #D2E3FC;\n",
              "    }\n",
              "\n",
              "    [theme=dark] .colab-df-convert:hover {\n",
              "      background-color: #434B5C;\n",
              "      box-shadow: 0px 1px 3px 1px rgba(0, 0, 0, 0.15);\n",
              "      filter: drop-shadow(0px 1px 2px rgba(0, 0, 0, 0.3));\n",
              "      fill: #FFFFFF;\n",
              "    }\n",
              "  </style>\n",
              "\n",
              "      <script>\n",
              "        const buttonEl =\n",
              "          document.querySelector('#df-522a2b55-8973-46b1-bd3b-6eeafa0fc1ba button.colab-df-convert');\n",
              "        buttonEl.style.display =\n",
              "          google.colab.kernel.accessAllowed ? 'block' : 'none';\n",
              "\n",
              "        async function convertToInteractive(key) {\n",
              "          const element = document.querySelector('#df-522a2b55-8973-46b1-bd3b-6eeafa0fc1ba');\n",
              "          const dataTable =\n",
              "            await google.colab.kernel.invokeFunction('convertToInteractive',\n",
              "                                                     [key], {});\n",
              "          if (!dataTable) return;\n",
              "\n",
              "          const docLinkHtml = 'Like what you see? Visit the ' +\n",
              "            '<a target=\"_blank\" href=https://colab.research.google.com/notebooks/data_table.ipynb>data table notebook</a>'\n",
              "            + ' to learn more about interactive tables.';\n",
              "          element.innerHTML = '';\n",
              "          dataTable['output_type'] = 'display_data';\n",
              "          await google.colab.output.renderOutput(dataTable, element);\n",
              "          const docLink = document.createElement('div');\n",
              "          docLink.innerHTML = docLinkHtml;\n",
              "          element.appendChild(docLink);\n",
              "        }\n",
              "      </script>\n",
              "    </div>\n",
              "  </div>\n",
              "  "
            ]
          },
          "metadata": {},
          "execution_count": 4
        }
      ]
    },
    {
      "cell_type": "code",
      "source": [
        "Alameda_df_1 .plot.barh()\n",
        "plt.ylabel('Ethnicity')\n",
        "plt.gca().invert_yaxis()"
      ],
      "metadata": {
        "colab": {
          "base_uri": "https://localhost:8080/",
          "height": 265
        },
        "id": "tlcSopZjTTjz",
        "outputId": "fb965eca-f23e-4f4a-c8fc-a3c15cf65df5"
      },
      "execution_count": null,
      "outputs": [
        {
          "output_type": "display_data",
          "data": {
            "text/plain": [
              "<Figure size 432x288 with 1 Axes>"
            ],
            "image/png": "[encoded data removed]"
          },
          "metadata": {
            "needs_background": "light"
          }
        }
      ]
    },
    {
      "cell_type": "code",
      "source": [
        "Alameda_df_1['jury_with_diffs'] = Alameda_df_1['Panels']-Alameda_df_1['Eligible']\n",
        "Alameda_df_1"
      ],
      "metadata": {
        "colab": {
          "base_uri": "https://localhost:8080/",
          "height": 237
        },
        "id": "ddMTK4BPTZjm",
        "outputId": "cab971cc-a449-4715-a31d-baacb347f3ee"
      },
      "execution_count": null,
      "outputs": [
        {
          "output_type": "execute_result",
          "data": {
            "text/plain": [
              "           Eligible  Panels  jury_with_diffs\n",
              "Ethnicity                                   \n",
              "Asian          0.15    0.26             0.11\n",
              "Black          0.18    0.08            -0.10\n",
              "Latino         0.12    0.08            -0.04\n",
              "White          0.54    0.54             0.00\n",
              "Other          0.01    0.04             0.03"
            ],
            "text/html": [
              "\n",
              "  <div id=\"df-9f8f7e29-0152-46ba-b686-fec1f7155504\">\n",
              "    <div class=\"colab-df-container\">\n",
              "      <div>\n",
              "<style scoped>\n",
              "    .dataframe tbody tr th:only-of-type {\n",
              "        vertical-align: middle;\n",
              "    }\n",
              "\n",
              "    .dataframe tbody tr th {\n",
              "        vertical-align: top;\n",
              "    }\n",
              "\n",
              "    .dataframe thead th {\n",
              "        text-align: right;\n",
              "    }\n",
              "</style>\n",
              "<table border=\"1\" class=\"dataframe\">\n",
              "  <thead>\n",
              "    <tr style=\"text-align: right;\">\n",
              "      <th></th>\n",
              "      <th>Eligible</th>\n",
              "      <th>Panels</th>\n",
              "      <th>jury_with_diffs</th>\n",
              "    </tr>\n",
              "    <tr>\n",
              "      <th>Ethnicity</th>\n",
              "      <th></th>\n",
              "      <th></th>\n",
              "      <th></th>\n",
              "    </tr>\n",
              "  </thead>\n",
              "  <tbody>\n",
              "    <tr>\n",
              "      <th>Asian</th>\n",
              "      <td>0.15</td>\n",
              "      <td>0.26</td>\n",
              "      <td>0.11</td>\n",
              "    </tr>\n",
              "    <tr>\n",
              "      <th>Black</th>\n",
              "      <td>0.18</td>\n",
              "      <td>0.08</td>\n",
              "      <td>-0.10</td>\n",
              "    </tr>\n",
              "    <tr>\n",
              "      <th>Latino</th>\n",
              "      <td>0.12</td>\n",
              "      <td>0.08</td>\n",
              "      <td>-0.04</td>\n",
              "    </tr>\n",
              "    <tr>\n",
              "      <th>White</th>\n",
              "      <td>0.54</td>\n",
              "      <td>0.54</td>\n",
              "      <td>0.00</td>\n",
              "    </tr>\n",
              "    <tr>\n",
              "      <th>Other</th>\n",
              "      <td>0.01</td>\n",
              "      <td>0.04</td>\n",
              "      <td>0.03</td>\n",
              "    </tr>\n",
              "  </tbody>\n",
              "</table>\n",
              "</div>\n",
              "      <button class=\"colab-df-convert\" onclick=\"convertToInteractive('df-9f8f7e29-0152-46ba-b686-fec1f7155504')\"\n",
              "              title=\"Convert this dataframe to an interactive table.\"\n",
              "              style=\"display:none;\">\n",
              "        \n",
              "  <svg xmlns=\"http://www.w3.org/2000/svg\" height=\"24px\"viewBox=\"0 0 24 24\"\n",
              "       width=\"24px\">\n",
              "    <path d=\"M0 0h24v24H0V0z\" fill=\"none\"/>\n",
              "    <path d=\"M18.56 5.44l.94 2.06.94-2.06 2.06-.94-2.06-.94-.94-2.06-.94 2.06-2.06.94zm-11 1L8.5 8.5l.94-2.06 2.06-.94-2.06-.94L8.5 2.5l-.94 2.06-2.06.94zm10 10l.94 2.06.94-2.06 2.06-.94-2.06-.94-.94-2.06-.94 2.06-2.06.94z\"/><path d=\"M17.41 7.96l-1.37-1.37c-.4-.4-.92-.59-1.43-.59-.52 0-1.04.2-1.43.59L10.3 9.45l-7.72 7.72c-.78.78-.78 2.05 0 2.83L4 21.41c.39.39.9.59 1.41.59.51 0 1.02-.2 1.41-.59l7.78-7.78 2.81-2.81c.8-.78.8-2.07 0-2.86zM5.41 20L4 18.59l7.72-7.72 1.47 1.35L5.41 20z\"/>\n",
              "  </svg>\n",
              "      </button>\n",
              "      \n",
              "  <style>\n",
              "    .colab-df-container {\n",
              "      display:flex;\n",
              "      flex-wrap:wrap;\n",
              "      gap: 12px;\n",
              "    }\n",
              "\n",
              "    .colab-df-convert {\n",
              "      background-color: #E8F0FE;\n",
              "      border: none;\n",
              "      border-radius: 50%;\n",
              "      cursor: pointer;\n",
              "      display: none;\n",
              "      fill: #1967D2;\n",
              "      height: 32px;\n",
              "      padding: 0 0 0 0;\n",
              "      width: 32px;\n",
              "    }\n",
              "\n",
              "    .colab-df-convert:hover {\n",
              "      background-color: #E2EBFA;\n",
              "      box-shadow: 0px 1px 2px rgba(60, 64, 67, 0.3), 0px 1px 3px 1px rgba(60, 64, 67, 0.15);\n",
              "      fill: #174EA6;\n",
              "    }\n",
              "\n",
              "    [theme=dark] .colab-df-convert {\n",
              "      background-color: #3B4455;\n",
              "      fill: #D2E3FC;\n",
              "    }\n",
              "\n",
              "    [theme=dark] .colab-df-convert:hover {\n",
              "      background-color: #434B5C;\n",
              "      box-shadow: 0px 1px 3px 1px rgba(0, 0, 0, 0.15);\n",
              "      filter: drop-shadow(0px 1px 2px rgba(0, 0, 0, 0.3));\n",
              "      fill: #FFFFFF;\n",
              "    }\n",
              "  </style>\n",
              "\n",
              "      <script>\n",
              "        const buttonEl =\n",
              "          document.querySelector('#df-9f8f7e29-0152-46ba-b686-fec1f7155504 button.colab-df-convert');\n",
              "        buttonEl.style.display =\n",
              "          google.colab.kernel.accessAllowed ? 'block' : 'none';\n",
              "\n",
              "        async function convertToInteractive(key) {\n",
              "          const element = document.querySelector('#df-9f8f7e29-0152-46ba-b686-fec1f7155504');\n",
              "          const dataTable =\n",
              "            await google.colab.kernel.invokeFunction('convertToInteractive',\n",
              "                                                     [key], {});\n",
              "          if (!dataTable) return;\n",
              "\n",
              "          const docLinkHtml = 'Like what you see? Visit the ' +\n",
              "            '<a target=\"_blank\" href=https://colab.research.google.com/notebooks/data_table.ipynb>data table notebook</a>'\n",
              "            + ' to learn more about interactive tables.';\n",
              "          element.innerHTML = '';\n",
              "          dataTable['output_type'] = 'display_data';\n",
              "          await google.colab.output.renderOutput(dataTable, element);\n",
              "          const docLink = document.createElement('div');\n",
              "          docLink.innerHTML = docLinkHtml;\n",
              "          element.appendChild(docLink);\n",
              "        }\n",
              "      </script>\n",
              "    </div>\n",
              "  </div>\n",
              "  "
            ]
          },
          "metadata": {},
          "execution_count": 6
        }
      ]
    },
    {
      "cell_type": "code",
      "source": [
        "Alameda_df_1['Abs.Difference']=abs(Alameda_df_1['jury_with_diffs'])\n",
        "Alameda_df_1"
      ],
      "metadata": {
        "colab": {
          "base_uri": "https://localhost:8080/",
          "height": 237
        },
        "id": "YYwlgm6FTriS",
        "outputId": "019f8b54-7bba-4885-b22e-aaa914e09136"
      },
      "execution_count": null,
      "outputs": [
        {
          "output_type": "execute_result",
          "data": {
            "text/plain": [
              "           Eligible  Panels  jury_with_diffs  Abs.Difference\n",
              "Ethnicity                                                   \n",
              "Asian          0.15    0.26             0.11            0.11\n",
              "Black          0.18    0.08            -0.10            0.10\n",
              "Latino         0.12    0.08            -0.04            0.04\n",
              "White          0.54    0.54             0.00            0.00\n",
              "Other          0.01    0.04             0.03            0.03"
            ],
            "text/html": [
              "\n",
              "  <div id=\"df-d7509c5d-c90f-4ae7-9571-d14c0ccfb9b5\">\n",
              "    <div class=\"colab-df-container\">\n",
              "      <div>\n",
              "<style scoped>\n",
              "    .dataframe tbody tr th:only-of-type {\n",
              "        vertical-align: middle;\n",
              "    }\n",
              "\n",
              "    .dataframe tbody tr th {\n",
              "        vertical-align: top;\n",
              "    }\n",
              "\n",
              "    .dataframe thead th {\n",
              "        text-align: right;\n",
              "    }\n",
              "</style>\n",
              "<table border=\"1\" class=\"dataframe\">\n",
              "  <thead>\n",
              "    <tr style=\"text-align: right;\">\n",
              "      <th></th>\n",
              "      <th>Eligible</th>\n",
              "      <th>Panels</th>\n",
              "      <th>jury_with_diffs</th>\n",
              "      <th>Abs.Difference</th>\n",
              "    </tr>\n",
              "    <tr>\n",
              "      <th>Ethnicity</th>\n",
              "      <th></th>\n",
              "      <th></th>\n",
              "      <th></th>\n",
              "      <th></th>\n",
              "    </tr>\n",
              "  </thead>\n",
              "  <tbody>\n",
              "    <tr>\n",
              "      <th>Asian</th>\n",
              "      <td>0.15</td>\n",
              "      <td>0.26</td>\n",
              "      <td>0.11</td>\n",
              "      <td>0.11</td>\n",
              "    </tr>\n",
              "    <tr>\n",
              "      <th>Black</th>\n",
              "      <td>0.18</td>\n",
              "      <td>0.08</td>\n",
              "      <td>-0.10</td>\n",
              "      <td>0.10</td>\n",
              "    </tr>\n",
              "    <tr>\n",
              "      <th>Latino</th>\n",
              "      <td>0.12</td>\n",
              "      <td>0.08</td>\n",
              "      <td>-0.04</td>\n",
              "      <td>0.04</td>\n",
              "    </tr>\n",
              "    <tr>\n",
              "      <th>White</th>\n",
              "      <td>0.54</td>\n",
              "      <td>0.54</td>\n",
              "      <td>0.00</td>\n",
              "      <td>0.00</td>\n",
              "    </tr>\n",
              "    <tr>\n",
              "      <th>Other</th>\n",
              "      <td>0.01</td>\n",
              "      <td>0.04</td>\n",
              "      <td>0.03</td>\n",
              "      <td>0.03</td>\n",
              "    </tr>\n",
              "  </tbody>\n",
              "</table>\n",
              "</div>\n",
              "      <button class=\"colab-df-convert\" onclick=\"convertToInteractive('df-d7509c5d-c90f-4ae7-9571-d14c0ccfb9b5')\"\n",
              "              title=\"Convert this dataframe to an interactive table.\"\n",
              "              style=\"display:none;\">\n",
              "        \n",
              "  <svg xmlns=\"http://www.w3.org/2000/svg\" height=\"24px\"viewBox=\"0 0 24 24\"\n",
              "       width=\"24px\">\n",
              "    <path d=\"M0 0h24v24H0V0z\" fill=\"none\"/>\n",
              "    <path d=\"M18.56 5.44l.94 2.06.94-2.06 2.06-.94-2.06-.94-.94-2.06-.94 2.06-2.06.94zm-11 1L8.5 8.5l.94-2.06 2.06-.94-2.06-.94L8.5 2.5l-.94 2.06-2.06.94zm10 10l.94 2.06.94-2.06 2.06-.94-2.06-.94-.94-2.06-.94 2.06-2.06.94z\"/><path d=\"M17.41 7.96l-1.37-1.37c-.4-.4-.92-.59-1.43-.59-.52 0-1.04.2-1.43.59L10.3 9.45l-7.72 7.72c-.78.78-.78 2.05 0 2.83L4 21.41c.39.39.9.59 1.41.59.51 0 1.02-.2 1.41-.59l7.78-7.78 2.81-2.81c.8-.78.8-2.07 0-2.86zM5.41 20L4 18.59l7.72-7.72 1.47 1.35L5.41 20z\"/>\n",
              "  </svg>\n",
              "      </button>\n",
              "      \n",
              "  <style>\n",
              "    .colab-df-container {\n",
              "      display:flex;\n",
              "      flex-wrap:wrap;\n",
              "      gap: 12px;\n",
              "    }\n",
              "\n",
              "    .colab-df-convert {\n",
              "      background-color: #E8F0FE;\n",
              "      border: none;\n",
              "      border-radius: 50%;\n",
              "      cursor: pointer;\n",
              "      display: none;\n",
              "      fill: #1967D2;\n",
              "      height: 32px;\n",
              "      padding: 0 0 0 0;\n",
              "      width: 32px;\n",
              "    }\n",
              "\n",
              "    .colab-df-convert:hover {\n",
              "      background-color: #E2EBFA;\n",
              "      box-shadow: 0px 1px 2px rgba(60, 64, 67, 0.3), 0px 1px 3px 1px rgba(60, 64, 67, 0.15);\n",
              "      fill: #174EA6;\n",
              "    }\n",
              "\n",
              "    [theme=dark] .colab-df-convert {\n",
              "      background-color: #3B4455;\n",
              "      fill: #D2E3FC;\n",
              "    }\n",
              "\n",
              "    [theme=dark] .colab-df-convert:hover {\n",
              "      background-color: #434B5C;\n",
              "      box-shadow: 0px 1px 3px 1px rgba(0, 0, 0, 0.15);\n",
              "      filter: drop-shadow(0px 1px 2px rgba(0, 0, 0, 0.3));\n",
              "      fill: #FFFFFF;\n",
              "    }\n",
              "  </style>\n",
              "\n",
              "      <script>\n",
              "        const buttonEl =\n",
              "          document.querySelector('#df-d7509c5d-c90f-4ae7-9571-d14c0ccfb9b5 button.colab-df-convert');\n",
              "        buttonEl.style.display =\n",
              "          google.colab.kernel.accessAllowed ? 'block' : 'none';\n",
              "\n",
              "        async function convertToInteractive(key) {\n",
              "          const element = document.querySelector('#df-d7509c5d-c90f-4ae7-9571-d14c0ccfb9b5');\n",
              "          const dataTable =\n",
              "            await google.colab.kernel.invokeFunction('convertToInteractive',\n",
              "                                                     [key], {});\n",
              "          if (!dataTable) return;\n",
              "\n",
              "          const docLinkHtml = 'Like what you see? Visit the ' +\n",
              "            '<a target=\"_blank\" href=https://colab.research.google.com/notebooks/data_table.ipynb>data table notebook</a>'\n",
              "            + ' to learn more about interactive tables.';\n",
              "          element.innerHTML = '';\n",
              "          dataTable['output_type'] = 'display_data';\n",
              "          await google.colab.output.renderOutput(dataTable, element);\n",
              "          const docLink = document.createElement('div');\n",
              "          docLink.innerHTML = docLinkHtml;\n",
              "          element.appendChild(docLink);\n",
              "        }\n",
              "      </script>\n",
              "    </div>\n",
              "  </div>\n",
              "  "
            ]
          },
          "metadata": {},
          "execution_count": 7
        }
      ]
    },
    {
      "cell_type": "code",
      "source": [
        "test_statistic = Alameda_df_1['Abs.Difference'].sum()/2\n",
        "test_statistic"
      ],
      "metadata": {
        "colab": {
          "base_uri": "https://localhost:8080/"
        },
        "id": "fdoJPzSQTwYF",
        "outputId": "f34a9ee1-21f4-452a-c5ef-56c70c131173"
      },
      "execution_count": null,
      "outputs": [
        {
          "output_type": "execute_result",
          "data": {
            "text/plain": [
              "0.14"
            ]
          },
          "metadata": {},
          "execution_count": 8
        }
      ]
    },
    {
      "cell_type": "code",
      "source": [
        "def total_variation_distance(distribution_1, distribution_2):\n",
        "    return np.abs(distribution_1 - distribution_2).sum()/2"
      ],
      "metadata": {
        "id": "x8yPYmtqUD_q"
      },
      "execution_count": null,
      "outputs": []
    },
    {
      "cell_type": "code",
      "source": [
        "def table_tvd(table, label, other):\n",
        "    return total_variation_distance(table[label], table[other])\n",
        "\n",
        "observed_stat =table_tvd(Alameda_df, 'Eligible', 'Panels')\n",
        "print(observed_stat)"
      ],
      "metadata": {
        "colab": {
          "base_uri": "https://localhost:8080/"
        },
        "id": "Ahwtl1r8Ufgd",
        "outputId": "c1262546-c130-42ba-b361-ba5890316d55"
      },
      "execution_count": null,
      "outputs": [
        {
          "output_type": "stream",
          "name": "stdout",
          "text": [
            "0.14\n"
          ]
        }
      ]
    },
    {
      "cell_type": "code",
      "source": [
        "panel_size = 1453"
      ],
      "metadata": {
        "id": "993YLEylUnKJ"
      },
      "execution_count": null,
      "outputs": []
    },
    {
      "cell_type": "code",
      "source": [
        "import numpy.random as npr\n",
        "npr.multinomial(1453,[0.15,0.18,0.12,0.54,0.01])"
      ],
      "metadata": {
        "colab": {
          "base_uri": "https://localhost:8080/"
        },
        "id": "snVEQmKfWkTP",
        "outputId": "ef34dad6-6523-4ab3-80f4-ffb03cae15b6"
      },
      "execution_count": null,
      "outputs": [
        {
          "output_type": "execute_result",
          "data": {
            "text/plain": [
              "array([219, 248, 185, 789,  12])"
            ]
          },
          "metadata": {},
          "execution_count": 13
        }
      ]
    },
    {
      "cell_type": "code",
      "source": [
        "Alameda_df_2 = pd.DataFrame(Alameda_df_1,columns = ['Eligible','Panels'])"
      ],
      "metadata": {
        "id": "bDU-mEeIWsBM"
      },
      "execution_count": null,
      "outputs": []
    },
    {
      "cell_type": "code",
      "source": [
        "Alameda_df_2['Random Sample'] = np.random.multinomial(1453,[0.15,0.18,0.12,0.54,0.01])/1453\n",
        "Alameda_df_2"
      ],
      "metadata": {
        "colab": {
          "base_uri": "https://localhost:8080/",
          "height": 237
        },
        "id": "7GLdW3HSWxdK",
        "outputId": "9503bfe0-47fa-49de-d154-9e3aadaadc85"
      },
      "execution_count": null,
      "outputs": [
        {
          "output_type": "execute_result",
          "data": {
            "text/plain": [
              "           Eligible  Panels  Random Sample\n",
              "Ethnicity                                 \n",
              "Asian          0.15    0.26       0.152099\n",
              "Black          0.18    0.08       0.179628\n",
              "Latino         0.12    0.08       0.133517\n",
              "White          0.54    0.54       0.522368\n",
              "Other          0.01    0.04       0.012388"
            ],
            "text/html": [
              "\n",
              "  <div id=\"df-f0156764-5fea-48f6-a917-b405edb318c0\">\n",
              "    <div class=\"colab-df-container\">\n",
              "      <div>\n",
              "<style scoped>\n",
              "    .dataframe tbody tr th:only-of-type {\n",
              "        vertical-align: middle;\n",
              "    }\n",
              "\n",
              "    .dataframe tbody tr th {\n",
              "        vertical-align: top;\n",
              "    }\n",
              "\n",
              "    .dataframe thead th {\n",
              "        text-align: right;\n",
              "    }\n",
              "</style>\n",
              "<table border=\"1\" class=\"dataframe\">\n",
              "  <thead>\n",
              "    <tr style=\"text-align: right;\">\n",
              "      <th></th>\n",
              "      <th>Eligible</th>\n",
              "      <th>Panels</th>\n",
              "      <th>Random Sample</th>\n",
              "    </tr>\n",
              "    <tr>\n",
              "      <th>Ethnicity</th>\n",
              "      <th></th>\n",
              "      <th></th>\n",
              "      <th></th>\n",
              "    </tr>\n",
              "  </thead>\n",
              "  <tbody>\n",
              "    <tr>\n",
              "      <th>Asian</th>\n",
              "      <td>0.15</td>\n",
              "      <td>0.26</td>\n",
              "      <td>0.152099</td>\n",
              "    </tr>\n",
              "    <tr>\n",
              "      <th>Black</th>\n",
              "      <td>0.18</td>\n",
              "      <td>0.08</td>\n",
              "      <td>0.179628</td>\n",
              "    </tr>\n",
              "    <tr>\n",
              "      <th>Latino</th>\n",
              "      <td>0.12</td>\n",
              "      <td>0.08</td>\n",
              "      <td>0.133517</td>\n",
              "    </tr>\n",
              "    <tr>\n",
              "      <th>White</th>\n",
              "      <td>0.54</td>\n",
              "      <td>0.54</td>\n",
              "      <td>0.522368</td>\n",
              "    </tr>\n",
              "    <tr>\n",
              "      <th>Other</th>\n",
              "      <td>0.01</td>\n",
              "      <td>0.04</td>\n",
              "      <td>0.012388</td>\n",
              "    </tr>\n",
              "  </tbody>\n",
              "</table>\n",
              "</div>\n",
              "      <button class=\"colab-df-convert\" onclick=\"convertToInteractive('df-f0156764-5fea-48f6-a917-b405edb318c0')\"\n",
              "              title=\"Convert this dataframe to an interactive table.\"\n",
              "              style=\"display:none;\">\n",
              "        \n",
              "  <svg xmlns=\"http://www.w3.org/2000/svg\" height=\"24px\"viewBox=\"0 0 24 24\"\n",
              "       width=\"24px\">\n",
              "    <path d=\"M0 0h24v24H0V0z\" fill=\"none\"/>\n",
              "    <path d=\"M18.56 5.44l.94 2.06.94-2.06 2.06-.94-2.06-.94-.94-2.06-.94 2.06-2.06.94zm-11 1L8.5 8.5l.94-2.06 2.06-.94-2.06-.94L8.5 2.5l-.94 2.06-2.06.94zm10 10l.94 2.06.94-2.06 2.06-.94-2.06-.94-.94-2.06-.94 2.06-2.06.94z\"/><path d=\"M17.41 7.96l-1.37-1.37c-.4-.4-.92-.59-1.43-.59-.52 0-1.04.2-1.43.59L10.3 9.45l-7.72 7.72c-.78.78-.78 2.05 0 2.83L4 21.41c.39.39.9.59 1.41.59.51 0 1.02-.2 1.41-.59l7.78-7.78 2.81-2.81c.8-.78.8-2.07 0-2.86zM5.41 20L4 18.59l7.72-7.72 1.47 1.35L5.41 20z\"/>\n",
              "  </svg>\n",
              "      </button>\n",
              "      \n",
              "  <style>\n",
              "    .colab-df-container {\n",
              "      display:flex;\n",
              "      flex-wrap:wrap;\n",
              "      gap: 12px;\n",
              "    }\n",
              "\n",
              "    .colab-df-convert {\n",
              "      background-color: #E8F0FE;\n",
              "      border: none;\n",
              "      border-radius: 50%;\n",
              "      cursor: pointer;\n",
              "      display: none;\n",
              "      fill: #1967D2;\n",
              "      height: 32px;\n",
              "      padding: 0 0 0 0;\n",
              "      width: 32px;\n",
              "    }\n",
              "\n",
              "    .colab-df-convert:hover {\n",
              "      background-color: #E2EBFA;\n",
              "      box-shadow: 0px 1px 2px rgba(60, 64, 67, 0.3), 0px 1px 3px 1px rgba(60, 64, 67, 0.15);\n",
              "      fill: #174EA6;\n",
              "    }\n",
              "\n",
              "    [theme=dark] .colab-df-convert {\n",
              "      background-color: #3B4455;\n",
              "      fill: #D2E3FC;\n",
              "    }\n",
              "\n",
              "    [theme=dark] .colab-df-convert:hover {\n",
              "      background-color: #434B5C;\n",
              "      box-shadow: 0px 1px 3px 1px rgba(0, 0, 0, 0.15);\n",
              "      filter: drop-shadow(0px 1px 2px rgba(0, 0, 0, 0.3));\n",
              "      fill: #FFFFFF;\n",
              "    }\n",
              "  </style>\n",
              "\n",
              "      <script>\n",
              "        const buttonEl =\n",
              "          document.querySelector('#df-f0156764-5fea-48f6-a917-b405edb318c0 button.colab-df-convert');\n",
              "        buttonEl.style.display =\n",
              "          google.colab.kernel.accessAllowed ? 'block' : 'none';\n",
              "\n",
              "        async function convertToInteractive(key) {\n",
              "          const element = document.querySelector('#df-f0156764-5fea-48f6-a917-b405edb318c0');\n",
              "          const dataTable =\n",
              "            await google.colab.kernel.invokeFunction('convertToInteractive',\n",
              "                                                     [key], {});\n",
              "          if (!dataTable) return;\n",
              "\n",
              "          const docLinkHtml = 'Like what you see? Visit the ' +\n",
              "            '<a target=\"_blank\" href=https://colab.research.google.com/notebooks/data_table.ipynb>data table notebook</a>'\n",
              "            + ' to learn more about interactive tables.';\n",
              "          element.innerHTML = '';\n",
              "          dataTable['output_type'] = 'display_data';\n",
              "          await google.colab.output.renderOutput(dataTable, element);\n",
              "          const docLink = document.createElement('div');\n",
              "          docLink.innerHTML = docLinkHtml;\n",
              "          element.appendChild(docLink);\n",
              "        }\n",
              "      </script>\n",
              "    </div>\n",
              "  </div>\n",
              "  "
            ]
          },
          "metadata": {},
          "execution_count": 15
        }
      ]
    },
    {
      "cell_type": "code",
      "source": [
        "Alameda_df_2.plot.barh()\n",
        "plt.ylabel('Ethnicity')\n",
        "plt.gca().invert_yaxis()"
      ],
      "metadata": {
        "colab": {
          "base_uri": "https://localhost:8080/",
          "height": 265
        },
        "id": "04ZvGgoJW1vd",
        "outputId": "9aa0d29f-042b-4b1c-8a1c-9a57793cddcc"
      },
      "execution_count": null,
      "outputs": [
        {
          "output_type": "display_data",
          "data": {
            "text/plain": [
              "<Figure size 432x288 with 1 Axes>"
            ],
            "image/png": "[encoded data removed]"
          },
          "metadata": {
            "needs_background": "light"
          }
        }
      ]
    },
    {
      "cell_type": "code",
      "source": [
        "TVD = (abs(Alameda_df_2['Eligible']-Alameda_df_2['Random Sample'])).sum()/2\n",
        "TVD"
      ],
      "metadata": {
        "colab": {
          "base_uri": "https://localhost:8080/"
        },
        "id": "3gs7-bBSXGle",
        "outputId": "d917175c-d732-45a1-d556-4540169c5c2e"
      },
      "execution_count": null,
      "outputs": [
        {
          "output_type": "execute_result",
          "data": {
            "text/plain": [
              "0.018004129387474234"
            ]
          },
          "metadata": {},
          "execution_count": 17
        }
      ]
    },
    {
      "cell_type": "code",
      "source": [
        "simulations = 5000\n",
        "tvd_list=[]\n",
        "for i in np.arange(simulations):\n",
        "    Alameda_df_2[\"Random Sample\"]=(npr.multinomial(1453,[0.15, 0.18, 0.12, 0.54, 0.01]))/panel_size\n",
        "    tvd_list.append(table_tvd(Alameda_df_2, 'Eligible', 'Random Sample'))\n",
        "    \n",
        "tvd_list"
      ],
      "metadata": {
        "colab": {
          "base_uri": "https://localhost:8080/"
        },
        "id": "suY6sfIAXr9N",
        "outputId": "e7ba05a1-9703-4fbf-a7b2-799b3d8209bf"
      },
      "execution_count": null,
      "outputs": [
        {
          "output_type": "execute_result",
          "data": {
            "text/plain": [
              "[0.0141156228492774,\n",
              " 0.017192016517549893,\n",
              " 0.01094287680660698,\n",
              " 0.02649002064693738,\n",
              " 0.024384033035099773,\n",
              " 0.01925671025464558,\n",
              " 0.01677907777013075,\n",
              " 0.013778389538885053,\n",
              " 0.025815554026152814,\n",
              " 0.011121816930488679,\n",
              " 0.013750860289057153,\n",
              " 0.012140399174122535,\n",
              " 0.01824501032346868,\n",
              " 0.024886441844459747,\n",
              " 0.01788024776324846,\n",
              " 0.021266345492085312,\n",
              " 0.030860289057123177,\n",
              " 0.01937370956641437,\n",
              " 0.016187198898829996,\n",
              " 0.01719201651754993,\n",
              " 0.006125258086717119,\n",
              " 0.009160357880247728,\n",
              " 0.007832071576049506,\n",
              " 0.01814177563661388,\n",
              " 0.030867171369580136,\n",
              " 0.022126634549208584,\n",
              " 0.031995870612525755,\n",
              " 0.014810736407432887,\n",
              " 0.014927735719201678,\n",
              " 0.019587061252580893,\n",
              " 0.02300757054370269,\n",
              " 0.008045423262216097,\n",
              " 0.0191947694425327,\n",
              " 0.015492085340674493,\n",
              " 0.028148657949070857,\n",
              " 0.017501720578114208,\n",
              " 0.021596696490020623,\n",
              " 0.005030970406056423,\n",
              " 0.02209222298692361,\n",
              " 0.024790089470061956,\n",
              " 0.0222849277357192,\n",
              " 0.027233310392291852,\n",
              " 0.010798348245010365,\n",
              " 0.010220233998623492,\n",
              " 0.022236751548520294,\n",
              " 0.020295939435650376,\n",
              " 0.013372333103922874,\n",
              " 0.018795595320027524,\n",
              " 0.011114934618031688,\n",
              " 0.018630419821059868,\n",
              " 0.012780454232622186,\n",
              " 0.017253957329662725,\n",
              " 0.016875430144528573,\n",
              " 0.010536820371644827,\n",
              " 0.012491397109428804,\n",
              " 0.03832759807295254,\n",
              " 0.029008947006194115,\n",
              " 0.024666207845836185,\n",
              " 0.004741913282863034,\n",
              " 0.006083964211975176,\n",
              " 0.026545079146593296,\n",
              " 0.024425326909841668,\n",
              " 0.016868547832071576,\n",
              " 0.03070887818306954,\n",
              " 0.008871300757054338,\n",
              " 0.023186510667584332,\n",
              " 0.011913282863041975,\n",
              " 0.022924982794218868,\n",
              " 0.012050929112181686,\n",
              " 0.021913282863041995,\n",
              " 0.009931176875430107,\n",
              " 0.01543702684101857,\n",
              " 0.020295939435650376,\n",
              " 0.01755677907777016,\n",
              " 0.004377150722642795,\n",
              " 0.01676531314521678,\n",
              " 0.010309704060564355,\n",
              " 0.021403991741225054,\n",
              " 0.016166551961459004,\n",
              " 0.015815554026152798,\n",
              " 0.011947694425326904,\n",
              " 0.027866483138334466,\n",
              " 0.013186510667584347,\n",
              " 0.013145216792842418,\n",
              " 0.009298004129387527,\n",
              " 0.023331039229181002,\n",
              " 0.008210598761183768,\n",
              " 0.03292498279421884,\n",
              " 0.017309015829318656,\n",
              " 0.015175498967653113,\n",
              " 0.008836889194769399,\n",
              " 0.016779077770130754,\n",
              " 0.019745354439091565,\n",
              " 0.008272539573296588,\n",
              " 0.018286304198210635,\n",
              " 0.014384033035099796,\n",
              " 0.017598072952512072,\n",
              " 0.009704060564349639,\n",
              " 0.03026841018582245,\n",
              " 0.017192016517549938,\n",
              " 0.024673090158293165,\n",
              " 0.005457673778389562,\n",
              " 0.011438403303509993,\n",
              " 0.02382656572608398,\n",
              " 0.013551273227804543,\n",
              " 0.03723331039229185,\n",
              " 0.01377838953888506,\n",
              " 0.01136269786648314,\n",
              " 0.022374397797660036,\n",
              " 0.021761871988988348,\n",
              " 0.02763936682725398,\n",
              " 0.017790777701307617,\n",
              " 0.017501720578114218,\n",
              " 0.028919476944253248,\n",
              " 0.03488644184445978,\n",
              " 0.014239504473503115,\n",
              " 0.01694425326909843,\n",
              " 0.010798348245010343,\n",
              " 0.016042670337233292,\n",
              " 0.024879559532002802,\n",
              " 0.02281486579490714,\n",
              " 0.0034893324156916555,\n",
              " 0.01685478320715756,\n",
              " 0.01721954576737784,\n",
              " 0.012739160357880273,\n",
              " 0.013840330350997927,\n",
              " 0.013874741913282881,\n",
              " 0.026772195457673766,\n",
              " 0.016944253269098444,\n",
              " 0.008368891947694454,\n",
              " 0.03439779766001375,\n",
              " 0.01948382656572608,\n",
              " 0.020750172057811465,\n",
              " 0.007253957329662744,\n",
              " 0.026139022711631106,\n",
              " 0.014191328286304216,\n",
              " 0.023331039229180995,\n",
              " 0.03017205781142463,\n",
              " 0.016958017894012387,\n",
              " 0.02306262904335857,\n",
              " 0.012780454232622217,\n",
              " 0.015939435650378534,\n",
              " 0.020715760495526488,\n",
              " 0.00832759807295252,\n",
              " 0.01681348933241566,\n",
              " 0.031073640743289745,\n",
              " 0.022374397797660046,\n",
              " 0.025251204404680004,\n",
              " 0.02022023399862351,\n",
              " 0.013145216792842421,\n",
              " 0.022450103234686873,\n",
              " 0.01587749483826562,\n",
              " 0.01719201651754993,\n",
              " 0.008836889194769387,\n",
              " 0.020536820371644865,\n",
              " 0.013695801789401225,\n",
              " 0.016256022023399905,\n",
              " 0.02479008947006194,\n",
              " 0.009745354439091539,\n",
              " 0.011686166551961464,\n",
              " 0.015877494838265657,\n",
              " 0.019621472814865825,\n",
              " 0.02879559532002751,\n",
              " 0.030578114246386772,\n",
              " 0.0161252580867171,\n",
              " 0.027543014452856132,\n",
              " 0.006896077081899507,\n",
              " 0.030543702684101805,\n",
              " 0.02223675154852031,\n",
              " 0.02373709566414315,\n",
              " 0.025203028217481098,\n",
              " 0.01966276668960772,\n",
              " 0.016166551961459004,\n",
              " 0.016565726083964206,\n",
              " 0.016627666896077108,\n",
              " 0.012684101858224321,\n",
              " 0.012374397797660008,\n",
              " 0.021693048864418446,\n",
              " 0.02200963523743982,\n",
              " 0.022009635237439793,\n",
              " 0.00781830695113555,\n",
              " 0.019284239504473482,\n",
              " 0.02401927047487954,\n",
              " 0.010997935306262916,\n",
              " 0.019256710254645575,\n",
              " 0.005457673778389535,\n",
              " 0.018878183069511337,\n",
              " 0.024762560220233994,\n",
              " 0.023977976600137632,\n",
              " 0.01971094287680664,\n",
              " 0.02616655196145903,\n",
              " 0.010027529249827966,\n",
              " 0.018657949070887834,\n",
              " 0.015127322780454235,\n",
              " 0.014790089470061937,\n",
              " 0.03407432897453546,\n",
              " 0.006145905024088092,\n",
              " 0.00973847212663459,\n",
              " 0.020571231933929807,\n",
              " 0.01518926359256707,\n",
              " 0.02731589814177566,\n",
              " 0.016166551961459052,\n",
              " 0.0027047487955953733,\n",
              " 0.015127322780454262,\n",
              " 0.009532002752924977,\n",
              " 0.010110116999311768,\n",
              " 0.01191328286304193,\n",
              " 0.011121816930488675,\n",
              " 0.04415003441156231,\n",
              " 0.0071438403303509855,\n",
              " 0.01756366139022711,\n",
              " 0.0054920853406744885,\n",
              " 0.017783895388850644,\n",
              " 0.020908465244322084,\n",
              " 0.02304198210598761,\n",
              " 0.00997247075017201,\n",
              " 0.017880247763248473,\n",
              " 0.034019270474879515,\n",
              " 0.019697178251892655,\n",
              " 0.013654507914659319,\n",
              " 0.02412250516173436,\n",
              " 0.013867859600825903,\n",
              " 0.019483826565726062,\n",
              " 0.018685478320715782,\n",
              " 0.018933241569167255,\n",
              " 0.009745354439091566,\n",
              " 0.026490020646937347,\n",
              " 0.02134893324156916,\n",
              " 0.017315898141775657,\n",
              " 0.017419132828630376,\n",
              " 0.011651754989676567,\n",
              " 0.017997247075017243,\n",
              " 0.01480385409497594,\n",
              " 0.03811424638678595,\n",
              " 0.015030970406056417,\n",
              " 0.01699242945629732,\n",
              " 0.01958706125258089,\n",
              " 0.026503785271851373,\n",
              " 0.03333103922918096,\n",
              " 0.021410874053682034,\n",
              " 0.027921541637990422,\n",
              " 0.025567790777701358,\n",
              " 0.030598761183757768,\n",
              " 0.012401927047487922,\n",
              " 0.005175498967653143,\n",
              " 0.011589814177563652,\n",
              " 0.010681348933241575,\n",
              " 0.012319339298004092,\n",
              " 0.016125258086717102,\n",
              " 0.0168891947694425,\n",
              " 0.016992429456297357,\n",
              " 0.014790089470061931,\n",
              " 0.014349621472814843,\n",
              " 0.015492085340674495,\n",
              " 0.0220371644872677,\n",
              " 0.0234136269786648,\n",
              " 0.019697178251892655,\n",
              " 0.02920165175498965,\n",
              " 0.01938059187887132,\n",
              " 0.00549208534067446,\n",
              " 0.003544390915347582,\n",
              " 0.014790089470061916,\n",
              " 0.02075017205781147,\n",
              " 0.0120509291121817,\n",
              " 0.01581555402615282,\n",
              " 0.012284927735719183,\n",
              " 0.01902271163110807,\n",
              " 0.007673778389538891,\n",
              " 0.018472126634549203,\n",
              " 0.0203509979353063,\n",
              " 0.013145216792842421,\n",
              " 0.009242945629731578,\n",
              " 0.018513420509291098,\n",
              " 0.022037164487267686,\n",
              " 0.006586373021335176,\n",
              " 0.0241982105987612,\n",
              " 0.027845836200963526,\n",
              " 0.012684101858224356,\n",
              " 0.007962835512732268,\n",
              " 0.01438403303509978,\n",
              " 0.011631108052305569,\n",
              " 0.010715760495526496,\n",
              " 0.00916035788024775,\n",
              " 0.022697866483138332,\n",
              " 0.016909841706813485,\n",
              " 0.01264969029593942,\n",
              " 0.014528561596696512,\n",
              " 0.004081211286992477,\n",
              " 0.01064005505849968,\n",
              " 0.015251204404679992,\n",
              " 0.009525120440467957,\n",
              " 0.016448726772195443,\n",
              " 0.018251892635925658,\n",
              " 0.018568479008947036,\n",
              " 0.014439091534755671,\n",
              " 0.0032278045423262394,\n",
              " 0.02038540949759124,\n",
              " 0.010798348245010329,\n",
              " 0.02657949070887821,\n",
              " 0.023138334480385464,\n",
              " 0.00958706125258088,\n",
              " 0.024136269786648283,\n",
              " 0.020997935306262917,\n",
              " 0.004852030282174801,\n",
              " 0.01622161046111497,\n",
              " 0.011686166551961481,\n",
              " 0.010660701995870596,\n",
              " 0.02075017205781146,\n",
              " 0.022821748107364093,\n",
              " 0.014205092911218194,\n",
              " 0.014439091534755718,\n",
              " 0.03682725395732968,\n",
              " 0.019944941500344142,\n",
              " 0.008836889194769403,\n",
              " 0.009015829318651062,\n",
              " 0.011596696490020618,\n",
              " 0.025478320715760498,\n",
              " 0.0077838953888506165,\n",
              " 0.01686854783207158,\n",
              " 0.01006194081211288,\n",
              " 0.016159669649002038,\n",
              " 0.0071782518926359175,\n",
              " 0.03293186510667583,\n",
              " 0.015492085340674509,\n",
              " 0.01337233310392289,\n",
              " 0.01916035788024775,\n",
              " 0.03912594631796279,\n",
              " 0.014666207845836199,\n",
              " 0.010997935306262937,\n",
              " 0.008554714384033022,\n",
              " 0.033331039229180986,\n",
              " 0.014501032346868538,\n",
              " 0.02620096352374398,\n",
              " 0.010660701995870568,\n",
              " 0.020543702684101856,\n",
              " 0.03339298004129386,\n",
              " 0.017192016517549938,\n",
              " 0.02126634549208531,\n",
              " 0.033248451479697134,\n",
              " 0.02122505161734342,\n",
              " 0.011775636613902301,\n",
              " 0.01646937370956643,\n",
              " 0.02488644184445974,\n",
              " 0.024673090158293165,\n",
              " 0.011225051617343424,\n",
              " 0.04187887130075703,\n",
              " 0.015092911218169294,\n",
              " 0.020660701995870622,\n",
              " 0.017157604955265,\n",
              " 0.021004817618719918,\n",
              " 0.013289745354439057,\n",
              " 0.00558155540261533,\n",
              " 0.009277357192016486,\n",
              " 0.01815554026152787,\n",
              " 0.014521679284239534,\n",
              " 0.0061803165863730716,\n",
              " 0.02043358568479008,\n",
              " 0.01575361321403992,\n",
              " 0.04439779766001377,\n",
              " 0.012050929112181691,\n",
              " 0.011713695801789391,\n",
              " 0.017157604955265,\n",
              " 0.021348933241569137,\n",
              " 0.01509291121816933,\n",
              " 0.017556779077770132,\n",
              " 0.025760495526496913,\n",
              " 0.0071782518926359114,\n",
              " 0.01274604267033722,\n",
              " 0.011768754301445316,\n",
              " 0.014060564349621428,\n",
              " 0.009373709566414354,\n",
              " 0.006490020646937361,\n",
              " 0.02207157604955264,\n",
              " 0.022814865794907147,\n",
              " 0.017818306951135544,\n",
              " 0.01887818306951133,\n",
              " 0.01314521679284238,\n",
              " 0.015065381968341333,\n",
              " 0.01231933929800411,\n",
              " 0.021810048176187195,\n",
              " 0.013186510667584297,\n",
              " 0.014803854094975913,\n",
              " 0.010213351686166525,\n",
              " 0.010660701995870601,\n",
              " 0.006510667584308341,\n",
              " 0.009566414315209871,\n",
              " 0.020997935306262903,\n",
              " 0.019284239504473482,\n",
              " 0.009160357880247728,\n",
              " 0.03282174810736411,\n",
              " 0.020681348933241563,\n",
              " 0.013324156916724016,\n",
              " 0.020894700619408107,\n",
              " 0.018933241569167262,\n",
              " 0.01658637302133519,\n",
              " 0.023737095664143122,\n",
              " 0.025512732278045423,\n",
              " 0.014466620784583583,\n",
              " 0.012780454232622182,\n",
              " 0.021039229181004853,\n",
              " 0.015209910529938059,\n",
              " 0.034115622849277376,\n",
              " 0.019972470750172062,\n",
              " 0.015905024088093585,\n",
              " 0.01900894700619412,\n",
              " 0.015209910529938074,\n",
              " 0.00858912594631794,\n",
              " 0.025856847900894736,\n",
              " 0.03164487267721957,\n",
              " 0.016256022023399895,\n",
              " 0.015498967653131473,\n",
              " 0.025203028217481094,\n",
              " 0.021225051617343393,\n",
              " 0.015478320715760474,\n",
              " 0.01997247075017203,\n",
              " 0.016448726772195423,\n",
              " 0.009704060564349665,\n",
              " 0.0026841018582243453,\n",
              " 0.024790089470061914,\n",
              " 0.008871300757054367,\n",
              " 0.02659325533379215,\n",
              " 0.013372333103922902,\n",
              " 0.012284927735719188,\n",
              " 0.013750860289057129,\n",
              " 0.02513420509291124,\n",
              " 0.015072264280798317,\n",
              " 0.015498967653131458,\n",
              " 0.026139022711631137,\n",
              " 0.011452167928423953,\n",
              " 0.018685478320715803,\n",
              " 0.02482450103234686,\n",
              " 0.01883000688231242,\n",
              " 0.028231245698554702,\n",
              " 0.011121816930488634,\n",
              " 0.02401927047487952,\n",
              " 0.02864418444597385,\n",
              " 0.016854783207157595,\n",
              " 0.0058430832759807086,\n",
              " 0.011486579490708873,\n",
              " 0.022415691672401965,\n",
              " 0.027102546455609056,\n",
              " 0.013654507914659303,\n",
              " 0.019318651066758435,\n",
              " 0.029931176875430128,\n",
              " 0.026889194769442515,\n",
              " 0.014714384033035056,\n",
              " 0.014122505161734328,\n",
              " 0.009298004129387496,\n",
              " 0.013874741913282855,\n",
              " 0.012057811424638692,\n",
              " 0.015437026841018579,\n",
              " 0.014191328286304206,\n",
              " 0.009318651066758415,\n",
              " 0.007309015829318653,\n",
              " 0.01618031658637305,\n",
              " 0.012498279421885784,\n",
              " 0.013716448726772237,\n",
              " 0.011589814177563652,\n",
              " 0.01474879559531999,\n",
              " 0.025726083964211957,\n",
              " 0.01581555402615278,\n",
              " 0.006407432897453505,\n",
              " 0.02856847900894705,\n",
              " 0.02622161046111496,\n",
              " 0.01618031658637305,\n",
              " 0.023977976600137636,\n",
              " 0.03302133516861669,\n",
              " 0.010935994494150027,\n",
              " 0.015072264280798324,\n",
              " 0.007522367515485191,\n",
              " 0.010660701995870572,\n",
              " 0.01800412938747419,\n",
              " 0.02622849277357195,\n",
              " 0.013867859600825887,\n",
              " 0.0148795595320028,\n",
              " 0.029662766689607722,\n",
              " 0.014748795595319993,\n",
              " 0.019339298004129438,\n",
              " 0.02035099793530626,\n",
              " 0.021810048176187195,\n",
              " 0.015471438403303473,\n",
              " 0.011631108052305569,\n",
              " 0.008596008258774903,\n",
              " 0.026448726772195442,\n",
              " 0.019167240192704722,\n",
              " 0.014556090846524473,\n",
              " 0.02618719889883004,\n",
              " 0.016503785271851364,\n",
              " 0.012498279421885786,\n",
              " 0.012863041982105992,\n",
              " 0.015615966964900209,\n",
              " 0.00614590502408812,\n",
              " 0.02448038540949758,\n",
              " 0.020385409497591232,\n",
              " 0.019160357880247756,\n",
              " 0.007866483138334466,\n",
              " 0.022973158981417725,\n",
              " 0.014384033035099778,\n",
              " 0.008327598072952537,\n",
              " 0.013124569855471422,\n",
              " 0.018513420509291084,\n",
              " 0.007680660701995891,\n",
              " 0.010908465244322048,\n",
              " 0.03197522367515487,\n",
              " 0.019745354439091537,\n",
              " 0.03476256022023404,\n",
              " 0.02103922918100486,\n",
              " 0.008933241569167288,\n",
              " 0.016909841706813512,\n",
              " 0.0026772195457673673,\n",
              " 0.010213351686166498,\n",
              " 0.008898830006882363,\n",
              " 0.02685478320715759,\n",
              " 0.02212663454920855,\n",
              " 0.0048038540949759045,\n",
              " 0.020068823124569885,\n",
              " 0.01438403303509978,\n",
              " 0.01865106675843088,\n",
              " 0.018974535443909153,\n",
              " 0.009986235375086036,\n",
              " 0.009532002752924948,\n",
              " 0.022450103234686873,\n",
              " 0.011348933241569152,\n",
              " 0.020536820371644848,\n",
              " 0.026944253269098443,\n",
              " 0.020571231933929797,\n",
              " 0.019566414315209883,\n",
              " 0.012436338609772873,\n",
              " 0.013840330350997916,\n",
              " 0.03213351686166554,\n",
              " 0.0071438403303509795,\n",
              " 0.012050929112181686,\n",
              " 0.045526496902959415,\n",
              " 0.008596008258774934,\n",
              " 0.02172746042670338,\n",
              " 0.0230488644184446,\n",
              " 0.01434962147281484,\n",
              " 0.013977976600137637,\n",
              " 0.018596008258774936,\n",
              " 0.032050929112181714,\n",
              " 0.01905712319339298,\n",
              " 0.0212663454920853,\n",
              " 0.0030488644184445473,\n",
              " 0.006916724019270525,\n",
              " 0.016909841706813512,\n",
              " 0.018596008258774912,\n",
              " 0.00695113558155539,\n",
              " 0.006083964211975176,\n",
              " 0.029119064005505832,\n",
              " 0.04103234686854785,\n",
              " 0.021913282863041988,\n",
              " 0.013661390227116276,\n",
              " 0.017315898141775664,\n",
              " 0.018286304198210625,\n",
              " 0.019318651066758397,\n",
              " 0.011259463179628323,\n",
              " 0.0185340674466621,\n",
              " 0.005395732966276637,\n",
              " 0.013337921541637952,\n",
              " 0.010254645560908458,\n",
              " 0.018878183069511337,\n",
              " 0.012401927047487942,\n",
              " 0.01377838953888502,\n",
              " 0.03483826565726087,\n",
              " 0.017907777013076394,\n",
              " 0.00792154163799039,\n",
              " 0.008506538196834126,\n",
              " 0.01974535443909158,\n",
              " 0.023509979353062642,\n",
              " 0.018534067446662104,\n",
              " 0.012498279421885795,\n",
              " 0.022450103234686873,\n",
              " 0.01916035788024776,\n",
              " 0.027604955264969054,\n",
              " 0.0061596696490020236,\n",
              " 0.029483826565726057,\n",
              " 0.019848589125946288,\n",
              " 0.019318651066758414,\n",
              " 0.014714384033035061,\n",
              " 0.019194769442532695,\n",
              " 0.025113558155540262,\n",
              " 0.01683413626978664,\n",
              " 0.03589814177563661,\n",
              " 0.016854783207157588,\n",
              " 0.011686166551961474,\n",
              " 0.011225051617343383,\n",
              " 0.027136958017894022,\n",
              " 0.0382450103234687,\n",
              " 0.0068134893324156825,\n",
              " 0.025822436338609756,\n",
              " 0.012718513420509284,\n",
              " 0.009298004129387487,\n",
              " 0.022973158981417722,\n",
              " 0.01452856159669651,\n",
              " 0.026166551961459054,\n",
              " 0.012050929112181715,\n",
              " 0.01521679284239507,\n",
              " 0.011810048176187233,\n",
              " 0.015457673778389528,\n",
              " 0.011686166551961454,\n",
              " 0.022450103234686873,\n",
              " 0.01318651066758432,\n",
              " 0.019662766689607737,\n",
              " 0.016992429456297305,\n",
              " 0.0064900206469373336,\n",
              " 0.009621472814865844,\n",
              " 0.004714384033035082,\n",
              " 0.021954576737783865,\n",
              " 0.013688919476944238,\n",
              " 0.013392980041293863,\n",
              " 0.016565726083964182,\n",
              " 0.032085340674466646,\n",
              " 0.017501720578114225,\n",
              " 0.018004129387474203,\n",
              " 0.024707501720578083,\n",
              " 0.015932553337921547,\n",
              " 0.023007570543702685,\n",
              " 0.015719201651754947,\n",
              " 0.010901582931865095,\n",
              " 0.007962835512732282,\n",
              " 0.016407432897453538,\n",
              " 0.0120509291121817,\n",
              " 0.013372333103922888,\n",
              " 0.01586373021335171,\n",
              " 0.010536820371644835,\n",
              " 0.014012388162422547,\n",
              " 0.007866483138334466,\n",
              " 0.030543702684101802,\n",
              " 0.020963523743977964,\n",
              " 0.018568479008946998,\n",
              " 0.016304198210598773,\n",
              " 0.012814865794907104,\n",
              " 0.031231933929800396,\n",
              " 0.0059807295251204365,\n",
              " 0.016627666896077104,\n",
              " 0.007866483138334475,\n",
              " 0.010715760495526498,\n",
              " 0.027790777701307598,\n",
              " 0.014349621472814855,\n",
              " 0.012973158981417744,\n",
              " 0.012401927047487918,\n",
              " 0.004865794907088767,\n",
              " 0.01854783207157603,\n",
              " 0.018189951823812774,\n",
              " 0.01589814177563661,\n",
              " 0.027419132828630396,\n",
              " 0.016145905024088112,\n",
              " 0.009015829318651056,\n",
              " 0.011961459050240838,\n",
              " 0.0043427391603578286,\n",
              " 0.033826565726083994,\n",
              " 0.03223675154852028,\n",
              " 0.020316586373021344,\n",
              " 0.008148657949070857,\n",
              " 0.022057811424638668,\n",
              " 0.013551273227804543,\n",
              " 0.011947694425326907,\n",
              " 0.013874741913282876,\n",
              " 0.012973158981417716,\n",
              " 0.012092222986923605,\n",
              " 0.021225051617343428,\n",
              " 0.028644184445973844,\n",
              " 0.0353131452167928,\n",
              " 0.021321403991741254,\n",
              " 0.018596008258774954,\n",
              " 0.013778389538885053,\n",
              " 0.01162422573984857,\n",
              " 0.01148657949070889,\n",
              " 0.02350309704060567,\n",
              " 0.004741913282863002,\n",
              " 0.026166551961459023,\n",
              " 0.020757054370268452,\n",
              " 0.019201651754989647,\n",
              " 0.023296627666896046,\n",
              " 0.016551961459050236,\n",
              " 0.010997935306262937,\n",
              " 0.012684101858224333,\n",
              " 0.01905712319339302,\n",
              " 0.018231245698554686,\n",
              " 0.011383344803854055,\n",
              " 0.013145216792842387,\n",
              " 0.01956641431520988,\n",
              " 0.011913282863041939,\n",
              " 0.021121816930488663,\n",
              " 0.017192016517549914,\n",
              " 0.00896077081899518,\n",
              " 0.012966276668960743,\n",
              " 0.026166551961459037,\n",
              " 0.011362697866483156,\n",
              " 0.014803854094975913,\n",
              " 0.013833448038540978,\n",
              " 0.024762560220234025,\n",
              " 0.01375086028905715,\n",
              " 0.010750172057811466,\n",
              " 0.007467309015829315,\n",
              " 0.02883688919476942,\n",
              " 0.02006882312456987,\n",
              " 0.0130626290433586,\n",
              " 0.02401927047487951,\n",
              " 0.01237439779766003,\n",
              " 0.03187198898830005,\n",
              " 0.02143840330351002,\n",
              " 0.01122505161734339,\n",
              " 0.017501720578114204,\n",
              " 0.01741913282863041,\n",
              " 0.005574673090158326,\n",
              " 0.014714384033035065,\n",
              " 0.010963523743977957,\n",
              " 0.013392980041293925,\n",
              " 0.019380591878871305,\n",
              " 0.00786648313833447,\n",
              " 0.027426015141087355,\n",
              " 0.019848589125946288,\n",
              " 0.02746042670337229,\n",
              " 0.021286992429456315,\n",
              " 0.015209910529938076,\n",
              " 0.028891947694425366,\n",
              " 0.01604267033723327,\n",
              " 0.026166551961459034,\n",
              " 0.016551961459050267,\n",
              " 0.02484514796971783,\n",
              " 0.02419132828630425,\n",
              " 0.025574673090158297,\n",
              " 0.029580178940123922,\n",
              " 0.013413626978664826,\n",
              " 0.010935994494150027,\n",
              " 0.00695801789401238,\n",
              " 0.006806607019958698,\n",
              " 0.020860289057123144,\n",
              " 0.008189951823812786,\n",
              " 0.015072264280798308,\n",
              " 0.025388850653819676,\n",
              " 0.018657949070887823,\n",
              " 0.0136545079146593,\n",
              " 0.015512732278045392,\n",
              " 0.012126634549208572,\n",
              " 0.012649690295939434,\n",
              " 0.026944253269098446,\n",
              " 0.012284927735719146,\n",
              " 0.008995182381280093,\n",
              " 0.0075017205781142335,\n",
              " 0.016180316586373013,\n",
              " 0.017309015829318663,\n",
              " 0.01768066070199591,\n",
              " 0.02017205781142461,\n",
              " 0.024673090158293182,\n",
              " 0.016407432897453497,\n",
              " 0.016042670337233274,\n",
              " 0.017907777013076366,\n",
              " 0.01165175498967654,\n",
              " 0.013145216792842416,\n",
              " 0.019256710254645586,\n",
              " 0.01883000688231245,\n",
              " 0.011913282863041965,\n",
              " 0.01799724707501722,\n",
              " 0.02433585684790086,\n",
              " 0.02030970406056438,\n",
              " 0.008699242945629727,\n",
              " 0.021686166551961462,\n",
              " 0.023103922918100518,\n",
              " 0.02985547143840329,\n",
              " 0.02998623537508603,\n",
              " 0.012649690295939419,\n",
              " 0.032243633860977235,\n",
              " 0.01503785271851341,\n",
              " 0.012463867859600816,\n",
              " 0.011307639366827252,\n",
              " 0.018506538196834097,\n",
              " 0.005113558155540244,\n",
              " 0.009373709566414352,\n",
              " 0.010220233998623533,\n",
              " 0.021810048176187195,\n",
              " 0.024762560220234014,\n",
              " 0.011046111493461783,\n",
              " 0.008995182381280074,\n",
              " 0.034989676531314524,\n",
              " 0.00858912594631794,\n",
              " 0.014060564349621465,\n",
              " 0.013434273916035803,\n",
              " 0.008148657949070836,\n",
              " 0.011080523055746751,\n",
              " 0.010619408121128687,\n",
              " 0.010433585684790091,\n",
              " 0.013695801789401194,\n",
              " 0.024762560220234008,\n",
              " 0.015189263592567073,\n",
              " 0.03448726772195457,\n",
              " 0.02038540949759124,\n",
              " 0.008596008258774906,\n",
              " 0.029008947006194108,\n",
              " 0.029889883000688212,\n",
              " 0.01818995182381279,\n",
              " 0.009263592567102567,\n",
              " 0.019167240192704743,\n",
              " 0.012278045423262194,\n",
              " 0.014342739160357842,\n",
              " 0.01136958017894015,\n",
              " 0.014556090846524452,\n",
              " 0.028568479008947042,\n",
              " 0.018795595320027503,\n",
              " 0.006565726083964203,\n",
              " 0.019566414315209894,\n",
              " 0.003881624225739843,\n",
              " 0.020715760495526498,\n",
              " 0.019883000688231255,\n",
              " 0.009986235375086057,\n",
              " 0.014790089470061909,\n",
              " 0.016304198210598756,\n",
              " 0.019972470750172035,\n",
              " 0.020061940812112915,\n",
              " 0.014384033035099764,\n",
              " 0.008293186510667579,\n",
              " 0.008616655196145899,\n",
              " 0.017315898141775626,\n",
              " 0.013833448038540964,\n",
              " 0.014239504473503096,\n",
              " 0.007646249139710941,\n",
              " 0.018479008947006183,\n",
              " 0.009339298004129408,\n",
              " 0.02651066758430833,\n",
              " 0.023069511355815586,\n",
              " 0.034762560220234044,\n",
              " 0.009298004129387501,\n",
              " 0.022133516861665543,\n",
              " 0.00884377150722639,\n",
              " 0.007536132140399164,\n",
              " 0.02165175498967655,\n",
              " 0.01022023399862349,\n",
              " 0.016586373021335206,\n",
              " 0.018513420509291098,\n",
              " 0.02035099793530628,\n",
              " 0.024810736407432896,\n",
              " 0.017219545767377824,\n",
              " 0.018320715760495543,\n",
              " 0.012057811424638706,\n",
              " 0.015209910529938055,\n",
              " 0.011225051617343412,\n",
              " 0.01406056434962147,\n",
              " 0.0068479008947005815,\n",
              " 0.01750172057811422,\n",
              " 0.010653819683413621,\n",
              " 0.015478320715760482,\n",
              " 0.011114934618031688,\n",
              " 0.014521679284239522,\n",
              " 0.007639366827253994,\n",
              " 0.009896765313145199,\n",
              " 0.027136958017894,\n",
              " 0.018919476944253253,\n",
              " 0.018878183069511337,\n",
              " 0.02880247763248447,\n",
              " 0.014060564349621461,\n",
              " 0.021403991741225058,\n",
              " 0.006242257398485879,\n",
              " 0.006180316586373016,\n",
              " 0.01408121128699243,\n",
              " 0.018320715760495536,\n",
              " 0.018320715760495557,\n",
              " 0.024074328974535444,\n",
              " 0.020633172746042705,\n",
              " 0.005437026841018564,\n",
              " 0.013372333103922905,\n",
              " 0.02826565726083963,\n",
              " 0.025574673090158324,\n",
              " 0.025677907777013037,\n",
              " 0.017563661390227116,\n",
              " 0.010075705437026853,\n",
              " 0.008045423262216127,\n",
              " 0.01419132828630421,\n",
              " 0.01549208534067447,\n",
              " 0.02236063317274602,\n",
              " 0.020350997935306286,\n",
              " 0.01991052993805922,\n",
              " 0.01346868547832071,\n",
              " 0.018320715760495543,\n",
              " 0.023413626978664795,\n",
              " 0.004556090846524432,\n",
              " 0.018155540261527884,\n",
              " 0.022381280110117013,\n",
              " 0.023509979353062666,\n",
              " 0.017095664143152105,\n",
              " 0.016407432897453503,\n",
              " 0.011046111493461788,\n",
              " 0.02373021335168613,\n",
              " 0.01571920165175498,\n",
              " 0.016125258086717137,\n",
              " 0.016868547832071604,\n",
              " 0.008148657949070888,\n",
              " 0.013427391603578826,\n",
              " 0.010309704060564341,\n",
              " 0.02613902271163112,\n",
              " 0.024762560220234,\n",
              " 0.020571231933929793,\n",
              " 0.02397797660013766,\n",
              " 0.037178251892635884,\n",
              " 0.015905024088093595,\n",
              " 0.02094287680660699,\n",
              " 0.015209910529938062,\n",
              " 0.004893324156916775,\n",
              " 0.007522367515485212,\n",
              " 0.01609084652443217,\n",
              " 0.039332415691672416,\n",
              " 0.012374397797660029,\n",
              " 0.008995182381280087,\n",
              " 0.01607708189951821,\n",
              " 0.02545079146593256,\n",
              " 0.015939435650378562,\n",
              " 0.024384033035099773,\n",
              " 0.01727460426703374,\n",
              " 0.011713695801789385,\n",
              " 0.021548520302821707,\n",
              " 0.007357192016517577,\n",
              " 0.01821059876118378,\n",
              " 0.011651754989676542,\n",
              " 0.013840330350997954,\n",
              " 0.02063317274604269,\n",
              " 0.014845147969717833,\n",
              " 0.019532002752924972,\n",
              " 0.01868547832071578,\n",
              " 0.022663454920853445,\n",
              " 0.013867859600825889,\n",
              " 0.020254645560908467,\n",
              " 0.0136613902271163,\n",
              " 0.014404679972470765,\n",
              " 0.018692360633172762,\n",
              " 0.026083964211975168,\n",
              " 0.014790089470061938,\n",
              " 0.0076737783895388925,\n",
              " 0.01227804542326218,\n",
              " 0.023826565726083992,\n",
              " 0.02043358568479012,\n",
              " 0.009015829318651108,\n",
              " 0.007253957329662745,\n",
              " 0.017942188575361322,\n",
              " 0.03711631108052307,\n",
              " 0.016483138334480354,\n",
              " 0.009339298004129429,\n",
              " 0.027866483138334428,\n",
              " 0.015154852030282145,\n",
              " 0.020399174122505154,\n",
              " 0.010584996558843731,\n",
              " 0.03176187198898834,\n",
              " 0.025395732966276674,\n",
              " 0.007556779077770129,\n",
              " 0.013778389538885025,\n",
              " 0.02075705437026841,\n",
              " 0.027955953200275323,\n",
              " 0.017563661390227133,\n",
              " 0.020536820371644837,\n",
              " 0.0381899518238128,\n",
              " 0.006118375774260141,\n",
              " 0.020977288368891945,\n",
              " 0.019167240192704743,\n",
              " 0.016909841706813485,\n",
              " 0.016187198898830024,\n",
              " 0.030213351686166547,\n",
              " 0.004239504473503116,\n",
              " 0.019284239504473513,\n",
              " 0.02585684790089471,\n",
              " 0.012684101858224318,\n",
              " 0.013867859600825882,\n",
              " 0.030860289057123153,\n",
              " 0.02017205781142462,\n",
              " 0.01948382656572609,\n",
              " 0.022450103234686884,\n",
              " 0.012319339298004111,\n",
              " 0.02687543014452855,\n",
              " 0.016813489332415648,\n",
              " 0.018974535443909153,\n",
              " 0.019222298692360675,\n",
              " 0.008183069511355784,\n",
              " 0.021693048864418484,\n",
              " 0.016221610461114973,\n",
              " 0.025395732966276674,\n",
              " 0.015072264280798338,\n",
              " 0.027171369580178913,\n",
              " 0.013179628355127333,\n",
              " 0.013778389538885036,\n",
              " 0.011713695801789357,\n",
              " 0.01058499655884374,\n",
              " 0.017192016517549938,\n",
              " 0.005189263592567063,\n",
              " 0.00999311768754301,\n",
              " 0.013090158293186467,\n",
              " 0.018685478320715775,\n",
              " 0.012863041982105992,\n",
              " 0.02481073640743291,\n",
              " 0.013062629043358585,\n",
              " 0.019662766689607716,\n",
              " 0.015244322092223003,\n",
              " 0.005615966964900229,\n",
              " 0.0254783207157605,\n",
              " 0.01754301445285615,\n",
              " 0.018878183069511324,\n",
              " 0.006951135581555451,\n",
              " 0.02966276668960771,\n",
              " 0.027880247763248458,\n",
              " 0.008609772883688907,\n",
              " 0.01958706125258088,\n",
              " 0.009160357880247747,\n",
              " 0.015037852718513383,\n",
              " ...]"
            ]
          },
          "metadata": {},
          "execution_count": 18
        }
      ]
    },
    {
      "cell_type": "code",
      "source": [
        "tvd_final_df=pd.DataFrame(tvd_list)\n",
        "tvd_final_df.rename(columns={0:\"TVD\"},inplace=True) # renaming column\n",
        "tvd_final_df.head()"
      ],
      "metadata": {
        "colab": {
          "base_uri": "https://localhost:8080/",
          "height": 206
        },
        "id": "axUuXa-6Xvue",
        "outputId": "9bba2bc7-3d56-44b4-da25-2c00d767d4c7"
      },
      "execution_count": null,
      "outputs": [
        {
          "output_type": "execute_result",
          "data": {
            "text/plain": [
              "        TVD\n",
              "0  0.014116\n",
              "1  0.017192\n",
              "2  0.010943\n",
              "3  0.026490\n",
              "4  0.024384"
            ],
            "text/html": [
              "\n",
              "  <div id=\"df-d72b559e-e5ab-4b6b-91a2-4348d414533e\">\n",
              "    <div class=\"colab-df-container\">\n",
              "      <div>\n",
              "<style scoped>\n",
              "    .dataframe tbody tr th:only-of-type {\n",
              "        vertical-align: middle;\n",
              "    }\n",
              "\n",
              "    .dataframe tbody tr th {\n",
              "        vertical-align: top;\n",
              "    }\n",
              "\n",
              "    .dataframe thead th {\n",
              "        text-align: right;\n",
              "    }\n",
              "</style>\n",
              "<table border=\"1\" class=\"dataframe\">\n",
              "  <thead>\n",
              "    <tr style=\"text-align: right;\">\n",
              "      <th></th>\n",
              "      <th>TVD</th>\n",
              "    </tr>\n",
              "  </thead>\n",
              "  <tbody>\n",
              "    <tr>\n",
              "      <th>0</th>\n",
              "      <td>0.014116</td>\n",
              "    </tr>\n",
              "    <tr>\n",
              "      <th>1</th>\n",
              "      <td>0.017192</td>\n",
              "    </tr>\n",
              "    <tr>\n",
              "      <th>2</th>\n",
              "      <td>0.010943</td>\n",
              "    </tr>\n",
              "    <tr>\n",
              "      <th>3</th>\n",
              "      <td>0.026490</td>\n",
              "    </tr>\n",
              "    <tr>\n",
              "      <th>4</th>\n",
              "      <td>0.024384</td>\n",
              "    </tr>\n",
              "  </tbody>\n",
              "</table>\n",
              "</div>\n",
              "      <button class=\"colab-df-convert\" onclick=\"convertToInteractive('df-d72b559e-e5ab-4b6b-91a2-4348d414533e')\"\n",
              "              title=\"Convert this dataframe to an interactive table.\"\n",
              "              style=\"display:none;\">\n",
              "        \n",
              "  <svg xmlns=\"http://www.w3.org/2000/svg\" height=\"24px\"viewBox=\"0 0 24 24\"\n",
              "       width=\"24px\">\n",
              "    <path d=\"M0 0h24v24H0V0z\" fill=\"none\"/>\n",
              "    <path d=\"M18.56 5.44l.94 2.06.94-2.06 2.06-.94-2.06-.94-.94-2.06-.94 2.06-2.06.94zm-11 1L8.5 8.5l.94-2.06 2.06-.94-2.06-.94L8.5 2.5l-.94 2.06-2.06.94zm10 10l.94 2.06.94-2.06 2.06-.94-2.06-.94-.94-2.06-.94 2.06-2.06.94z\"/><path d=\"M17.41 7.96l-1.37-1.37c-.4-.4-.92-.59-1.43-.59-.52 0-1.04.2-1.43.59L10.3 9.45l-7.72 7.72c-.78.78-.78 2.05 0 2.83L4 21.41c.39.39.9.59 1.41.59.51 0 1.02-.2 1.41-.59l7.78-7.78 2.81-2.81c.8-.78.8-2.07 0-2.86zM5.41 20L4 18.59l7.72-7.72 1.47 1.35L5.41 20z\"/>\n",
              "  </svg>\n",
              "      </button>\n",
              "      \n",
              "  <style>\n",
              "    .colab-df-container {\n",
              "      display:flex;\n",
              "      flex-wrap:wrap;\n",
              "      gap: 12px;\n",
              "    }\n",
              "\n",
              "    .colab-df-convert {\n",
              "      background-color: #E8F0FE;\n",
              "      border: none;\n",
              "      border-radius: 50%;\n",
              "      cursor: pointer;\n",
              "      display: none;\n",
              "      fill: #1967D2;\n",
              "      height: 32px;\n",
              "      padding: 0 0 0 0;\n",
              "      width: 32px;\n",
              "    }\n",
              "\n",
              "    .colab-df-convert:hover {\n",
              "      background-color: #E2EBFA;\n",
              "      box-shadow: 0px 1px 2px rgba(60, 64, 67, 0.3), 0px 1px 3px 1px rgba(60, 64, 67, 0.15);\n",
              "      fill: #174EA6;\n",
              "    }\n",
              "\n",
              "    [theme=dark] .colab-df-convert {\n",
              "      background-color: #3B4455;\n",
              "      fill: #D2E3FC;\n",
              "    }\n",
              "\n",
              "    [theme=dark] .colab-df-convert:hover {\n",
              "      background-color: #434B5C;\n",
              "      box-shadow: 0px 1px 3px 1px rgba(0, 0, 0, 0.15);\n",
              "      filter: drop-shadow(0px 1px 2px rgba(0, 0, 0, 0.3));\n",
              "      fill: #FFFFFF;\n",
              "    }\n",
              "  </style>\n",
              "\n",
              "      <script>\n",
              "        const buttonEl =\n",
              "          document.querySelector('#df-d72b559e-e5ab-4b6b-91a2-4348d414533e button.colab-df-convert');\n",
              "        buttonEl.style.display =\n",
              "          google.colab.kernel.accessAllowed ? 'block' : 'none';\n",
              "\n",
              "        async function convertToInteractive(key) {\n",
              "          const element = document.querySelector('#df-d72b559e-e5ab-4b6b-91a2-4348d414533e');\n",
              "          const dataTable =\n",
              "            await google.colab.kernel.invokeFunction('convertToInteractive',\n",
              "                                                     [key], {});\n",
              "          if (!dataTable) return;\n",
              "\n",
              "          const docLinkHtml = 'Like what you see? Visit the ' +\n",
              "            '<a target=\"_blank\" href=https://colab.research.google.com/notebooks/data_table.ipynb>data table notebook</a>'\n",
              "            + ' to learn more about interactive tables.';\n",
              "          element.innerHTML = '';\n",
              "          dataTable['output_type'] = 'display_data';\n",
              "          await google.colab.output.renderOutput(dataTable, element);\n",
              "          const docLink = document.createElement('div');\n",
              "          docLink.innerHTML = docLinkHtml;\n",
              "          element.appendChild(docLink);\n",
              "        }\n",
              "      </script>\n",
              "    </div>\n",
              "  </div>\n",
              "  "
            ]
          },
          "metadata": {},
          "execution_count": 19
        }
      ]
    },
    {
      "cell_type": "code",
      "source": [
        "tvd_final_df.hist(bins=np.arange(0,0.2,0.005))\n",
        "plt.ylabel('Percent per unit')\n",
        "plt.xlabel('TVD')\n",
        "plt.scatter(observed_stat, 0, color='red', s=30)"
      ],
      "metadata": {
        "colab": {
          "base_uri": "https://localhost:8080/",
          "height": 312
        },
        "id": "TkP_h4aTX4ka",
        "outputId": "07cce272-6c23-4c74-d705-81a581d1c50a"
      },
      "execution_count": null,
      "outputs": [
        {
          "output_type": "execute_result",
          "data": {
            "text/plain": [
              "<matplotlib.collections.PathCollection at 0x7fe42ca8eb50>"
            ]
          },
          "metadata": {},
          "execution_count": 22
        },
        {
          "output_type": "display_data",
          "data": {
            "text/plain": [
              "<Figure size 432x288 with 1 Axes>"
            ],
            "image/png": "[encoded data removed]"
          },
          "metadata": {
            "needs_background": "light"
          }
        }
      ]
    },
    {
      "cell_type": "markdown",
      "source": [
        "GSI'S defence"
      ],
      "metadata": {
        "id": "ZdUOwHOwZFj_"
      }
    },
    {
      "cell_type": "code",
      "source": [
        "import pandas as pd"
      ],
      "metadata": {
        "id": "am-HF98SZKfo"
      },
      "execution_count": null,
      "outputs": []
    },
    {
      "cell_type": "code",
      "source": [],
      "metadata": {
        "id": "1vZIzETedErA"
      },
      "execution_count": null,
      "outputs": []
    }
  ]
}