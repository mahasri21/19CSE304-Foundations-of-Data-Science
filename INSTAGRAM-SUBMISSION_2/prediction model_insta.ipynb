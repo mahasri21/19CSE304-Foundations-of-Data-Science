{
  "nbformat": 4,
  "nbformat_minor": 0,
  "metadata": {
    "colab": {
      "provenance": []
    },
    "kernelspec": {
      "name": "python3",
      "display_name": "Python 3"
    },
    "language_info": {
      "name": "python"
    }
  },
  "cells": [
    {
      "cell_type": "code",
      "source": [],
      "metadata": {
        "id": "k2oXKK0n4zxt"
      },
      "execution_count": null,
      "outputs": []
    },
    {
      "cell_type": "code",
      "execution_count": null,
      "metadata": {
        "id": "VuRyPj_HHy6o"
      },
      "outputs": [],
      "source": [
        "import pandas as pd\n",
        "import seaborn as sns\n",
        "import matplotlib.pyplot as plt"
      ]
    },
    {
      "cell_type": "code",
      "execution_count": null,
      "metadata": {
        "colab": {
          "base_uri": "https://localhost:8080/",
          "height": 424
        },
        "id": "BKQgUTAoICY9",
        "outputId": "7a3c0a02-abde-410f-fbd9-9c0432bf6443"
      },
      "outputs": [
        {
          "output_type": "execute_result",
          "data": {
            "text/plain": [
              "     profile pic  nums/length username  fullname words  nums/length fullname  \\\n",
              "0              1                  0.27               0                  0.00   \n",
              "1              1                  0.00               2                  0.00   \n",
              "2              1                  0.10               2                  0.00   \n",
              "3              1                  0.00               1                  0.00   \n",
              "4              1                  0.00               2                  0.00   \n",
              "..           ...                   ...             ...                   ...   \n",
              "571            1                  0.55               1                  0.44   \n",
              "572            1                  0.38               1                  0.33   \n",
              "573            1                  0.57               2                  0.00   \n",
              "574            1                  0.57               1                  0.00   \n",
              "575            1                  0.27               1                  0.00   \n",
              "\n",
              "     name==username  description length  external URL  private  #posts  \\\n",
              "0                 0                  53             0        0      32   \n",
              "1                 0                  44             0        0     286   \n",
              "2                 0                   0             0        1      13   \n",
              "3                 0                  82             0        0     679   \n",
              "4                 0                   0             0        1       6   \n",
              "..              ...                 ...           ...      ...     ...   \n",
              "571               0                   0             0        0      33   \n",
              "572               0                  21             0        0      44   \n",
              "573               0                   0             0        0       4   \n",
              "574               0                  11             0        0       0   \n",
              "575               0                   0             0        0       2   \n",
              "\n",
              "     #followers  #follows  fake  \n",
              "0          1000       955     0  \n",
              "1          2740       533     0  \n",
              "2           159        98     0  \n",
              "3           414       651     0  \n",
              "4           151       126     0  \n",
              "..          ...       ...   ...  \n",
              "571         166       596     1  \n",
              "572          66        75     1  \n",
              "573          96       339     1  \n",
              "574          57        73     1  \n",
              "575         150       487     1  \n",
              "\n",
              "[576 rows x 12 columns]"
            ],
            "text/html": [
              "\n",
              "  <div id=\"df-a8284bae-19b3-4b1c-947b-6bc7d39079d7\">\n",
              "    <div class=\"colab-df-container\">\n",
              "      <div>\n",
              "<style scoped>\n",
              "    .dataframe tbody tr th:only-of-type {\n",
              "        vertical-align: middle;\n",
              "    }\n",
              "\n",
              "    .dataframe tbody tr th {\n",
              "        vertical-align: top;\n",
              "    }\n",
              "\n",
              "    .dataframe thead th {\n",
              "        text-align: right;\n",
              "    }\n",
              "</style>\n",
              "<table border=\"1\" class=\"dataframe\">\n",
              "  <thead>\n",
              "    <tr style=\"text-align: right;\">\n",
              "      <th></th>\n",
              "      <th>profile pic</th>\n",
              "      <th>nums/length username</th>\n",
              "      <th>fullname words</th>\n",
              "      <th>nums/length fullname</th>\n",
              "      <th>name==username</th>\n",
              "      <th>description length</th>\n",
              "      <th>external URL</th>\n",
              "      <th>private</th>\n",
              "      <th>#posts</th>\n",
              "      <th>#followers</th>\n",
              "      <th>#follows</th>\n",
              "      <th>fake</th>\n",
              "    </tr>\n",
              "  </thead>\n",
              "  <tbody>\n",
              "    <tr>\n",
              "      <th>0</th>\n",
              "      <td>1</td>\n",
              "      <td>0.27</td>\n",
              "      <td>0</td>\n",
              "      <td>0.00</td>\n",
              "      <td>0</td>\n",
              "      <td>53</td>\n",
              "      <td>0</td>\n",
              "      <td>0</td>\n",
              "      <td>32</td>\n",
              "      <td>1000</td>\n",
              "      <td>955</td>\n",
              "      <td>0</td>\n",
              "    </tr>\n",
              "    <tr>\n",
              "      <th>1</th>\n",
              "      <td>1</td>\n",
              "      <td>0.00</td>\n",
              "      <td>2</td>\n",
              "      <td>0.00</td>\n",
              "      <td>0</td>\n",
              "      <td>44</td>\n",
              "      <td>0</td>\n",
              "      <td>0</td>\n",
              "      <td>286</td>\n",
              "      <td>2740</td>\n",
              "      <td>533</td>\n",
              "      <td>0</td>\n",
              "    </tr>\n",
              "    <tr>\n",
              "      <th>2</th>\n",
              "      <td>1</td>\n",
              "      <td>0.10</td>\n",
              "      <td>2</td>\n",
              "      <td>0.00</td>\n",
              "      <td>0</td>\n",
              "      <td>0</td>\n",
              "      <td>0</td>\n",
              "      <td>1</td>\n",
              "      <td>13</td>\n",
              "      <td>159</td>\n",
              "      <td>98</td>\n",
              "      <td>0</td>\n",
              "    </tr>\n",
              "    <tr>\n",
              "      <th>3</th>\n",
              "      <td>1</td>\n",
              "      <td>0.00</td>\n",
              "      <td>1</td>\n",
              "      <td>0.00</td>\n",
              "      <td>0</td>\n",
              "      <td>82</td>\n",
              "      <td>0</td>\n",
              "      <td>0</td>\n",
              "      <td>679</td>\n",
              "      <td>414</td>\n",
              "      <td>651</td>\n",
              "      <td>0</td>\n",
              "    </tr>\n",
              "    <tr>\n",
              "      <th>4</th>\n",
              "      <td>1</td>\n",
              "      <td>0.00</td>\n",
              "      <td>2</td>\n",
              "      <td>0.00</td>\n",
              "      <td>0</td>\n",
              "      <td>0</td>\n",
              "      <td>0</td>\n",
              "      <td>1</td>\n",
              "      <td>6</td>\n",
              "      <td>151</td>\n",
              "      <td>126</td>\n",
              "      <td>0</td>\n",
              "    </tr>\n",
              "    <tr>\n",
              "      <th>...</th>\n",
              "      <td>...</td>\n",
              "      <td>...</td>\n",
              "      <td>...</td>\n",
              "      <td>...</td>\n",
              "      <td>...</td>\n",
              "      <td>...</td>\n",
              "      <td>...</td>\n",
              "      <td>...</td>\n",
              "      <td>...</td>\n",
              "      <td>...</td>\n",
              "      <td>...</td>\n",
              "      <td>...</td>\n",
              "    </tr>\n",
              "    <tr>\n",
              "      <th>571</th>\n",
              "      <td>1</td>\n",
              "      <td>0.55</td>\n",
              "      <td>1</td>\n",
              "      <td>0.44</td>\n",
              "      <td>0</td>\n",
              "      <td>0</td>\n",
              "      <td>0</td>\n",
              "      <td>0</td>\n",
              "      <td>33</td>\n",
              "      <td>166</td>\n",
              "      <td>596</td>\n",
              "      <td>1</td>\n",
              "    </tr>\n",
              "    <tr>\n",
              "      <th>572</th>\n",
              "      <td>1</td>\n",
              "      <td>0.38</td>\n",
              "      <td>1</td>\n",
              "      <td>0.33</td>\n",
              "      <td>0</td>\n",
              "      <td>21</td>\n",
              "      <td>0</td>\n",
              "      <td>0</td>\n",
              "      <td>44</td>\n",
              "      <td>66</td>\n",
              "      <td>75</td>\n",
              "      <td>1</td>\n",
              "    </tr>\n",
              "    <tr>\n",
              "      <th>573</th>\n",
              "      <td>1</td>\n",
              "      <td>0.57</td>\n",
              "      <td>2</td>\n",
              "      <td>0.00</td>\n",
              "      <td>0</td>\n",
              "      <td>0</td>\n",
              "      <td>0</td>\n",
              "      <td>0</td>\n",
              "      <td>4</td>\n",
              "      <td>96</td>\n",
              "      <td>339</td>\n",
              "      <td>1</td>\n",
              "    </tr>\n",
              "    <tr>\n",
              "      <th>574</th>\n",
              "      <td>1</td>\n",
              "      <td>0.57</td>\n",
              "      <td>1</td>\n",
              "      <td>0.00</td>\n",
              "      <td>0</td>\n",
              "      <td>11</td>\n",
              "      <td>0</td>\n",
              "      <td>0</td>\n",
              "      <td>0</td>\n",
              "      <td>57</td>\n",
              "      <td>73</td>\n",
              "      <td>1</td>\n",
              "    </tr>\n",
              "    <tr>\n",
              "      <th>575</th>\n",
              "      <td>1</td>\n",
              "      <td>0.27</td>\n",
              "      <td>1</td>\n",
              "      <td>0.00</td>\n",
              "      <td>0</td>\n",
              "      <td>0</td>\n",
              "      <td>0</td>\n",
              "      <td>0</td>\n",
              "      <td>2</td>\n",
              "      <td>150</td>\n",
              "      <td>487</td>\n",
              "      <td>1</td>\n",
              "    </tr>\n",
              "  </tbody>\n",
              "</table>\n",
              "<p>576 rows × 12 columns</p>\n",
              "</div>\n",
              "      <button class=\"colab-df-convert\" onclick=\"convertToInteractive('df-a8284bae-19b3-4b1c-947b-6bc7d39079d7')\"\n",
              "              title=\"Convert this dataframe to an interactive table.\"\n",
              "              style=\"display:none;\">\n",
              "        \n",
              "  <svg xmlns=\"http://www.w3.org/2000/svg\" height=\"24px\"viewBox=\"0 0 24 24\"\n",
              "       width=\"24px\">\n",
              "    <path d=\"M0 0h24v24H0V0z\" fill=\"none\"/>\n",
              "    <path d=\"M18.56 5.44l.94 2.06.94-2.06 2.06-.94-2.06-.94-.94-2.06-.94 2.06-2.06.94zm-11 1L8.5 8.5l.94-2.06 2.06-.94-2.06-.94L8.5 2.5l-.94 2.06-2.06.94zm10 10l.94 2.06.94-2.06 2.06-.94-2.06-.94-.94-2.06-.94 2.06-2.06.94z\"/><path d=\"M17.41 7.96l-1.37-1.37c-.4-.4-.92-.59-1.43-.59-.52 0-1.04.2-1.43.59L10.3 9.45l-7.72 7.72c-.78.78-.78 2.05 0 2.83L4 21.41c.39.39.9.59 1.41.59.51 0 1.02-.2 1.41-.59l7.78-7.78 2.81-2.81c.8-.78.8-2.07 0-2.86zM5.41 20L4 18.59l7.72-7.72 1.47 1.35L5.41 20z\"/>\n",
              "  </svg>\n",
              "      </button>\n",
              "      \n",
              "  <style>\n",
              "    .colab-df-container {\n",
              "      display:flex;\n",
              "      flex-wrap:wrap;\n",
              "      gap: 12px;\n",
              "    }\n",
              "\n",
              "    .colab-df-convert {\n",
              "      background-color: #E8F0FE;\n",
              "      border: none;\n",
              "      border-radius: 50%;\n",
              "      cursor: pointer;\n",
              "      display: none;\n",
              "      fill: #1967D2;\n",
              "      height: 32px;\n",
              "      padding: 0 0 0 0;\n",
              "      width: 32px;\n",
              "    }\n",
              "\n",
              "    .colab-df-convert:hover {\n",
              "      background-color: #E2EBFA;\n",
              "      box-shadow: 0px 1px 2px rgba(60, 64, 67, 0.3), 0px 1px 3px 1px rgba(60, 64, 67, 0.15);\n",
              "      fill: #174EA6;\n",
              "    }\n",
              "\n",
              "    [theme=dark] .colab-df-convert {\n",
              "      background-color: #3B4455;\n",
              "      fill: #D2E3FC;\n",
              "    }\n",
              "\n",
              "    [theme=dark] .colab-df-convert:hover {\n",
              "      background-color: #434B5C;\n",
              "      box-shadow: 0px 1px 3px 1px rgba(0, 0, 0, 0.15);\n",
              "      filter: drop-shadow(0px 1px 2px rgba(0, 0, 0, 0.3));\n",
              "      fill: #FFFFFF;\n",
              "    }\n",
              "  </style>\n",
              "\n",
              "      <script>\n",
              "        const buttonEl =\n",
              "          document.querySelector('#df-a8284bae-19b3-4b1c-947b-6bc7d39079d7 button.colab-df-convert');\n",
              "        buttonEl.style.display =\n",
              "          google.colab.kernel.accessAllowed ? 'block' : 'none';\n",
              "\n",
              "        async function convertToInteractive(key) {\n",
              "          const element = document.querySelector('#df-a8284bae-19b3-4b1c-947b-6bc7d39079d7');\n",
              "          const dataTable =\n",
              "            await google.colab.kernel.invokeFunction('convertToInteractive',\n",
              "                                                     [key], {});\n",
              "          if (!dataTable) return;\n",
              "\n",
              "          const docLinkHtml = 'Like what you see? Visit the ' +\n",
              "            '<a target=\"_blank\" href=https://colab.research.google.com/notebooks/data_table.ipynb>data table notebook</a>'\n",
              "            + ' to learn more about interactive tables.';\n",
              "          element.innerHTML = '';\n",
              "          dataTable['output_type'] = 'display_data';\n",
              "          await google.colab.output.renderOutput(dataTable, element);\n",
              "          const docLink = document.createElement('div');\n",
              "          docLink.innerHTML = docLinkHtml;\n",
              "          element.appendChild(docLink);\n",
              "        }\n",
              "      </script>\n",
              "    </div>\n",
              "  </div>\n",
              "  "
            ]
          },
          "metadata": {},
          "execution_count": 45
        }
      ],
      "source": [
        "df = pd.read_csv(\"/content/train.csv\")\n",
        "df"
      ]
    },
    {
      "cell_type": "code",
      "source": [
        "from sklearn.model_selection import train_test_split\n",
        "X = df[[\"#posts\"]]\n",
        "y = df[[\"#followers\"]]\n",
        "X_train, X_test, y_train, y_test = train_test_split(X, y, test_size=0.4, random_state=0)"
      ],
      "metadata": {
        "id": "TMGww3PuxgPh"
      },
      "execution_count": null,
      "outputs": []
    },
    {
      "cell_type": "code",
      "source": [
        "from sklearn.linear_model import LinearRegression\n",
        "lm = LinearRegression()\n",
        "lm.fit(X_train,y_train)\n",
        "predictions = lm.predict(X_test)\n",
        "plt.scatter(y_test,predictions)"
      ],
      "metadata": {
        "colab": {
          "base_uri": "https://localhost:8080/",
          "height": 306
        },
        "id": "AHtB1S-MxzqC",
        "outputId": "0b691aa5-0b2c-4603-c50e-313f0f9a1922"
      },
      "execution_count": null,
      "outputs": [
        {
          "output_type": "execute_result",
          "data": {
            "text/plain": [
              "<matplotlib.collections.PathCollection at 0x7fbd52094be0>"
            ]
          },
          "metadata": {},
          "execution_count": 64
        },
        {
          "output_type": "display_data",
          "data": {
            "text/plain": [
              "<Figure size 432x288 with 1 Axes>"
            ],
            "image/png": "[encoded data removed]"
          },
          "metadata": {
            "needs_background": "light"
          }
        }
      ]
    },
    {
      "cell_type": "code",
      "source": [
        "sns.distplot((y_test-predictions),bins=50);\n"
      ],
      "metadata": {
        "colab": {
          "base_uri": "https://localhost:8080/",
          "height": 344
        },
        "id": "hu-yyV_PyX-B",
        "outputId": "88c08203-6ba0-45e3-adb8-7643d355906e"
      },
      "execution_count": null,
      "outputs": [
        {
          "output_type": "stream",
          "name": "stderr",
          "text": [
            "/usr/local/lib/python3.8/dist-packages/seaborn/distributions.py:2619: FutureWarning: `distplot` is a deprecated function and will be removed in a future version. Please adapt your code to use either `displot` (a figure-level function with similar flexibility) or `histplot` (an axes-level function for histograms).\n",
            "  warnings.warn(msg, FutureWarning)\n"
          ]
        },
        {
          "output_type": "display_data",
          "data": {
            "text/plain": [
              "<Figure size 432x288 with 1 Axes>"
            ],
            "image/png": "[encoded data removed]"
          },
          "metadata": {
            "needs_background": "light"
          }
        }
      ]
    },
    {
      "cell_type": "code",
      "source": [
        "from sklearn import metrics\n",
        "import numpy as np\n",
        "print('MAE:', metrics.mean_absolute_error(y_test, predictions))\n",
        "print('MSE:', metrics.mean_squared_error(y_test, predictions))\n",
        "print('RMSE:', np.sqrt(metrics.mean_squared_error(y_test, predictions)))"
      ],
      "metadata": {
        "colab": {
          "base_uri": "https://localhost:8080/"
        },
        "id": "JgmQlP-tydej",
        "outputId": "0786eee2-e1a0-472d-c482-24c8a0e26008"
      },
      "execution_count": null,
      "outputs": [
        {
          "output_type": "stream",
          "name": "stdout",
          "text": [
            "MAE: 111275.57335620298\n",
            "MSE: 90864234921.15613\n",
            "RMSE: 301436.95015899447\n"
          ]
        }
      ]
    },
    {
      "cell_type": "code",
      "source": [
        "from sklearn.linear_model import LogisticRegression\n",
        "\n",
        "logreg = LogisticRegression()\n",
        "logreg.fit(X_train,y_train)\n",
        "\n",
        "\n",
        "y_pred=logreg.predict(X_test)\n",
        "y_pred\n"
      ],
      "metadata": {
        "colab": {
          "base_uri": "https://localhost:8080/"
        },
        "id": "wKg4CY1ey1Hs",
        "outputId": "8d02be0a-6c5a-4e1a-b3f2-19d418c9ae81"
      },
      "execution_count": null,
      "outputs": [
        {
          "output_type": "stream",
          "name": "stderr",
          "text": [
            "/usr/local/lib/python3.8/dist-packages/sklearn/utils/validation.py:993: DataConversionWarning: A column-vector y was passed when a 1d array was expected. Please change the shape of y to (n_samples, ), for example using ravel().\n",
            "  y = column_or_1d(y, warn=True)\n",
            "/usr/local/lib/python3.8/dist-packages/sklearn/linear_model/_logistic.py:814: ConvergenceWarning: lbfgs failed to converge (status=1):\n",
            "STOP: TOTAL NO. of ITERATIONS REACHED LIMIT.\n",
            "\n",
            "Increase the number of iterations (max_iter) or scale the data as shown in:\n",
            "    https://scikit-learn.org/stable/modules/preprocessing.html\n",
            "Please also refer to the documentation for alternative solver options:\n",
            "    https://scikit-learn.org/stable/modules/linear_model.html#logistic-regression\n",
            "  n_iter_i = _check_optimize_result(\n"
          ]
        },
        {
          "output_type": "execute_result",
          "data": {
            "text/plain": [
              "array([  890969,   890969,        0,   890969,   890969,   890969,\n",
              "         890969,   890969,        0,   890969,      744,        0,\n",
              "         890969,        0,   890969,   890969,        0,      744,\n",
              "         890969,   890969,        0,        0,        0,        0,\n",
              "         890969,   890969,   890969,        0,   890969,   890969,\n",
              "         890969,   890969,   890969,   890969,   890969,   890969,\n",
              "              0,   890969,   890969,   890969, 12397719, 12397719,\n",
              "              0,        0,   890969,   890969,   890969,   890969,\n",
              "         890969,      744,   890969,   890969,   890969,        0,\n",
              "              0,   890969,        0,   890969,   890969,      744,\n",
              "         890969,   890969,   890969,   890969,   890969,   890969,\n",
              "       12397719,   890969,   890969,        0,        0,    18515,\n",
              "         890969,        0,   890969,    18515,   890969,   890969,\n",
              "         890969,   890969,        0,      744,        0, 12397719,\n",
              "              0,        0,   890969,   890969,   890969,        0,\n",
              "            744,   890969,   890969,   890969,   890969, 12397719,\n",
              "         890969,   890969,    18515,   890969,   890969,   890969,\n",
              "              0,   890969,        0,   890969,        0,   890969,\n",
              "              0,   890969,   890969,   890969,   890969,   890969,\n",
              "              0,   890969,   890969,   890969,        0,   890969,\n",
              "              0,   890969,        0,        0, 12397719,   890969,\n",
              "              0,   890969,    18515,        0,   890969,        0,\n",
              "              0,        0,        0,   890969,        0,   890969,\n",
              "         890969,   890969, 12397719,        0,        0, 12397719,\n",
              "         890969,        0,        0,   890969,        0,   890969,\n",
              "         890969, 12397719,   890969,   890969,        0,        0,\n",
              "         890969,        0,    18515,        0,   890969,   890969,\n",
              "       12397719,   890969,   890969,        0,   890969,      744,\n",
              "         890969,   890969,        0,   890969,   890969,        0,\n",
              "         890969,        0,   890969,        0,        0,   890969,\n",
              "         890969,        0,   890969,   890969,        0,   890969,\n",
              "         890969,   890969,   890969,   890969,   890969,   890969,\n",
              "              0,   890969,   890969,        0,   890969,   890969,\n",
              "         890969,   890969, 12397719,   890969,   890969,        0,\n",
              "         890969,   890969,   890969,        0,   890969,   890969,\n",
              "              0,        0,        0,   890969,   890969,        0,\n",
              "         890969,        0,        0,        0,    18515,        0,\n",
              "         890969,   890969,   890969,   890969,   890969,   890969,\n",
              "         890969,   890969,        0])"
            ]
          },
          "metadata": {},
          "execution_count": 67
        }
      ]
    },
    {
      "cell_type": "code",
      "source": [
        "print(\"Accuracy:\",metrics.accuracy_score(y_test, y_pred))\n",
        "print(\"Precision:\",metrics.precision_score(y_test, y_pred, average=\"micro\"))\n",
        "print(\"Recall:\",metrics.recall_score(y_test, y_pred, average=\"micro\"))"
      ],
      "metadata": {
        "colab": {
          "base_uri": "https://localhost:8080/"
        },
        "id": "DeSdd_duzGlm",
        "outputId": "4d686b99-a50c-4148-bf00-836ed696acb4"
      },
      "execution_count": null,
      "outputs": [
        {
          "output_type": "stream",
          "name": "stdout",
          "text": [
            "Accuracy: 0.03896103896103896\n",
            "Precision: 0.03896103896103896\n",
            "Recall: 0.03896103896103896\n"
          ]
        }
      ]
    },
    {
      "cell_type": "code",
      "source": [
        "from sklearn import tree\n",
        "model = tree.DecisionTreeClassifier(criterion='entropy')\n",
        "model.fit(X_train, y_train)\n",
        "y_pred = model.predict(X_test)\n",
        "y_pred"
      ],
      "metadata": {
        "colab": {
          "base_uri": "https://localhost:8080/"
        },
        "id": "Slgd2SFhzh1z",
        "outputId": "848544a1-9a90-4f12-85bd-8f67783fa2a4"
      },
      "execution_count": null,
      "outputs": [
        {
          "output_type": "execute_result",
          "data": {
            "text/plain": [
              "array([     201,      106,        0,      193,        5,       40,\n",
              "             40,     1456,        0,      177,        1,        0,\n",
              "           3551,        0,    27477,       96,        0,        1,\n",
              "            193,      201,        0,        0,        0,        0,\n",
              "           7217,       38,     1068,        0,       40,      748,\n",
              "            158,       96,      195,       38,  5315651,      414,\n",
              "              0,      759,        7,     1057,        1,        1,\n",
              "              0,        0,      722,       70,      265,     1057,\n",
              "            272,        1,      414,      404,      404,        0,\n",
              "              0,     2756,        0,      404,      414,        1,\n",
              "            229,     1057,        8,      404,       59,      668,\n",
              "              1,        5,      722,        0,        0,       34,\n",
              "            802,        0,      193,       34,   542073,      505,\n",
              "            456,    19512,        0,        1,        0,       18,\n",
              "              0,        0,     3003,       45,       38,        0,\n",
              "              1,     2598,      186,    91446,      272,       18,\n",
              "              7,      195,       34,       82,     1204,      606,\n",
              "              0,     1000,        0,      143,        0,      167,\n",
              "              0,      158,      167,     8578,   542073,  6741307,\n",
              "              0,        8,        7,      722,        0,      494,\n",
              "              0,      606,        0,        0,        1,     1358,\n",
              "              0,      272,       34,        0,       59,        0,\n",
              "              0,        0,        0,      244,        0,      399,\n",
              "           5282,        7,       18,        0,        0,        1,\n",
              "           1267,        0,        0,      166,        0,      494,\n",
              "            414,       18,     1167,      711,        0,        0,\n",
              "            539,        0,       34,        0,      158, 15338538,\n",
              "             18,        7, 15338538,        0,      167,        1,\n",
              "            186,      201,        0,      167,      158,        0,\n",
              "          18515,        0,      166,        0,        0,      244,\n",
              "           7007,        0,      741,      109,        0,      109,\n",
              "            201,      802,    17303,      279,       48,    18515,\n",
              "              0,     2118,     4347,        0,      399,       38,\n",
              "             59,      399,       18,       48,      916,        0,\n",
              "            456,      399,        5,        0,      279,     4594,\n",
              "              0,        0,        0,      399,      201,        0,\n",
              "           1204,        0,        0,        0,       34,        0,\n",
              "            106,     7007,       38,       38,     3551,        7,\n",
              "           1167,       48,        0])"
            ]
          },
          "metadata": {},
          "execution_count": 69
        }
      ]
    },
    {
      "cell_type": "code",
      "source": [
        "import pandas as pd\n",
        "from sklearn.ensemble import RandomForestClassifier\n",
        "from sklearn.metrics import accuracy_score\n",
        "model = RandomForestClassifier()\n",
        "# fit the model with the training data\n",
        "model.fit(X_train,y_train)\n",
        "print('Number of Trees used : ', model.n_estimators)\n",
        "# predict the target on the train dataset\n",
        "predict_train = model.predict(X_train)\n",
        "print('\\nTarget on train data',predict_train)"
      ],
      "metadata": {
        "colab": {
          "base_uri": "https://localhost:8080/"
        },
        "id": "AGNZFozlzxvL",
        "outputId": "3e6cc52b-9518-447c-a347-8fb690e217a9"
      },
      "execution_count": null,
      "outputs": [
        {
          "output_type": "stream",
          "name": "stderr",
          "text": [
            "<ipython-input-70-c92fc784835b>:6: DataConversionWarning: A column-vector y was passed when a 1d array was expected. Please change the shape of y to (n_samples,), for example using ravel().\n",
            "  model.fit(X_train,y_train)\n"
          ]
        },
        {
          "output_type": "stream",
          "name": "stdout",
          "text": [
            "Number of Trees used :  100\n",
            "\n",
            "Target on train data [       0       59        0      195     5863      722        0     1358\n",
            "      105        1   542073        1    34670        0        0     2118\n",
            "    31182        0      265      812      228      316    39867      815\n",
            "      167       59      309        1        0        0   669987      505\n",
            "        1       70        0      159      427     1152        0       38\n",
            "      417      159      166        0        1      229       37      711\n",
            "      228      143      267      984      490        0        0       87\n",
            "     2756        0      802    19512      417       96        0      494\n",
            "      244        1        0        0      228      622        1      105\n",
            "      228       18      606        0      539      158     8578        0\n",
            "     2719        0        0      133        0        1       37        0\n",
            "       34      228      105        0       34        0        0    27477\n",
            "       34      428      446      316       34        1      494       59\n",
            "      265      744     4594       34 12397719      272      393        0\n",
            "        0        0        1      617        0        0      244        0\n",
            "  5315651       38      428       34      228      159        4        0\n",
            "       34   121354       34        0     1204      335       18     1057\n",
            "     8711     3551       18        1        0      309        0      244\n",
            "    18515        0      206      265      815    18842 15338538       37\n",
            "     5863        0      105      105      634        1     1113        0\n",
            "      346      738   890969      195      358      834       70        0\n",
            "        0    12033       56        0      446      139       34        0\n",
            "      428     1439      738        0        0      109       59      162\n",
            "        1      505    11204       38        1      159        0        0\n",
            "      159       96     1456        0        0        0        0        0\n",
            "      355        0        0        0     2338       59      167        0\n",
            "       87      106    11204        0      414        0      916        1\n",
            "       37      143       18   732075        0        1       47       38\n",
            "        1        0  6741307      834      162        0   205558     1188\n",
            "      533        0      741      335      267      781      272   361853\n",
            "      537        1     1798     2441      881        0        0        0\n",
            "        0      167     4347      834      417        0        0     1383\n",
            "      309      759        0       18     8578        0        0     1000\n",
            "        0      309       37       34        1       18        0     2487\n",
            "        0      159      228        0      158     3003       18     1261\n",
            "     2556     5282     1312        1      617        0       37      419\n",
            "     2598     1000      650      162        0      106    91446      446\n",
            "     1068    17303        0      228       37      404        0      228\n",
            "      272     3678      309        0       37        0     7217       34\n",
            "      617     2284      105     5863       34       34       34        0\n",
            "        0     1167        0        0      105     2441      673       59\n",
            "        0      748      105      358      533     1267       34       34\n",
            "        8        0        1      399     1456    12945       37      105\n",
            "      309]\n"
          ]
        }
      ]
    },
    {
      "cell_type": "code",
      "source": [
        "accuracy_train = accuracy_score(y_train,predict_train)\n",
        "print('\\naccuracy_score on train dataset : ', accuracy_train)\n",
        "# predict the target on the test dataset\n",
        "predict_test = model.predict(X_test)\n",
        "print('\\nTarget on test data',predict_test) "
      ],
      "metadata": {
        "colab": {
          "base_uri": "https://localhost:8080/"
        },
        "id": "9n2JDHBT0R6g",
        "outputId": "40c8ee9b-15dd-44e0-8188-8d792e15c18b"
      },
      "execution_count": null,
      "outputs": [
        {
          "output_type": "stream",
          "name": "stdout",
          "text": [
            "\n",
            "accuracy_score on train dataset :  0.42028985507246375\n",
            "\n",
            "Target on test data [     358      106        0      446       59      105      105     1456\n",
            "        0      834        1        0     3551        0    27477       96\n",
            "        0        1      446      358        0        0        0        0\n",
            "     7217       38     1068        0      105      748      158       96\n",
            "      195       38  5315651      414        0      759      228     1057\n",
            "       37       37        0        0      722       70      265     1057\n",
            "      272        1      414      404      404        0        0     2756\n",
            "        0      404      414        1      229     1057        8      404\n",
            "      159      815       37       59      722        0        0       34\n",
            "      802        0      446       34   542073      505      738    19512\n",
            "        0        1        0       18        0        0     3003      617\n",
            "       38        0        1     2598      428    91446      272       18\n",
            "      228      195       34      335     1204      606        0     1000\n",
            "        0      143        0      167        0      158      167     8578\n",
            "   542073  6741307        0        8      228      722        0      494\n",
            "        0      606        0        0       37     1358        0      272\n",
            "       34        0      159        0        0        0        0      244\n",
            "        0      399     5282      228       18        0        0       37\n",
            "     1267        0        0      166        0      494      414       18\n",
            "     1167      711        0        0      539        0       34        0\n",
            "      158 15338538       18      228 15338538        0      167        1\n",
            "      428      358        0      167      158        0    18515        0\n",
            "      166        0        0      244    11204        0      741      109\n",
            "        0      109      358      802    17303      533      309    18515\n",
            "        0     2118     4347        0      399       38      159      399\n",
            "       18      309      916        0      738      399       59        0\n",
            "      533     4594        0        0        0      399      358        0\n",
            "     1204        0        0        0       34        0      106    11204\n",
            "       38       38     3551      228     1167      309        0]\n"
          ]
        }
      ]
    },
    {
      "cell_type": "code",
      "source": [
        "accuracy_test = accuracy_score(y_test,predict_test)\n",
        "print('\\naccuracy_score on test dataset : ', accuracy_test)\n"
      ],
      "metadata": {
        "colab": {
          "base_uri": "https://localhost:8080/"
        },
        "id": "Br1B4f-f0bCP",
        "outputId": "ca9ca842-c817-4370-e00e-63db3edfb723"
      },
      "execution_count": null,
      "outputs": [
        {
          "output_type": "stream",
          "name": "stdout",
          "text": [
            "\n",
            "accuracy_score on test dataset :  0.047619047619047616\n"
          ]
        }
      ]
    },
    {
      "cell_type": "code",
      "source": [
        "from sklearn.neighbors import KNeighborsClassifier\n",
        "classifier = KNeighborsClassifier(n_neighbors=5)\n",
        "classifier.fit(X_train, y_train)\n",
        "y_pred = classifier.predict(X_test)\n",
        "y_pred"
      ],
      "metadata": {
        "colab": {
          "base_uri": "https://localhost:8080/"
        },
        "id": "x6Tc1aI600Hc",
        "outputId": "95ff2fec-73e6-44bf-dd96-218840b6d056"
      },
      "execution_count": null,
      "outputs": [
        {
          "output_type": "stream",
          "name": "stderr",
          "text": [
            "/usr/local/lib/python3.8/dist-packages/sklearn/neighbors/_classification.py:198: DataConversionWarning: A column-vector y was passed when a 1d array was expected. Please change the shape of y to (n_samples,), for example using ravel().\n",
            "  return self._fit(X, y)\n"
          ]
        },
        {
          "output_type": "execute_result",
          "data": {
            "text/plain": [
              "array([  56,   60,   15,   60,    5,   40,   40,  229,   15,  177,    3,\n",
              "         15,  399,   15,  744,    0,   15,    3,   47,   56,   15,   15,\n",
              "         15,   15,  139,   38,  195,   15,   40,  414,   65,    0,  109,\n",
              "         38, 2338,  414,   15,  346,    7,  346,   21,   21,   15,   15,\n",
              "        272,   70,  265,  346,  272,    3,  414,  404,  404,   15,   15,\n",
              "        139,   15,  404,  414,    3,  229,  346,    8,  404,   59,  106,\n",
              "         21,    5,  272,   15,   15,   12,  265,   15,   47,   12, 2719,\n",
              "          8,  186,  414,   15,    3,   15,   18,   15,   15, 1267,   45,\n",
              "         38,   15,    3,  272,  178, 2338,  272,   18,    7,  109,   12,\n",
              "         82,    8,  109,   15,  166,   15,  143,   15,  167,   15,   65,\n",
              "        167,  133, 2719,  537,   15,    8,    7,  272,   15,  177,   15,\n",
              "        109,   15,   15,   21,  244,   15,  272,   12,   15,   59,   15,\n",
              "         15,   15,   15,  244,   15,  244,  622,    7,   18,   15,   15,\n",
              "         21, 1267,   15,   15,   82,   15,  265,  414,   18,  404,    8,\n",
              "         15,   15,   87,   15,   12,   15,   65,  133,   18,    7,  133,\n",
              "         15,  167,    3,  178,   56,   15,  167,   65,   15, 2719,   15,\n",
              "         82,   15,   15,  244,  109,   15,  265,  109,   15,  109,   56,\n",
              "        265, 1312,   87,   48, 2719,   15,  229,  881,   15,  244,   38,\n",
              "         59,  244,   18,   48,    4,   15,  186,  399,    5,   15,   87,\n",
              "        139,   15,   15,   15,  244,   56,   15,   82,   15,   15,   15,\n",
              "         12,   15,  106,  109,   38,   38,  272,    7,  404,   48,   15])"
            ]
          },
          "metadata": {},
          "execution_count": 73
        }
      ]
    },
    {
      "cell_type": "code",
      "execution_count": null,
      "metadata": {
        "id": "EhFqf0DZ3Lpz"
      },
      "outputs": [],
      "source": []
    },
    {
      "cell_type": "code",
      "source": [],
      "metadata": {
        "id": "Pic62wZT4Jdy"
      },
      "execution_count": null,
      "outputs": []
    }
  ]
}