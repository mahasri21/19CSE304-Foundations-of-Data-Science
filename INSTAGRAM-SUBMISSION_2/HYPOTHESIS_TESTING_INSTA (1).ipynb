{
  "nbformat": 4,
  "nbformat_minor": 0,
  "metadata": {
    "colab": {
      "provenance": []
    },
    "kernelspec": {
      "name": "python3",
      "display_name": "Python 3"
    },
    "language_info": {
      "name": "python"
    }
  },
  "cells": [
    {
      "cell_type": "code",
      "source": [
        "import numpy as np\n",
        "import numpy.random as npr\n",
        "import scipy.stats as st"
      ],
      "metadata": {
        "id": "RF4e1NG84aSS"
      },
      "execution_count": 2,
      "outputs": []
    },
    {
      "cell_type": "code",
      "source": [
        "#H0= mu=10 ,ha:mu!=10\n",
        "n=20\n",
        "xbar=9\n",
        "mu=10\n",
        "sigma=5.54\n",
        "alpha=0.05"
      ],
      "metadata": {
        "id": "bsKd4XJP9ByD"
      },
      "execution_count": 1,
      "outputs": []
    },
    {
      "cell_type": "code",
      "source": [
        "z=(xbar-mu)/(sigma/np.sqrt(n))\n",
        "z"
      ],
      "metadata": {
        "colab": {
          "base_uri": "https://localhost:8080/"
        },
        "id": "Dc5VirnwUMVA",
        "outputId": "6853375f-897d-4f97-959f-4c6e33bff519"
      },
      "execution_count": 3,
      "outputs": [
        {
          "output_type": "execute_result",
          "data": {
            "text/plain": [
              "-0.8072447572201407"
            ]
          },
          "metadata": {},
          "execution_count": 3
        }
      ]
    },
    {
      "cell_type": "code",
      "source": [
        "z_critical = st.norm.ppf(alpha/2)\n",
        "print(f'z-critical value is {z_critical}')"
      ],
      "metadata": {
        "colab": {
          "base_uri": "https://localhost:8080/"
        },
        "id": "ZuVfYKWoUloo",
        "outputId": "afd4cbbb-ce5d-42e3-df56-63160967d154"
      },
      "execution_count": 7,
      "outputs": [
        {
          "output_type": "stream",
          "name": "stdout",
          "text": [
            "z-critical value is -1.9599639845400545\n"
          ]
        }
      ]
    },
    {
      "cell_type": "code",
      "source": [
        "if ( z > z_critical and z <abs(z_critical)):\n",
        "    print(\"Null hypothesis cannot be rejected\")\n",
        "else:\n",
        "    print(\"Reject null hypothesis\")"
      ],
      "metadata": {
        "colab": {
          "base_uri": "https://localhost:8080/"
        },
        "id": "GUAic0AjUcVR",
        "outputId": "0724fff0-83a4-447e-b290-00c4c6957695"
      },
      "execution_count": 8,
      "outputs": [
        {
          "output_type": "stream",
          "name": "stdout",
          "text": [
            "Null hypothesis cannot be rejected\n"
          ]
        }
      ]
    }
  ]
}